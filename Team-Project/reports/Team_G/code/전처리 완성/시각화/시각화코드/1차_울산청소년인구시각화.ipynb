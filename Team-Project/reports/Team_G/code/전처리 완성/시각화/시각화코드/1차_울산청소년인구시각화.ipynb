{
 "cells": [
  {
   "cell_type": "code",
   "execution_count": 47,
   "metadata": {},
   "outputs": [],
   "source": [
    "import pandas as pd\n",
    "import numpy as np\n",
    "import seaborn as sns\n",
    "import matplotlib.pyplot as plt"
   ]
  },
  {
   "cell_type": "code",
   "execution_count": 53,
   "metadata": {},
   "outputs": [],
   "source": [
    "from matplotlib import font_manager, rc\n",
    "font_name = font_manager.FontProperties(fname=\"C:/Windows/Fonts/MALGUN.TTF\").get_name()\n",
    "rc('font', family=font_name)\n",
    "\n",
    "sns.set()\n",
    "sns.set_style('whitegrid')\n",
    "sns.set_color_codes()"
   ]
  },
  {
   "cell_type": "code",
   "execution_count": 60,
   "metadata": {},
   "outputs": [],
   "source": [
    "rc('font', family=font_name)\n",
    "%matplotlib inline\n",
    "plt.rcParams['figure.figsize'] = (15,8)"
   ]
  },
  {
   "cell_type": "code",
   "execution_count": 21,
   "metadata": {},
   "outputs": [],
   "source": [
    "ulsan = pd.read_excel('./data/6대광역시_통계표.xlsx', encoding='EUC-KR',index=False)"
   ]
  },
  {
   "cell_type": "code",
   "execution_count": 22,
   "metadata": {},
   "outputs": [],
   "source": [
    "ulsan = ulsan[71:76]"
   ]
  },
  {
   "cell_type": "code",
   "execution_count": 23,
   "metadata": {},
   "outputs": [],
   "source": [
    "ulsan['행정구역별'] = '울산광역시'"
   ]
  },
  {
   "cell_type": "code",
   "execution_count": 24,
   "metadata": {},
   "outputs": [],
   "source": [
    "ulsan = ulsan.drop(73,axis=0)"
   ]
  },
  {
   "cell_type": "code",
   "execution_count": 25,
   "metadata": {},
   "outputs": [
    {
     "data": {
      "text/html": [
       "<div>\n",
       "<style scoped>\n",
       "    .dataframe tbody tr th:only-of-type {\n",
       "        vertical-align: middle;\n",
       "    }\n",
       "\n",
       "    .dataframe tbody tr th {\n",
       "        vertical-align: top;\n",
       "    }\n",
       "\n",
       "    .dataframe thead th {\n",
       "        text-align: right;\n",
       "    }\n",
       "</style>\n",
       "<table border=\"1\" class=\"dataframe\">\n",
       "  <thead>\n",
       "    <tr style=\"text-align: right;\">\n",
       "      <th></th>\n",
       "      <th>행정구역별</th>\n",
       "      <th>연령별</th>\n",
       "      <th>2010</th>\n",
       "      <th>2011</th>\n",
       "      <th>2012</th>\n",
       "      <th>2013</th>\n",
       "      <th>2014</th>\n",
       "      <th>2019</th>\n",
       "      <th>2024</th>\n",
       "      <th>2029</th>\n",
       "      <th>2034</th>\n",
       "    </tr>\n",
       "  </thead>\n",
       "  <tbody>\n",
       "    <tr>\n",
       "      <th>71</th>\n",
       "      <td>울산광역시</td>\n",
       "      <td>0-4세</td>\n",
       "      <td>55826</td>\n",
       "      <td>57369</td>\n",
       "      <td>57990</td>\n",
       "      <td>56789</td>\n",
       "      <td>56212</td>\n",
       "      <td>51602</td>\n",
       "      <td>49719</td>\n",
       "      <td>49104</td>\n",
       "      <td>45230</td>\n",
       "    </tr>\n",
       "    <tr>\n",
       "      <th>72</th>\n",
       "      <td>울산광역시</td>\n",
       "      <td>5-9세</td>\n",
       "      <td>59939</td>\n",
       "      <td>55901</td>\n",
       "      <td>54906</td>\n",
       "      <td>55370</td>\n",
       "      <td>55095</td>\n",
       "      <td>55285</td>\n",
       "      <td>51182</td>\n",
       "      <td>49436</td>\n",
       "      <td>48617</td>\n",
       "    </tr>\n",
       "    <tr>\n",
       "      <th>74</th>\n",
       "      <td>울산광역시</td>\n",
       "      <td>10-14세</td>\n",
       "      <td>82320</td>\n",
       "      <td>78992</td>\n",
       "      <td>73947</td>\n",
       "      <td>68674</td>\n",
       "      <td>64153</td>\n",
       "      <td>54129</td>\n",
       "      <td>54297</td>\n",
       "      <td>50463</td>\n",
       "      <td>48797</td>\n",
       "    </tr>\n",
       "    <tr>\n",
       "      <th>75</th>\n",
       "      <td>울산광역시</td>\n",
       "      <td>15-19세</td>\n",
       "      <td>82726</td>\n",
       "      <td>86222</td>\n",
       "      <td>87904</td>\n",
       "      <td>86341</td>\n",
       "      <td>83558</td>\n",
       "      <td>62656</td>\n",
       "      <td>52869</td>\n",
       "      <td>52983</td>\n",
       "      <td>49384</td>\n",
       "    </tr>\n",
       "  </tbody>\n",
       "</table>\n",
       "</div>"
      ],
      "text/plain": [
       "    행정구역별     연령별   2010   2011   2012   2013   2014   2019   2024   2029  \\\n",
       "71  울산광역시    0-4세  55826  57369  57990  56789  56212  51602  49719  49104   \n",
       "72  울산광역시    5-9세  59939  55901  54906  55370  55095  55285  51182  49436   \n",
       "74  울산광역시  10-14세  82320  78992  73947  68674  64153  54129  54297  50463   \n",
       "75  울산광역시  15-19세  82726  86222  87904  86341  83558  62656  52869  52983   \n",
       "\n",
       "     2034  \n",
       "71  45230  \n",
       "72  48617  \n",
       "74  48797  \n",
       "75  49384  "
      ]
     },
     "execution_count": 25,
     "metadata": {},
     "output_type": "execute_result"
    }
   ],
   "source": [
    "ulsan.head()"
   ]
  },
  {
   "cell_type": "code",
   "execution_count": 26,
   "metadata": {},
   "outputs": [],
   "source": [
    "#sns.barplot(x='연령별',y='2010',data=ulsan,palette='Greys')\n",
    "#sns.barplot(x='연령별',y='2019',data=ulsan,palette='Blues')\n",
    "#sns.barplot(x='연령별',y='2034',data=ulsan,palette='Pastel2')\n",
    "#plt.show()"
   ]
  },
  {
   "cell_type": "code",
   "execution_count": 27,
   "metadata": {},
   "outputs": [],
   "source": [
    "#sns.barplot(x='연령별',y='2010',data=ulsan,palette='Pastel2')\n",
    "#plt.show()"
   ]
  },
  {
   "cell_type": "code",
   "execution_count": 62,
   "metadata": {},
   "outputs": [],
   "source": [
    "plt.rcParams.update({'font.size': 12})"
   ]
  },
  {
   "cell_type": "code",
   "execution_count": 64,
   "metadata": {},
   "outputs": [
    {
     "data": {
      "image/png": "[encoded data removed]",
      "text/plain": [
       "<Figure size 1080x576 with 1 Axes>"
      ]
     },
     "metadata": {
      "needs_background": "light"
     },
     "output_type": "display_data"
    }
   ],
   "source": [
    "plt.plot('연령별','2010',data=ulsan,marker='o',color='rosybrown')\n",
    "plt.plot('연령별','2019',data=ulsan,marker='x',color='palegreen')\n",
    "plt.plot('연령별','2029',data=ulsan,marker='o',color='powderblue')\n",
    "plt.plot('연령별','2034',data=ulsan,marker='x',color='indigo')\n",
    "plt.ylabel('영유아/청소년 인구수')\n",
    "plt.xlabel('연령대')\n",
    "plt.legend()\n",
    "plt.show()\n"
   ]
  },
  {
   "cell_type": "code",
   "execution_count": null,
   "metadata": {},
   "outputs": [],
   "source": []
  }
 ],
 "metadata": {
  "kernelspec": {
   "display_name": "Python 3",
   "language": "python",
   "name": "python3"
  },
  "language_info": {
   "codemirror_mode": {
    "name": "ipython",
    "version": 3
   },
   "file_extension": ".py",
   "mimetype": "text/x-python",
   "name": "python",
   "nbconvert_exporter": "python",
   "pygments_lexer": "ipython3",
   "version": "3.7.3"
  }
 },
 "nbformat": 4,
 "nbformat_minor": 2
}
