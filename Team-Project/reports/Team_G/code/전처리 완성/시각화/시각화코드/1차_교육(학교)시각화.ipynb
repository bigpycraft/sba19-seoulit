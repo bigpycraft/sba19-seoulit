{
 "cells": [
  {
   "cell_type": "code",
   "execution_count": 1,
   "metadata": {},
   "outputs": [],
   "source": [
    "import numpy as np\n",
    "import pandas as pd\n",
    "import seaborn as sns\n",
    "import matplotlib.pyplot as plt"
   ]
  },
  {
   "cell_type": "code",
   "execution_count": 2,
   "metadata": {},
   "outputs": [],
   "source": [
    "pop = pd.read_csv('../data/population_Final.csv', encoding='EUC-KR')"
   ]
  },
  {
   "cell_type": "code",
   "execution_count": 3,
   "metadata": {},
   "outputs": [
    {
     "data": {
      "text/html": [
       "<div>\n",
       "<style scoped>\n",
       "    .dataframe tbody tr th:only-of-type {\n",
       "        vertical-align: middle;\n",
       "    }\n",
       "\n",
       "    .dataframe tbody tr th {\n",
       "        vertical-align: top;\n",
       "    }\n",
       "\n",
       "    .dataframe thead th {\n",
       "        text-align: right;\n",
       "    }\n",
       "</style>\n",
       "<table border=\"1\" class=\"dataframe\">\n",
       "  <thead>\n",
       "    <tr style=\"text-align: right;\">\n",
       "      <th></th>\n",
       "      <th>행정구역</th>\n",
       "      <th>인구수</th>\n",
       "    </tr>\n",
       "  </thead>\n",
       "  <tbody>\n",
       "    <tr>\n",
       "      <td>0</td>\n",
       "      <td>전체</td>\n",
       "      <td>51349072</td>\n",
       "    </tr>\n",
       "    <tr>\n",
       "      <td>1</td>\n",
       "      <td>서울</td>\n",
       "      <td>9577030</td>\n",
       "    </tr>\n",
       "    <tr>\n",
       "      <td>2</td>\n",
       "      <td>부산</td>\n",
       "      <td>3385964</td>\n",
       "    </tr>\n",
       "    <tr>\n",
       "      <td>3</td>\n",
       "      <td>대구</td>\n",
       "      <td>2927925</td>\n",
       "    </tr>\n",
       "    <tr>\n",
       "      <td>4</td>\n",
       "      <td>인천</td>\n",
       "      <td>2428301</td>\n",
       "    </tr>\n",
       "  </tbody>\n",
       "</table>\n",
       "</div>"
      ],
      "text/plain": [
       "  행정구역       인구수\n",
       "0   전체  51349072\n",
       "1   서울   9577030\n",
       "2   부산   3385964\n",
       "3   대구   2927925\n",
       "4   인천   2428301"
      ]
     },
     "execution_count": 3,
     "metadata": {},
     "output_type": "execute_result"
    }
   ],
   "source": [
    "pop.head()"
   ]
  },
  {
   "cell_type": "markdown",
   "metadata": {},
   "source": [
    "## 지역별 교육 시각화"
   ]
  },
  {
   "cell_type": "code",
   "execution_count": 4,
   "metadata": {},
   "outputs": [],
   "source": [
    "sns.set()\n",
    "sns.set_style('whitegrid')\n",
    "sns.set_color_codes()\n",
    "from matplotlib import font_manager, rc\n",
    "\n",
    "font_name = font_manager.FontProperties(fname=\"C:/Windows/Fonts/MALGUN.TTF\").get_name()\n",
    "rc('font', family=font_name)\n",
    "plt.rcParams['figure.figsize'] = (15,10)\n",
    "%matplotlib inline"
   ]
  },
  {
   "cell_type": "code",
   "execution_count": 5,
   "metadata": {},
   "outputs": [],
   "source": [
    "scl = pd.read_excel('../data/교육_최종.xlsx',encoding='EUC-KR')"
   ]
  },
  {
   "cell_type": "code",
   "execution_count": 6,
   "metadata": {},
   "outputs": [
    {
     "data": {
      "text/html": [
       "<div>\n",
       "<style scoped>\n",
       "    .dataframe tbody tr th:only-of-type {\n",
       "        vertical-align: middle;\n",
       "    }\n",
       "\n",
       "    .dataframe tbody tr th {\n",
       "        vertical-align: top;\n",
       "    }\n",
       "\n",
       "    .dataframe thead th {\n",
       "        text-align: right;\n",
       "    }\n",
       "</style>\n",
       "<table border=\"1\" class=\"dataframe\">\n",
       "  <thead>\n",
       "    <tr style=\"text-align: right;\">\n",
       "      <th></th>\n",
       "      <th>지역</th>\n",
       "      <th>고등학교</th>\n",
       "      <th>중학교</th>\n",
       "      <th>초등학교</th>\n",
       "      <th>합계</th>\n",
       "    </tr>\n",
       "  </thead>\n",
       "  <tbody>\n",
       "    <tr>\n",
       "      <td>0</td>\n",
       "      <td>광주</td>\n",
       "      <td>67</td>\n",
       "      <td>90</td>\n",
       "      <td>154</td>\n",
       "      <td>311</td>\n",
       "    </tr>\n",
       "    <tr>\n",
       "      <td>1</td>\n",
       "      <td>대구</td>\n",
       "      <td>93</td>\n",
       "      <td>125</td>\n",
       "      <td>229</td>\n",
       "      <td>447</td>\n",
       "    </tr>\n",
       "    <tr>\n",
       "      <td>2</td>\n",
       "      <td>대전</td>\n",
       "      <td>62</td>\n",
       "      <td>88</td>\n",
       "      <td>148</td>\n",
       "      <td>298</td>\n",
       "    </tr>\n",
       "    <tr>\n",
       "      <td>3</td>\n",
       "      <td>부산</td>\n",
       "      <td>143</td>\n",
       "      <td>174</td>\n",
       "      <td>305</td>\n",
       "      <td>622</td>\n",
       "    </tr>\n",
       "    <tr>\n",
       "      <td>4</td>\n",
       "      <td>서울</td>\n",
       "      <td>320</td>\n",
       "      <td>385</td>\n",
       "      <td>603</td>\n",
       "      <td>1308</td>\n",
       "    </tr>\n",
       "    <tr>\n",
       "      <td>5</td>\n",
       "      <td>울산</td>\n",
       "      <td>57</td>\n",
       "      <td>63</td>\n",
       "      <td>117</td>\n",
       "      <td>237</td>\n",
       "    </tr>\n",
       "    <tr>\n",
       "      <td>6</td>\n",
       "      <td>인천</td>\n",
       "      <td>125</td>\n",
       "      <td>134</td>\n",
       "      <td>249</td>\n",
       "      <td>508</td>\n",
       "    </tr>\n",
       "    <tr>\n",
       "      <td>7</td>\n",
       "      <td>전체</td>\n",
       "      <td>867</td>\n",
       "      <td>1059</td>\n",
       "      <td>1805</td>\n",
       "      <td>3731</td>\n",
       "    </tr>\n",
       "  </tbody>\n",
       "</table>\n",
       "</div>"
      ],
      "text/plain": [
       "   지역  고등학교   중학교  초등학교    합계\n",
       "0  광주    67    90   154   311\n",
       "1  대구    93   125   229   447\n",
       "2  대전    62    88   148   298\n",
       "3  부산   143   174   305   622\n",
       "4  서울   320   385   603  1308\n",
       "5  울산    57    63   117   237\n",
       "6  인천   125   134   249   508\n",
       "7  전체   867  1059  1805  3731"
      ]
     },
     "execution_count": 6,
     "metadata": {},
     "output_type": "execute_result"
    }
   ],
   "source": [
    "scl"
   ]
  },
  {
   "cell_type": "code",
   "execution_count": 7,
   "metadata": {},
   "outputs": [],
   "source": [
    "scl = scl.rename(columns={'지역' : '행정구역'})"
   ]
  },
  {
   "cell_type": "code",
   "execution_count": 8,
   "metadata": {},
   "outputs": [],
   "source": [
    "scl = pd.merge(scl,pop, on= '행정구역')"
   ]
  },
  {
   "cell_type": "code",
   "execution_count": 9,
   "metadata": {},
   "outputs": [
    {
     "data": {
      "text/html": [
       "<div>\n",
       "<style scoped>\n",
       "    .dataframe tbody tr th:only-of-type {\n",
       "        vertical-align: middle;\n",
       "    }\n",
       "\n",
       "    .dataframe tbody tr th {\n",
       "        vertical-align: top;\n",
       "    }\n",
       "\n",
       "    .dataframe thead th {\n",
       "        text-align: right;\n",
       "    }\n",
       "</style>\n",
       "<table border=\"1\" class=\"dataframe\">\n",
       "  <thead>\n",
       "    <tr style=\"text-align: right;\">\n",
       "      <th></th>\n",
       "      <th>행정구역</th>\n",
       "      <th>고등학교</th>\n",
       "      <th>중학교</th>\n",
       "      <th>초등학교</th>\n",
       "      <th>합계</th>\n",
       "      <th>인구수</th>\n",
       "    </tr>\n",
       "  </thead>\n",
       "  <tbody>\n",
       "    <tr>\n",
       "      <td>0</td>\n",
       "      <td>광주</td>\n",
       "      <td>67</td>\n",
       "      <td>90</td>\n",
       "      <td>154</td>\n",
       "      <td>311</td>\n",
       "      <td>1469981</td>\n",
       "    </tr>\n",
       "    <tr>\n",
       "      <td>1</td>\n",
       "      <td>대구</td>\n",
       "      <td>93</td>\n",
       "      <td>125</td>\n",
       "      <td>229</td>\n",
       "      <td>447</td>\n",
       "      <td>2927925</td>\n",
       "    </tr>\n",
       "    <tr>\n",
       "      <td>2</td>\n",
       "      <td>대전</td>\n",
       "      <td>62</td>\n",
       "      <td>88</td>\n",
       "      <td>148</td>\n",
       "      <td>298</td>\n",
       "      <td>1450439</td>\n",
       "    </tr>\n",
       "    <tr>\n",
       "      <td>3</td>\n",
       "      <td>부산</td>\n",
       "      <td>143</td>\n",
       "      <td>174</td>\n",
       "      <td>305</td>\n",
       "      <td>622</td>\n",
       "      <td>3385964</td>\n",
       "    </tr>\n",
       "    <tr>\n",
       "      <td>4</td>\n",
       "      <td>서울</td>\n",
       "      <td>320</td>\n",
       "      <td>385</td>\n",
       "      <td>603</td>\n",
       "      <td>1308</td>\n",
       "      <td>9577030</td>\n",
       "    </tr>\n",
       "    <tr>\n",
       "      <td>5</td>\n",
       "      <td>울산</td>\n",
       "      <td>57</td>\n",
       "      <td>63</td>\n",
       "      <td>117</td>\n",
       "      <td>237</td>\n",
       "      <td>1144299</td>\n",
       "    </tr>\n",
       "    <tr>\n",
       "      <td>6</td>\n",
       "      <td>인천</td>\n",
       "      <td>125</td>\n",
       "      <td>134</td>\n",
       "      <td>249</td>\n",
       "      <td>508</td>\n",
       "      <td>2428301</td>\n",
       "    </tr>\n",
       "    <tr>\n",
       "      <td>7</td>\n",
       "      <td>전체</td>\n",
       "      <td>867</td>\n",
       "      <td>1059</td>\n",
       "      <td>1805</td>\n",
       "      <td>3731</td>\n",
       "      <td>51349072</td>\n",
       "    </tr>\n",
       "  </tbody>\n",
       "</table>\n",
       "</div>"
      ],
      "text/plain": [
       "  행정구역  고등학교   중학교  초등학교    합계       인구수\n",
       "0   광주    67    90   154   311   1469981\n",
       "1   대구    93   125   229   447   2927925\n",
       "2   대전    62    88   148   298   1450439\n",
       "3   부산   143   174   305   622   3385964\n",
       "4   서울   320   385   603  1308   9577030\n",
       "5   울산    57    63   117   237   1144299\n",
       "6   인천   125   134   249   508   2428301\n",
       "7   전체   867  1059  1805  3731  51349072"
      ]
     },
     "execution_count": 9,
     "metadata": {},
     "output_type": "execute_result"
    }
   ],
   "source": [
    "scl"
   ]
  },
  {
   "cell_type": "code",
   "execution_count": 10,
   "metadata": {},
   "outputs": [],
   "source": [
    "scl = scl.drop(7, axis=0)"
   ]
  },
  {
   "cell_type": "code",
   "execution_count": 11,
   "metadata": {},
   "outputs": [
    {
     "data": {
      "text/html": [
       "<div>\n",
       "<style scoped>\n",
       "    .dataframe tbody tr th:only-of-type {\n",
       "        vertical-align: middle;\n",
       "    }\n",
       "\n",
       "    .dataframe tbody tr th {\n",
       "        vertical-align: top;\n",
       "    }\n",
       "\n",
       "    .dataframe thead th {\n",
       "        text-align: right;\n",
       "    }\n",
       "</style>\n",
       "<table border=\"1\" class=\"dataframe\">\n",
       "  <thead>\n",
       "    <tr style=\"text-align: right;\">\n",
       "      <th></th>\n",
       "      <th>행정구역</th>\n",
       "      <th>고등학교</th>\n",
       "      <th>중학교</th>\n",
       "      <th>초등학교</th>\n",
       "      <th>합계</th>\n",
       "      <th>인구수</th>\n",
       "      <th>지역 고등학교 비율</th>\n",
       "    </tr>\n",
       "  </thead>\n",
       "  <tbody>\n",
       "    <tr>\n",
       "      <td>0</td>\n",
       "      <td>광주</td>\n",
       "      <td>67</td>\n",
       "      <td>90</td>\n",
       "      <td>154</td>\n",
       "      <td>311</td>\n",
       "      <td>1469981</td>\n",
       "      <td>7.727797</td>\n",
       "    </tr>\n",
       "    <tr>\n",
       "      <td>1</td>\n",
       "      <td>대구</td>\n",
       "      <td>93</td>\n",
       "      <td>125</td>\n",
       "      <td>229</td>\n",
       "      <td>447</td>\n",
       "      <td>2927925</td>\n",
       "      <td>10.726644</td>\n",
       "    </tr>\n",
       "    <tr>\n",
       "      <td>2</td>\n",
       "      <td>대전</td>\n",
       "      <td>62</td>\n",
       "      <td>88</td>\n",
       "      <td>148</td>\n",
       "      <td>298</td>\n",
       "      <td>1450439</td>\n",
       "      <td>7.151096</td>\n",
       "    </tr>\n",
       "    <tr>\n",
       "      <td>3</td>\n",
       "      <td>부산</td>\n",
       "      <td>143</td>\n",
       "      <td>174</td>\n",
       "      <td>305</td>\n",
       "      <td>622</td>\n",
       "      <td>3385964</td>\n",
       "      <td>16.493656</td>\n",
       "    </tr>\n",
       "    <tr>\n",
       "      <td>4</td>\n",
       "      <td>서울</td>\n",
       "      <td>320</td>\n",
       "      <td>385</td>\n",
       "      <td>603</td>\n",
       "      <td>1308</td>\n",
       "      <td>9577030</td>\n",
       "      <td>36.908881</td>\n",
       "    </tr>\n",
       "    <tr>\n",
       "      <td>5</td>\n",
       "      <td>울산</td>\n",
       "      <td>57</td>\n",
       "      <td>63</td>\n",
       "      <td>117</td>\n",
       "      <td>237</td>\n",
       "      <td>1144299</td>\n",
       "      <td>6.574394</td>\n",
       "    </tr>\n",
       "    <tr>\n",
       "      <td>6</td>\n",
       "      <td>인천</td>\n",
       "      <td>125</td>\n",
       "      <td>134</td>\n",
       "      <td>249</td>\n",
       "      <td>508</td>\n",
       "      <td>2428301</td>\n",
       "      <td>14.417532</td>\n",
       "    </tr>\n",
       "  </tbody>\n",
       "</table>\n",
       "</div>"
      ],
      "text/plain": [
       "  행정구역  고등학교  중학교  초등학교    합계      인구수  지역 고등학교 비율\n",
       "0   광주    67   90   154   311  1469981    7.727797\n",
       "1   대구    93  125   229   447  2927925   10.726644\n",
       "2   대전    62   88   148   298  1450439    7.151096\n",
       "3   부산   143  174   305   622  3385964   16.493656\n",
       "4   서울   320  385   603  1308  9577030   36.908881\n",
       "5   울산    57   63   117   237  1144299    6.574394\n",
       "6   인천   125  134   249   508  2428301   14.417532"
      ]
     },
     "execution_count": 11,
     "metadata": {},
     "output_type": "execute_result"
    }
   ],
   "source": [
    "# 전체 고등학교 지역 분포\n",
    "scl['지역 고등학교 비율'] = scl['고등학교'] / scl['고등학교'].sum() * 100\n",
    "scl"
   ]
  },
  {
   "cell_type": "code",
   "execution_count": 12,
   "metadata": {},
   "outputs": [],
   "source": [
    "scl['지역 중학교 비율'] = scl['중학교'] / scl['중학교'].sum() * 100"
   ]
  },
  {
   "cell_type": "code",
   "execution_count": 13,
   "metadata": {},
   "outputs": [],
   "source": [
    "scl['지역 초등학교 비율'] = scl['초등학교'] / scl['초등학교'].sum() * 100"
   ]
  },
  {
   "cell_type": "code",
   "execution_count": 14,
   "metadata": {},
   "outputs": [
    {
     "data": {
      "text/html": [
       "<div>\n",
       "<style scoped>\n",
       "    .dataframe tbody tr th:only-of-type {\n",
       "        vertical-align: middle;\n",
       "    }\n",
       "\n",
       "    .dataframe tbody tr th {\n",
       "        vertical-align: top;\n",
       "    }\n",
       "\n",
       "    .dataframe thead th {\n",
       "        text-align: right;\n",
       "    }\n",
       "</style>\n",
       "<table border=\"1\" class=\"dataframe\">\n",
       "  <thead>\n",
       "    <tr style=\"text-align: right;\">\n",
       "      <th></th>\n",
       "      <th>행정구역</th>\n",
       "      <th>고등학교</th>\n",
       "      <th>중학교</th>\n",
       "      <th>초등학교</th>\n",
       "      <th>합계</th>\n",
       "      <th>인구수</th>\n",
       "      <th>지역 고등학교 비율</th>\n",
       "      <th>지역 중학교 비율</th>\n",
       "      <th>지역 초등학교 비율</th>\n",
       "      <th>인구대비고등학교수</th>\n",
       "    </tr>\n",
       "  </thead>\n",
       "  <tbody>\n",
       "    <tr>\n",
       "      <td>0</td>\n",
       "      <td>광주</td>\n",
       "      <td>67</td>\n",
       "      <td>90</td>\n",
       "      <td>154</td>\n",
       "      <td>311</td>\n",
       "      <td>1469981</td>\n",
       "      <td>7.727797</td>\n",
       "      <td>8.498584</td>\n",
       "      <td>8.531856</td>\n",
       "      <td>0.002095</td>\n",
       "    </tr>\n",
       "    <tr>\n",
       "      <td>1</td>\n",
       "      <td>대구</td>\n",
       "      <td>93</td>\n",
       "      <td>125</td>\n",
       "      <td>229</td>\n",
       "      <td>447</td>\n",
       "      <td>2927925</td>\n",
       "      <td>10.726644</td>\n",
       "      <td>11.803588</td>\n",
       "      <td>12.686981</td>\n",
       "      <td>0.002908</td>\n",
       "    </tr>\n",
       "    <tr>\n",
       "      <td>2</td>\n",
       "      <td>대전</td>\n",
       "      <td>62</td>\n",
       "      <td>88</td>\n",
       "      <td>148</td>\n",
       "      <td>298</td>\n",
       "      <td>1450439</td>\n",
       "      <td>7.151096</td>\n",
       "      <td>8.309726</td>\n",
       "      <td>8.199446</td>\n",
       "      <td>0.001939</td>\n",
       "    </tr>\n",
       "    <tr>\n",
       "      <td>3</td>\n",
       "      <td>부산</td>\n",
       "      <td>143</td>\n",
       "      <td>174</td>\n",
       "      <td>305</td>\n",
       "      <td>622</td>\n",
       "      <td>3385964</td>\n",
       "      <td>16.493656</td>\n",
       "      <td>16.430595</td>\n",
       "      <td>16.897507</td>\n",
       "      <td>0.004472</td>\n",
       "    </tr>\n",
       "    <tr>\n",
       "      <td>4</td>\n",
       "      <td>서울</td>\n",
       "      <td>320</td>\n",
       "      <td>385</td>\n",
       "      <td>603</td>\n",
       "      <td>1308</td>\n",
       "      <td>9577030</td>\n",
       "      <td>36.908881</td>\n",
       "      <td>36.355052</td>\n",
       "      <td>33.407202</td>\n",
       "      <td>0.010007</td>\n",
       "    </tr>\n",
       "    <tr>\n",
       "      <td>5</td>\n",
       "      <td>울산</td>\n",
       "      <td>57</td>\n",
       "      <td>63</td>\n",
       "      <td>117</td>\n",
       "      <td>237</td>\n",
       "      <td>1144299</td>\n",
       "      <td>6.574394</td>\n",
       "      <td>5.949008</td>\n",
       "      <td>6.481994</td>\n",
       "      <td>0.001783</td>\n",
       "    </tr>\n",
       "    <tr>\n",
       "      <td>6</td>\n",
       "      <td>인천</td>\n",
       "      <td>125</td>\n",
       "      <td>134</td>\n",
       "      <td>249</td>\n",
       "      <td>508</td>\n",
       "      <td>2428301</td>\n",
       "      <td>14.417532</td>\n",
       "      <td>12.653447</td>\n",
       "      <td>13.795014</td>\n",
       "      <td>0.003909</td>\n",
       "    </tr>\n",
       "  </tbody>\n",
       "</table>\n",
       "</div>"
      ],
      "text/plain": [
       "  행정구역  고등학교  중학교  초등학교    합계      인구수  지역 고등학교 비율  지역 중학교 비율  지역 초등학교 비율  \\\n",
       "0   광주    67   90   154   311  1469981    7.727797   8.498584    8.531856   \n",
       "1   대구    93  125   229   447  2927925   10.726644  11.803588   12.686981   \n",
       "2   대전    62   88   148   298  1450439    7.151096   8.309726    8.199446   \n",
       "3   부산   143  174   305   622  3385964   16.493656  16.430595   16.897507   \n",
       "4   서울   320  385   603  1308  9577030   36.908881  36.355052   33.407202   \n",
       "5   울산    57   63   117   237  1144299    6.574394   5.949008    6.481994   \n",
       "6   인천   125  134   249   508  2428301   14.417532  12.653447   13.795014   \n",
       "\n",
       "   인구대비고등학교수  \n",
       "0   0.002095  \n",
       "1   0.002908  \n",
       "2   0.001939  \n",
       "3   0.004472  \n",
       "4   0.010007  \n",
       "5   0.001783  \n",
       "6   0.003909  "
      ]
     },
     "execution_count": 14,
     "metadata": {},
     "output_type": "execute_result"
    }
   ],
   "source": [
    "# 주요도시 평균인구 대비 고등학교 수\n",
    "scl['인구대비고등학교수'] = scl['고등학교'] / scl['인구수'].mean() * 100\n",
    "scl"
   ]
  },
  {
   "cell_type": "code",
   "execution_count": 15,
   "metadata": {},
   "outputs": [],
   "source": [
    "# 주요도시 평균인구 대비 중학교 수\n",
    "scl['인구대비중학교수'] = scl['중학교'] / scl['인구수'].mean() * 100"
   ]
  },
  {
   "cell_type": "code",
   "execution_count": 16,
   "metadata": {},
   "outputs": [],
   "source": [
    "# 주요도시 평균인구 대비 초등학교 수\n",
    "scl['인구대비초등학교수'] = scl['초등학교'] / scl['인구수'].mean() * 100"
   ]
  },
  {
   "cell_type": "markdown",
   "metadata": {},
   "source": [
    "## 학교비율 시각화"
   ]
  },
  {
   "cell_type": "code",
   "execution_count": 25,
   "metadata": {},
   "outputs": [
    {
     "data": {
      "image/png": "[encoded data removed]",
      "text/plain": [
       "<Figure size 432x288 with 1 Axes>"
      ]
     },
     "metadata": {
      "needs_background": "light"
     },
     "output_type": "display_data"
    }
   ],
   "source": [
    "# 전체에서 고등학교가 차지하는 비율\n",
    "\n",
    "sns.barplot(x= '행정구역', y ='지역 고등학교 비율', data=scl.sort_values('지역 고등학교 비율',ascending=False),palette='Pastel1')\n",
    "plt.title = '고등학교비율'\n",
    "plt.show()"
   ]
  },
  {
   "cell_type": "code",
   "execution_count": 26,
   "metadata": {},
   "outputs": [
    {
     "data": {
      "image/png": "[encoded data removed]",
      "text/plain": [
       "<Figure size 432x288 with 1 Axes>"
      ]
     },
     "metadata": {
      "needs_background": "light"
     },
     "output_type": "display_data"
    }
   ],
   "source": [
    "#전체에서 중학교가 차지하는 비율\n",
    "sns.barplot(x= '행정구역', y ='지역 중학교 비율', data=scl.sort_values('지역 중학교 비율',ascending=False),palette='Pastel2')\n",
    "plt.show()"
   ]
  },
  {
   "cell_type": "code",
   "execution_count": 27,
   "metadata": {},
   "outputs": [
    {
     "data": {
      "image/png": "[encoded data removed]",
      "text/plain": [
       "<Figure size 432x288 with 1 Axes>"
      ]
     },
     "metadata": {
      "needs_background": "light"
     },
     "output_type": "display_data"
    }
   ],
   "source": [
    "#전체에서 초등학교가 차지하는 비율\n",
    "sns.barplot(x= '행정구역', y ='지역 초등학교 비율', data=scl.sort_values('지역 초등학교 비율',ascending=False),palette='PuRd')\n",
    "plt.show()"
   ]
  },
  {
   "cell_type": "code",
   "execution_count": 30,
   "metadata": {
    "scrolled": false
   },
   "outputs": [
    {
     "data": {
      "image/png": "[encoded data removed]",
      "text/plain": [
       "<Figure size 1440x504 with 3 Axes>"
      ]
     },
     "metadata": {
      "needs_background": "light"
     },
     "output_type": "display_data"
    }
   ],
   "source": [
    "plt.rcParams[\"figure.figsize\"] = (20,7)\n",
    "\n",
    "plt.subplot(131)\n",
    "sns.barplot(x= '행정구역', y ='지역 고등학교 비율', data=scl.sort_values('지역 고등학교 비율',ascending=False),palette='Pastel1')\n",
    "\n",
    "plt.subplot(132)\n",
    "sns.barplot(x= '행정구역', y ='지역 중학교 비율', data=scl.sort_values('지역 중학교 비율',ascending=False),palette='Pastel2')\n",
    "\n",
    "plt.subplot(133)\n",
    "sns.barplot(x= '행정구역', y ='지역 초등학교 비율', data=scl.sort_values('지역 초등학교 비율',ascending=False),palette='PuRd')\n",
    "\n",
    "plt.show()"
   ]
  },
  {
   "cell_type": "markdown",
   "metadata": {},
   "source": [
    "## 평균인구 대비 교육 인프라 시각화"
   ]
  },
  {
   "cell_type": "code",
   "execution_count": 61,
   "metadata": {},
   "outputs": [
    {
     "data": {
      "image/png": "[encoded data removed]",
      "text/plain": [
       "<Figure size 432x288 with 1 Axes>"
      ]
     },
     "metadata": {
      "needs_background": "light"
     },
     "output_type": "display_data"
    }
   ],
   "source": [
    "# 평균 인구 대비 고등교육 인프라 차이\n",
    "\n",
    "sns.barplot(x= '행정구역', y ='인구대비고등학교수', data=scl.sort_values('인구대비고등학교수',ascending=False))\n",
    "plt.show()"
   ]
  },
  {
   "cell_type": "code",
   "execution_count": 31,
   "metadata": {},
   "outputs": [
    {
     "data": {
      "image/png": "[encoded data removed]",
      "text/plain": [
       "<Figure size 1440x504 with 3 Axes>"
      ]
     },
     "metadata": {
      "needs_background": "light"
     },
     "output_type": "display_data"
    }
   ],
   "source": [
    "plt.rcParams[\"figure.figsize\"] = (20,7)\n",
    "\n",
    "plt.subplot(131)\n",
    "sns.barplot(x= '행정구역', y ='인구대비고등학교수', data=scl.sort_values('인구대비고등학교수',ascending=False),palette='PuRd')\n",
    "\n",
    "plt.subplot(132)\n",
    "sns.barplot(x= '행정구역', y ='인구대비중학교수', data=scl.sort_values('인구대비중학교수',ascending=False),palette='Pastel2')\n",
    "\n",
    "plt.subplot(133)\n",
    "sns.barplot(x= '행정구역', y ='인구대비초등학교수', data=scl.sort_values('인구대비초등학교수',ascending=False),palette='Pastel1')\n",
    "\n",
    "plt.show()"
   ]
  },
  {
   "cell_type": "code",
   "execution_count": 103,
   "metadata": {},
   "outputs": [],
   "source": [
    "scl.to_csv('EDU_LOOK.csv',encoding='EUC-KR')"
   ]
  },
  {
   "cell_type": "code",
   "execution_count": null,
   "metadata": {},
   "outputs": [],
   "source": []
  }
 ],
 "metadata": {
  "kernelspec": {
   "display_name": "Python 3",
   "language": "python",
   "name": "python3"
  },
  "language_info": {
   "codemirror_mode": {
    "name": "ipython",
    "version": 3
   },
   "file_extension": ".py",
   "mimetype": "text/x-python",
   "name": "python",
   "nbconvert_exporter": "python",
   "pygments_lexer": "ipython3",
   "version": "3.7.4"
  }
 },
 "nbformat": 4,
 "nbformat_minor": 2
}
