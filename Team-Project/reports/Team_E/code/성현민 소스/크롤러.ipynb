{
 "cells": [
  {
   "cell_type": "code",
   "execution_count": 1,
   "metadata": {
    "colab": {},
    "colab_type": "code",
    "id": "qfDbZEY0Pdp4"
   },
   "outputs": [],
   "source": [
    "import re\n",
    "import requests\n",
    "from bs4 import BeautifulSoup\n",
    "import pandas as pd\n",
    "from tqdm import tqdm_notebook"
   ]
  },
  {
   "cell_type": "code",
   "execution_count": 27,
   "metadata": {
    "colab": {
     "base_uri": "https://localhost:8080/",
     "height": 971
    },
    "colab_type": "code",
    "id": "odSWcJAEPdp9",
    "outputId": "ba426cc2-c5c0-4dd1-d72a-1a4c00c01ac6"
   },
   "outputs": [
    {
     "name": "stdout",
     "output_type": "stream",
     "text": [
      "1,109건\n"
     ]
    },
    {
     "data": {
      "application/vnd.jupyter.widget-view+json": {
       "model_id": "cab654a99cd444a6a4ecbfafacbb6750",
       "version_major": 2,
       "version_minor": 0
      },
      "text/plain": [
       "HBox(children=(IntProgress(value=0, max=110), HTML(value='')))"
      ]
     },
     "metadata": {},
     "output_type": "display_data"
    },
    {
     "name": "stdout",
     "output_type": "stream",
     "text": [
      "완료\n"
     ]
    }
   ],
   "source": [
    "# 망함 네이버 뉴스는 검색건수 상관없이 4000건만 보여줌\n",
    "keyword=\"일본불매운동\"\n",
    "start_date='2015.05.01'\n",
    "end_date='2015.09.30'\n",
    "# page = 2\n",
    "start_date_1=re.sub('\\.','',start_date)\n",
    "end_date_1=re.sub('\\.','',end_date)\n",
    "# print(start_date_1)\n",
    "\n",
    "url_main = 'https://search.naver.com/search.naver?&where=news&query={keyword}&sm=tab_pge&sort=0&photo=0&field=0&reporter_article=&pd=3&ds={sd}&de={ed}&docid=&nso=so:r,p:from{sd_1}to{ed_1},a:all&mynews=0&cluster_rank=39&start=1&refresh_start=0'.format(keyword=keyword,sd=start_date,ed=end_date,sd_1=start_date_1,ed_1=end_date_1)\n",
    "resp_main = requests.get(url_main)\n",
    "soup_main = BeautifulSoup(resp_main.text, 'lxml')\n",
    "page_num = soup_main.select_one('#main_pack > div.news.mynews.section._prs_nws > div.section_head > div.title_desc.all_my > span').get_text()\n",
    "# print(page_num)\n",
    "page_num = page_num.split(' / ')[1]\n",
    "print(page_num)\n",
    "page_num = re.sub(',','',page_num)\n",
    "page_num = re.sub('건','',page_num)\n",
    "# print(page_num)\n",
    "page = int(page_num)//10 + 1\n",
    "# print(page)\n",
    "Title=[]\n",
    "Contents=[]\n",
    "Date=[]\n",
    "Press=[]\n",
    "\n",
    "news_all=pd.DataFrame()\n",
    "# for i in list(range(1,page)):\n",
    "for i in tqdm_notebook(list(range(1,page))):\n",
    "    i = i* 10\n",
    "    url = 'https://search.naver.com/search.naver?&where=news&query={keyword}&sm=tab_pge&sort=0&photo=0&field=0&reporter_article=&pd=3&ds={sd}&de={ed}&docid=&nso=so:r,p:from{sd_1}to{ed_1},a:all&mynews=0&cluster_rank=39&start={index}&refresh_start=0'.format(keyword=keyword,sd=start_date,ed=end_date,index=i,sd_1=start_date_1,ed_1=end_date_1)\n",
    "    resp = requests.get(url)\n",
    "    soup = BeautifulSoup(resp.text, 'lxml')\n",
    "    news_list = soup.select('li > dl > dd.txt_inline > a') # 뉴스 url\n",
    "    for j in list(range(len(news_list))):\n",
    "        news_url = soup.select('li > dl > dd.txt_inline > a')[j]['href'] # 뉴스 url\n",
    "        news_resp = requests.get(news_url)\n",
    "        news_soup = BeautifulSoup(news_resp.text, 'lxml')\n",
    "        title = news_soup.title.get_text().strip()\n",
    "        title = title.split(': 네이버')[0]\n",
    "#         print(news_url)\n",
    "        contents = news_soup.select_one('#articleBodyContents')\n",
    "        if contents:\n",
    "            Title.append(title)\n",
    "            press = news_soup.select_one('.nclicks\\(atp_press\\) > img:nth-child(1)')['title']\n",
    "#             print(press)\n",
    "            Press.append(press)\n",
    "            contents = contents.get_text().strip()\n",
    "#             print(type(contents))\n",
    "            contents = re.sub(\"flash 오류를 우회하기 위한 함수 추가\\\\nfunction _flash_removeCallback\\(\\) \\{\\}\\\\n\\\\n\",'',contents).strip()\n",
    "            Contents.append(contents)\n",
    "            date=news_soup.select_one('#main_content > div.article_header > div.article_info > div > span.t11')\n",
    "            date=date.get_text().split(' ')[0]\n",
    "#             print(date)\n",
    "            Date.append(date)\n",
    "#     print('{}P {}개완료'.format(i//10,len(news_list)), end='\\t')\n",
    "print('완료') \n",
    "#     print(resp)\n",
    "\n",
    "# Title\n",
    "# Contents"
   ]
  },
  {
   "cell_type": "markdown",
   "metadata": {
    "colab_type": "text",
    "id": "bk6kAouBPdqC"
   },
   "source": [
    "* 뉴스 주소\n",
    "* 정규표현식을 이용해 긁어보자"
   ]
  },
  {
   "cell_type": "code",
   "execution_count": 23,
   "metadata": {
    "colab": {
     "base_uri": "https://localhost:8080/",
     "height": 49
    },
    "colab_type": "code",
    "id": "WtaB9Z_PPdqD",
    "outputId": "339d06c5-114d-403a-c851-017a8ef7cc99"
   },
   "outputs": [
    {
     "data": {
      "text/html": [
       "<div>\n",
       "<style scoped>\n",
       "    .dataframe tbody tr th:only-of-type {\n",
       "        vertical-align: middle;\n",
       "    }\n",
       "\n",
       "    .dataframe tbody tr th {\n",
       "        vertical-align: top;\n",
       "    }\n",
       "\n",
       "    .dataframe thead th {\n",
       "        text-align: right;\n",
       "    }\n",
       "</style>\n",
       "<table border=\"1\" class=\"dataframe\">\n",
       "  <thead>\n",
       "    <tr style=\"text-align: right;\">\n",
       "      <th></th>\n",
       "      <th>제목</th>\n",
       "      <th>내용</th>\n",
       "      <th>언론사</th>\n",
       "      <th>날짜</th>\n",
       "    </tr>\n",
       "  </thead>\n",
       "  <tbody>\n",
       "    <tr>\n",
       "      <th>0</th>\n",
       "      <td>광주기독교계 미쓰비시 불매운동 동참</td>\n",
       "      <td>// \\t\\n\\t광주지역 기독교계가 일본 기업 미쓰비시 불매운동에 동참했다. 광주기...</td>\n",
       "      <td>경향신문</td>\n",
       "      <td>2015.08.12.</td>\n",
       "    </tr>\n",
       "    <tr>\n",
       "      <th>1</th>\n",
       "      <td>롯데 불매운동 속 신동주 일본어 인터뷰 눈길 '부글부글'</td>\n",
       "      <td>// 롯데 불매운동[스포츠서울] 신격호 신동빈 부자 전쟁에 소비자들이 롯데 불매운동...</td>\n",
       "      <td>스포츠서울</td>\n",
       "      <td>2015.08.04.</td>\n",
       "    </tr>\n",
       "    <tr>\n",
       "      <th>2</th>\n",
       "      <td>시민단체, \"롯데는 일본기업, 연말까지 불매운동 전개\"</td>\n",
       "      <td>//   가족간 경영권 분쟁으로 내홍을 겪고 있는 롯데그룹에 대한 국민 반감이 커지...</td>\n",
       "      <td>파이낸셜뉴스</td>\n",
       "      <td>2015.08.04.</td>\n",
       "    </tr>\n",
       "    <tr>\n",
       "      <th>3</th>\n",
       "      <td>[롯데 경영권 분쟁]“실상은 일본기업”… 롯데 불매운동 확산</td>\n",
       "      <td>// ㆍ‘광윤사’가 그룹 좌지우지ㆍ신동주 ‘일본어 인터뷰’도 대중 ‘반일 정서’ 자...</td>\n",
       "      <td>경향신문</td>\n",
       "      <td>2015.08.03.</td>\n",
       "    </tr>\n",
       "    <tr>\n",
       "      <th>4</th>\n",
       "      <td>[롯데] 제품 불매운동에 직원들 '억울'</td>\n",
       "      <td>// \\t\\n\\t【 앵커멘트 】  롯데그룹의 국적 논란이 제품 불매운동으로 이어지자...</td>\n",
       "      <td>MBN</td>\n",
       "      <td>2015.08.07.</td>\n",
       "    </tr>\n",
       "  </tbody>\n",
       "</table>\n",
       "</div>"
      ],
      "text/plain": [
       "                                   제목  \\\n",
       "0                광주기독교계 미쓰비시 불매운동 동참    \n",
       "1    롯데 불매운동 속 신동주 일본어 인터뷰 눈길 '부글부글'    \n",
       "2     시민단체, \"롯데는 일본기업, 연말까지 불매운동 전개\"    \n",
       "3  [롯데 경영권 분쟁]“실상은 일본기업”… 롯데 불매운동 확산    \n",
       "4             [롯데] 제품 불매운동에 직원들 '억울'    \n",
       "\n",
       "                                                  내용     언론사           날짜  \n",
       "0  // \\t\\n\\t광주지역 기독교계가 일본 기업 미쓰비시 불매운동에 동참했다. 광주기...    경향신문  2015.08.12.  \n",
       "1  // 롯데 불매운동[스포츠서울] 신격호 신동빈 부자 전쟁에 소비자들이 롯데 불매운동...   스포츠서울  2015.08.04.  \n",
       "2  //   가족간 경영권 분쟁으로 내홍을 겪고 있는 롯데그룹에 대한 국민 반감이 커지...  파이낸셜뉴스  2015.08.04.  \n",
       "3  // ㆍ‘광윤사’가 그룹 좌지우지ㆍ신동주 ‘일본어 인터뷰’도 대중 ‘반일 정서’ 자...    경향신문  2015.08.03.  \n",
       "4  // \\t\\n\\t【 앵커멘트 】  롯데그룹의 국적 논란이 제품 불매운동으로 이어지자...     MBN  2015.08.07.  "
      ]
     },
     "execution_count": 23,
     "metadata": {},
     "output_type": "execute_result"
    }
   ],
   "source": [
    "news_all = pd.DataFrame({'제목':Title,\n",
    "                        '내용':Contents,\n",
    "                         '언론사':Press,\n",
    "                        '날짜':Date})\n",
    "news_all.head()"
   ]
  },
  {
   "cell_type": "code",
   "execution_count": 24,
   "metadata": {
    "colab": {},
    "colab_type": "code",
    "id": "ZfkWX1ROzn5z",
    "outputId": "44f4b1c0-edc7-43fd-868a-b5a630ab4a9d"
   },
   "outputs": [
    {
     "data": {
      "text/plain": [
       "579"
      ]
     },
     "execution_count": 24,
     "metadata": {},
     "output_type": "execute_result"
    }
   ],
   "source": [
    "len(news_all)"
   ]
  },
  {
   "cell_type": "code",
   "execution_count": 25,
   "metadata": {
    "colab": {},
    "colab_type": "code",
    "id": "bE-OBdizPdqG"
   },
   "outputs": [],
   "source": [
    "news_all.to_excel('news_2015.xlsx')"
   ]
  },
  {
   "cell_type": "code",
   "execution_count": null,
   "metadata": {},
   "outputs": [],
   "source": []
  }
 ],
 "metadata": {
  "colab": {
   "collapsed_sections": [],
   "name": "크롤러_임시.ipynb",
   "provenance": [],
   "version": "0.3.2"
  },
  "kernelspec": {
   "display_name": "Python 3",
   "language": "python",
   "name": "python3"
  },
  "language_info": {
   "codemirror_mode": {
    "name": "ipython",
    "version": 3
   },
   "file_extension": ".py",
   "mimetype": "text/x-python",
   "name": "python",
   "nbconvert_exporter": "python",
   "pygments_lexer": "ipython3",
   "version": "3.7.3"
  }
 },
 "nbformat": 4,
 "nbformat_minor": 1
}
