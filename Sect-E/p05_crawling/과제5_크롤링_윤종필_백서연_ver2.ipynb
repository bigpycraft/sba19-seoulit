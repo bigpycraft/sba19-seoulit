{
 "cells": [
  {
   "cell_type": "markdown",
   "metadata": {},
   "source": [
    "## 웹 크롤링 "
   ]
  },
  {
   "cell_type": "code",
   "execution_count": 2,
   "metadata": {
    "collapsed": true
   },
   "outputs": [],
   "source": [
    "import glob\n",
    "import time\n",
    "from datetime import datetime\n",
    "\n",
    "import os\n",
    "from os.path import exists\n",
    "\n",
    "import requests\n",
    "from bs4 import BeautifulSoup"
   ]
  },
  {
   "cell_type": "markdown",
   "metadata": {},
   "source": [
    "# The 50 Best Sandwiches in Chicago"
   ]
  },
  {
   "cell_type": "code",
   "execution_count": 3,
   "metadata": {},
   "outputs": [
    {
     "data": {
      "text/plain": [
       "<title>\n",
       "  The 50 Best Sandwiches in Chicago |\n",
       "  Chicago magazine\n",
       "      |  November 2012\n",
       "    </title>"
      ]
     },
     "execution_count": 3,
     "metadata": {},
     "output_type": "execute_result"
    }
   ],
   "source": [
    "url = 'https://www.chicagomag.com/Chicago-Magazine/November-2012/Best-Sandwiches-Chicago/'\n",
    "\n",
    "html_burger= requests.get(url).text\n",
    "soup_burger = BeautifulSoup(html_burger, \"lxml\")\n",
    "soup_burger.title"
   ]
  },
  {
   "cell_type": "code",
   "execution_count": 4,
   "metadata": {},
   "outputs": [
    {
     "data": {
      "text/plain": [
       "50"
      ]
     },
     "execution_count": 4,
     "metadata": {},
     "output_type": "execute_result"
    }
   ],
   "source": [
    "rankings=soup_burger.select('div.sammyRank')\n",
    "len(rankings)"
   ]
  },
  {
   "cell_type": "code",
   "execution_count": 5,
   "metadata": {
    "collapsed": true
   },
   "outputs": [],
   "source": [
    "burger_rankings=[ranking.get_text().strip() for ranking in rankings]"
   ]
  },
  {
   "cell_type": "code",
   "execution_count": 6,
   "metadata": {},
   "outputs": [
    {
     "data": {
      "text/plain": [
       "['1', '2', '3', '4', '5', '6', '7', '8', '9', '10']"
      ]
     },
     "execution_count": 6,
     "metadata": {},
     "output_type": "execute_result"
    }
   ],
   "source": [
    "burger_rankings[0:10]"
   ]
  },
  {
   "cell_type": "code",
   "execution_count": 7,
   "metadata": {},
   "outputs": [
    {
     "data": {
      "text/plain": [
       "50"
      ]
     },
     "execution_count": 7,
     "metadata": {},
     "output_type": "execute_result"
    }
   ],
   "source": [
    "menus=soup_burger.select('div.sammyListing a b')\n",
    "len(menus)"
   ]
  },
  {
   "cell_type": "code",
   "execution_count": 8,
   "metadata": {
    "collapsed": true
   },
   "outputs": [],
   "source": [
    "menu_list=[menu.get_text().strip() for menu in menus]"
   ]
  },
  {
   "cell_type": "code",
   "execution_count": 9,
   "metadata": {},
   "outputs": [
    {
     "data": {
      "text/plain": [
       "['BLT',\n",
       " 'Fried Bologna',\n",
       " 'Woodland Mushroom',\n",
       " 'Roast Beef',\n",
       " 'PB&L',\n",
       " 'Belgian Chicken Curry Salad',\n",
       " 'Lobster Roll',\n",
       " 'Smoked Salmon Salad',\n",
       " 'Atomica Cemitas',\n",
       " 'Grilled Laughing Bird Shrimp and Fried Po’ Boy']"
      ]
     },
     "execution_count": 9,
     "metadata": {},
     "output_type": "execute_result"
    }
   ],
   "source": [
    "menu_list[0:10]"
   ]
  },
  {
   "cell_type": "code",
   "execution_count": 10,
   "metadata": {},
   "outputs": [
    {
     "data": {
      "text/plain": [
       "[<div class=\"sammyListing\"><a href=\"/Chicago-Magazine/November-2012/Best-Sandwiches-in-Chicago-Old-Oak-Tap-BLT/\"><b>BLT</b><br/>\n",
       " Old Oak Tap<br/>\n",
       " <em>Read more</em> </a></div>,\n",
       " <div class=\"sammyListing\"><a href=\"/Chicago-Magazine/November-2012/Best-Sandwiches-in-Chicago-Au-Cheval-Fried-Bologna/\"><b>Fried Bologna</b><br/>\n",
       " Au Cheval<br/>\n",
       " <em>Read more</em> </a></div>,\n",
       " <div class=\"sammyListing\"><a href=\"/Chicago-Magazine/November-2012/Best-Sandwiches-in-Chicago-Xoco-Woodland-Mushroom/\"><b>Woodland Mushroom</b><br/>\n",
       " Xoco<br/>\n",
       " <em>Read more</em> </a></div>,\n",
       " <div class=\"sammyListing\"><a href=\"/Chicago-Magazine/November-2012/Best-Sandwiches-in-Chicago-Als-Deli-Roast-Beef/\"><b>Roast Beef</b><br/>\n",
       " Al’s Deli<br/>\n",
       " <em>Read more</em> </a></div>,\n",
       " <div class=\"sammyListing\"><a href=\"/Chicago-Magazine/November-2012/Best-Sandwiches-in-Chicago-Publican-Quality-Meats-PB-L/\"><b>PB&amp;L</b><br/>\n",
       " Publican Quality Meats<br/>\n",
       " <em>Read more</em> </a></div>,\n",
       " <div class=\"sammyListing\"><a href=\"http://www.chicagomag.com/Chicago-Magazine/November-2012/Best-Sandwiches-in-Chicago-Hendrickx-Belgian-Bread-Crafter-Belgian-Chicken-Curry-Salad/\"><b>Belgian Chicken Curry Salad</b><br/>\n",
       " Hendrickx Belgian Bread Crafter<br/>\n",
       " <em>Read more</em> </a></div>,\n",
       " <div class=\"sammyListing\"><a href=\"/Chicago-Magazine/November-2012/Best-Sandwiches-in-Chicago-Acadia-Lobster-Roll/\"><b>Lobster Roll</b><br/>\n",
       " Acadia<br/>\n",
       " <em>Read more</em> </a></div>,\n",
       " <div class=\"sammyListing\"><a href=\"/Chicago-Magazine/November-2012/Best-Sandwiches-in-Chicago-Birchwood-Kitchen-Smoked-Salmon-Salad/\"><b>Smoked Salmon Salad</b><br/>\n",
       " Birchwood Kitchen<br/>\n",
       " <em>Read more</em> </a></div>,\n",
       " <div class=\"sammyListing\"><a href=\"/Chicago-Magazine/November-2012/Best-Sandwiches-in-Chicago-Cemitas-Puebla-Atomica-Cemitas/\"><b>Atomica Cemitas</b><br/>\n",
       " Cemitas Puebla<br/>\n",
       " <em>Read more</em> </a></div>,\n",
       " <div class=\"sammyListing\"><a href=\"/Chicago-Magazine/November-2012/Best-Sandwiches-in-Chicago-Nana-Grilled-Laughing-Bird-Shrimp-and-Fried-Oyster-Po-Boy/\"><b>Grilled Laughing Bird Shrimp and Fried Po’ Boy</b><br/>\n",
       " Nana<br/>\n",
       " <em>Read more</em> </a></div>,\n",
       " <div class=\"sammyListing\"><a href=\"http://www.chicagomag.com/Chicago-Magazine/November-2012/Best-Sandwiches-in-Chicago-Lula-Cafe-Ham-and-Raclette-Panino/\"><b>Ham and Raclette Panino</b><br/>\n",
       " Lula Cafe<br/>\n",
       " <em>Read more</em> </a></div>,\n",
       " <div class=\"sammyListing\"><a href=\"http://www.chicagomag.com/Chicago-Magazine/November-2012/Best-Sandwiches-in-Chicago-Ricobenes-Breaded-Steak/\"><b>Breaded Steak</b><br/>\n",
       " Ricobene’s<br/>\n",
       " <em>Read more</em> </a></div>,\n",
       " <div class=\"sammyListing\"><a href=\"http://www.chicagomag.com/Chicago-Magazine/November-2012/Best-Sandwiches-in-Chicago-Frog-n-Snail-The-Hawkeye/\"><b>The Hawkeye</b><br/>\n",
       " Frog n Snail<br/>\n",
       " <em>Read more</em> </a></div>,\n",
       " <div class=\"sammyListing\"><a href=\"http://www.chicagomag.com/Chicago-Magazine/November-2012/Best-Sandwiches-in-Chicago-Crosbys-Kitchen-Chicken-Dip/\"><b>Chicken Dip</b><br/>\n",
       " Crosby’s Kitchen<br/>\n",
       " <em>Read more</em> </a></div>,\n",
       " <div class=\"sammyListing\"><a href=\"http://www.chicagomag.com/Chicago-Magazine/November-2012/Best-Sandwiches-in-Chicago-Longman-and-Eagle-Wild-Boar-Sloppy-Joe/\"><b>Wild Boar Sloppy Joe</b><br/>\n",
       " Longman &amp; Eagle<br/>\n",
       " <em>Read more</em> </a></div>,\n",
       " <div class=\"sammyListing\"><a href=\"http://www.chicagomag.com/Chicago-Magazine/November-2012/Best-Sandwiches-in-Chicago-Bari-Meatball-Sub/\"><b>Meatball Sub</b><br/>\n",
       " Bari<br/>\n",
       " <em>Read more</em> </a></div>,\n",
       " <div class=\"sammyListing\"><a href=\"http://www.chicagomag.com/Chicago-Magazine/November-2012/Best-Sandwiches-in-Chicago-Mannys-Corned-Beef/\"><b>Corned Beef</b><br/>\n",
       " Manny’s<br/>\n",
       " <em>Read more</em> </a></div>,\n",
       " <div class=\"sammyListing\"><a href=\"http://www.chicagomag.com/Chicago-Magazine/November-2012/Best-Sandwiches-in-Chicago-Eggys-Turkey-Club/\"><b>Turkey Club</b><br/>\n",
       " Eggy’s<br/>\n",
       " <em>Read more</em> </a></div>,\n",
       " <div class=\"sammyListing\"><a href=\"http://www.chicagomag.com/Chicago-Magazine/November-2012/Best-Sandwiches-in-Chicago-Old-Jerusalem-Falafel/\"><b>Falafel</b><br/>\n",
       " Old Jerusalem<br/>\n",
       " <em>Read more</em> </a></div>,\n",
       " <div class=\"sammyListing\"><a href=\"http://www.chicagomag.com/Chicago-Magazine/November-2012/Best-Sandwiches-in-Chicago-Mindys-HotChocolate-Crab-Cake/\"><b>Crab Cake</b><br/>\n",
       " Mindy’s HotChocolate<br/>\n",
       " <em>Read more</em> </a></div>,\n",
       " <div class=\"sammyListing\"><a href=\"http://www.chicagomag.com/Chicago-Magazine/November-2012/Best-Sandwiches-in-Chicago-Olgas-Delicatessen-Chicken-Schnitzel/\"><b>Chicken Schnitzel</b><br/>\n",
       " Olga’s Delicatessen<br/>\n",
       " <em>Read more</em> </a></div>,\n",
       " <div class=\"sammyListing\"><a href=\"http://www.chicagomag.com/Chicago-Magazine/November-2012/Best-Sandwiches-in-Chicago-Dawali-Mediterranean-Kitchen-Shawarma/\"><b>Shawarma</b><br/>\n",
       " Dawali Mediterranean Kitchen<br/>\n",
       " <em>Read more</em> </a></div>,\n",
       " <div class=\"sammyListing\"><a href=\"http://www.chicagomag.com/Chicago-Magazine/November-2012/Best-Sandwiches-in-Chicago-Big-Jones-Toasted-Pimiento-Cheese/\"><b>Toasted Pimiento Cheese</b><br/>\n",
       " Big Jones<br/>\n",
       " <em>Read more</em> </a></div>,\n",
       " <div class=\"sammyListing\"><a href=\"http://www.chicagomag.com/Chicago-Magazine/November-2012/Best-Sandwiches-in-Chicago-La-Pane-Vegetarian-Panino/\"><b>Vegetarian Panino</b><br/>\n",
       " La Pane<br/>\n",
       " <em>Read more</em> </a></div>,\n",
       " <div class=\"sammyListing\"><a href=\"/Chicago-Magazine/November-2012/Best-Sandwiches-in-Chicago-Pastoral-Cali-Chevre/\"><b>Cali Chèvre</b><br/>\n",
       " Pastoral<br/>\n",
       " <em>Read more</em> </a></div>,\n",
       " <div class=\"sammyListing\"><a href=\"http://www.chicagomag.com/Chicago-Magazine/November-2012/Best-Sandwiches-in-Chicago-Maxs-Deli-Pastrami/\"><b>Pastrami</b><br/>\n",
       " Max’s Deli<br/>\n",
       " <em>Read more</em> </a></div>,\n",
       " <div class=\"sammyListing\"><a href=\"http://www.chicagomag.com/Chicago-Magazine/November-2012/Best-Sandwiches-in-Chicago-Luckys-Sandwich-Co-The-Fredo/\"><b>The Fredo</b><br/>\n",
       " Lucky’s Sandwich Co.<br/>\n",
       " <em>Read more</em> </a></div>,\n",
       " <div class=\"sammyListing\"><a href=\"http://www.chicagomag.com/Chicago-Magazine/November-2012/Best-Sandwiches-in-Chicago-City-Provisions-Smoked-Ham/\"><b>Smoked Ham</b><br/>\n",
       " City Provisions<br/>\n",
       " <em>Read more</em> </a></div>,\n",
       " <div class=\"sammyListing\"><a href=\"http://www.chicagomag.com/Chicago-Magazine/November-2012/Best-Sandwiches-in-Chicago-Papas-Cache-Sabroso-Jibarito/\"><b>Jibarito</b><br/>\n",
       " Papa’s Cache Sabroso<br/>\n",
       " <em>Read more</em> </a></div>,\n",
       " <div class=\"sammyListing\"><a href=\"http://www.chicagomag.com/Chicago-Magazine/November-2012/Best-Sandwiches-in-Chicago-Bavettes-Bar-and-Boeuf-Shaved-Prime-Rib/\"><b>Shaved Prime Rib</b><br/>\n",
       " Bavette’s Bar &amp; Boeuf<br/>\n",
       " <em>Read more</em> </a></div>,\n",
       " <div class=\"sammyListing\"><a href=\"http://www.chicagomag.com/Chicago-Magazine/November-2012/Best-Sandwiches-in-Chicago-Hannahs-Bretzel-Serrano-Ham-and-Manchego-Cheese/\"><b>Serrano Ham and Manchego Cheese</b><br/>\n",
       " Hannah’s Bretzel<br/>\n",
       " <em>Read more</em> </a></div>,\n",
       " <div class=\"sammyListing\"><a href=\"http://www.chicagomag.com/Chicago-Magazine/November-2012/Best-Sandwiches-in-Chicago-La-Fournette-Tuna-Salad/\"><b>Tuna Salad</b><br/>\n",
       " La Fournette<br/>\n",
       " <em>Read more</em> </a></div>,\n",
       " <div class=\"sammyListing\"><a href=\"http://www.chicagomag.com/Chicago-Magazine/November-2012/Best-Sandwiches-in-Chicago-Paramount-Room-Paramount-Reuben/\"><b>Paramount Reuben</b><br/>\n",
       " Paramount Room<br/>\n",
       " <em>Read more</em> </a></div>,\n",
       " <div class=\"sammyListing\"><a href=\"http://www.chicagomag.com/Chicago-Magazine/November-2012/Best-Sandwiches-in-Chicago-Melt-Sandwich-Shoppe-The-Istanbul/\"><b>The Istanbul</b><br/>\n",
       " Melt Sandwich Shoppe<br/>\n",
       " <em>Read more</em> </a></div>,\n",
       " <div class=\"sammyListing\"><a href=\"http://www.chicagomag.com/Chicago-Magazine/November-2012/Best-Sandwiches-in-Chicago-Floriole-Cafe-and-Bakery-BAD/\"><b>B.A.D.</b><br/>\n",
       " Floriole Cafe &amp; Bakery<br/>\n",
       " <em>Read more</em> </a></div>,\n",
       " <div class=\"sammyListing\"><a href=\"http://www.chicagomag.com/Chicago-Magazine/November-2012/Best-Sandwiches-in-Chicago-First-Slice-Pie-Cafe-Duck-Confit-and-Mozzarella/\"><b>Duck Confit and Mozzarella</b><br/>\n",
       " First Slice Pie Café<br/>\n",
       " <em>Read more</em> </a></div>,\n",
       " <div class=\"sammyListing\"><a href=\"http://www.chicagomag.com/Chicago-Magazine/November-2012/Best-Sandwiches-in-Chicago-Troquet-Croque-Monsieur/\"><b>Croque Monsieur</b><br/>\n",
       " Troquet<br/>\n",
       " <em>Read more</em> </a></div>,\n",
       " <div class=\"sammyListing\"><a href=\"http://www.chicagomag.com/Chicago-Magazine/November-2012/Best-Sandwiches-in-Chicago-Grahamwich-Green-Garbanzo/\"><b>Green Garbanzo</b><br/>\n",
       " Grahamwich<br/>\n",
       " <em>Read more</em> </a></div>,\n",
       " <div class=\"sammyListing\"><a href=\"http://www.chicagomag.com/Chicago-Magazine/November-2012/Best-Sandwiches-in-Chicago-Saigon-Sisters-The-Hen-House/\"><b>The Hen House</b><br/>\n",
       " Saigon Sisters<br/>\n",
       " <em>Read more</em> </a></div>,\n",
       " <div class=\"sammyListing\"><a href=\"http://www.chicagomag.com/Chicago-Magazine/November-2012/Best-Sandwiches-in-Chicago-Rosalias-Deli-Tuscan-Chicken/\"><b>Tuscan Chicken</b><br/>\n",
       " Rosalia’s Deli<br/>\n",
       " <em>Read more</em> </a></div>,\n",
       " <div class=\"sammyListing\"><a href=\"http://www.chicagomag.com/Chicago-Magazine/November-2012/Best-Sandwiches-in-Chicago-Z-and-H-MarketCafe-The-Marty/\"><b>The Marty </b><br/>\n",
       " Z&amp;H MarketCafe<br/>\n",
       " <em>Read more</em> </a></div>,\n",
       " <div class=\"sammyListing\"><a href=\"http://www.chicagomag.com/Chicago-Magazine/November-2012/Best-Sandwiches-in-Chicago-Market-House-on-the-Square-Whitefish/\"><b>Whitefish</b><br/>\n",
       " Market House on the Square<br/>\n",
       " <em>Read more</em> </a></div>,\n",
       " <div class=\"sammyListing\"><a href=\"http://www.chicagomag.com/Chicago-Magazine/November-2012/Best-Sandwiches-in-Chicago-Elaines-Coffee-Call-Oat-Bread-Pecan-Butter-and-Fruit-Jam/\"><b>Oat Bread, Pecan Butter, and Fruit Jam</b><br/>\n",
       " Elaine’s Coffee Call<br/>\n",
       " <em>Read more</em> </a></div>,\n",
       " <div class=\"sammyListing\"><a href=\"http://www.chicagomag.com/Chicago-Magazine/November-2012/Best-Sandwiches-in-Chicago-Marion-Street-Cheese-Market-Cauliflower-Melt/\"><b>Cauliflower Melt</b><br/>\n",
       " Marion Street Cheese Market<br/>\n",
       " <em>Read more</em> </a></div>,\n",
       " <div class=\"sammyListing\"><a href=\"http://www.chicagomag.com/Chicago-Magazine/November-2012/Best-Sandwiches-in-Chicago-Cafecito-Cubano/\"><b>Cubana</b><br/>\n",
       " Cafecito<br/>\n",
       " <em>Read more</em> </a></div>,\n",
       " <div class=\"sammyListing\"><a href=\"http://www.chicagomag.com/Chicago-Magazine/November-2012/Best-Sandwiches-in-Chicago-Chickpea-Kufta/\"><b>Kufta</b><br/>\n",
       " Chickpea<br/>\n",
       " <em>Read more</em> </a></div>,\n",
       " <div class=\"sammyListing\"><a href=\"http://www.chicagomag.com/Chicago-Magazine/November-2012/Best-Sandwiches-in-Chicago-The-Goddess-and-Grocer-Debbies-Egg-Salad/\"><b>Debbie’s Egg Salad</b><br/>\n",
       " The Goddess and Grocer<br/>\n",
       " <em>Read more</em> </a></div>,\n",
       " <div class=\"sammyListing\"><a href=\"http://www.chicagomag.com/Chicago-Magazine/November-2012/Best-Sandwiches-in-Chicago-Zenwich-Beef-Curry/\"><b>Beef Curry</b><br/>\n",
       " Zenwich<br/>\n",
       " <em>Read more</em> </a></div>,\n",
       " <div class=\"sammyListing\"><a href=\"http://www.chicagomag.com/Chicago-Magazine/November-2012/Best-Sandwiches-in-Chicago-Toni-Patisserie-Le-Vegetarien/\"><b>Le Végétarien</b><br/>\n",
       " Toni Patisserie<br/>\n",
       " <em>Read more</em> </a></div>,\n",
       " <div class=\"sammyListing\"><a href=\"http://www.chicagomag.com/Chicago-Magazine/November-2012/Best-Sandwiches-in-Chicago-Phoebes-Bakery-The-Gatsby/\"><b>The Gatsby</b><br/>\n",
       " Phoebe’s Bakery<br/>\n",
       " <em>Read more</em> </a></div>]"
      ]
     },
     "execution_count": 10,
     "metadata": {},
     "output_type": "execute_result"
    }
   ],
   "source": [
    "cafe = soup_burger.select('div.sammyListing')\n",
    "cafe"
   ]
  },
  {
   "cell_type": "code",
   "execution_count": 216,
   "metadata": {},
   "outputs": [],
   "source": [
    "cafe_list=[]\n",
    "for i in range(0, len(cafe)):\n",
    "    restraunt=cafe[i].get_text().split('\\n')[1]\n",
    "    cafe_list.append(restraunt)\n"
   ]
  },
  {
   "cell_type": "code",
   "execution_count": 20,
   "metadata": {},
   "outputs": [
    {
     "data": {
      "text/plain": [
       "<div class=\"sammyListing\"><a href=\"/Chicago-Magazine/November-2012/Best-Sandwiches-in-Chicago-Old-Oak-Tap-BLT/\"><b>BLT</b><br/>\n",
       "Old Oak Tap<br/>\n",
       "<em>Read more</em> </a></div>"
      ]
     },
     "execution_count": 20,
     "metadata": {},
     "output_type": "execute_result"
    }
   ],
   "source": [
    "websites = soup_burger.find_all('div', class_ = 'sammyListing')\n",
    "websites[0]"
   ]
  },
  {
   "cell_type": "code",
   "execution_count": 21,
   "metadata": {},
   "outputs": [
    {
     "data": {
      "text/plain": [
       "<a href=\"/Chicago-Magazine/November-2012/Best-Sandwiches-in-Chicago-Old-Oak-Tap-BLT/\"><b>BLT</b><br/>\n",
       "Old Oak Tap<br/>\n",
       "<em>Read more</em> </a>"
      ]
     },
     "execution_count": 21,
     "metadata": {},
     "output_type": "execute_result"
    }
   ],
   "source": [
    "websites[0].find('a')"
   ]
  },
  {
   "cell_type": "code",
   "execution_count": 22,
   "metadata": {},
   "outputs": [
    {
     "data": {
      "text/plain": [
       "['/Chicago-Magazine/November-2012/Best-Sandwiches-in-Chicago-Old-Oak-Tap-BLT/',\n",
       " '/Chicago-Magazine/November-2012/Best-Sandwiches-in-Chicago-Au-Cheval-Fried-Bologna/',\n",
       " '/Chicago-Magazine/November-2012/Best-Sandwiches-in-Chicago-Xoco-Woodland-Mushroom/',\n",
       " '/Chicago-Magazine/November-2012/Best-Sandwiches-in-Chicago-Als-Deli-Roast-Beef/',\n",
       " '/Chicago-Magazine/November-2012/Best-Sandwiches-in-Chicago-Publican-Quality-Meats-PB-L/']"
      ]
     },
     "execution_count": 22,
     "metadata": {},
     "output_type": "execute_result"
    }
   ],
   "source": [
    "websites2 = []\n",
    "for i in range(len(websites)):\n",
    "    web = websites[i].find('a')['href']\n",
    "    websites2.append(web)\n",
    "    \n",
    "websites2[0:5]"
   ]
  },
  {
   "cell_type": "code",
   "execution_count": 23,
   "metadata": {
    "collapsed": true,
    "scrolled": true
   },
   "outputs": [],
   "source": [
    "websites3=[]\n",
    "for i in websites2:\n",
    "    if 'http' not in i:\n",
    "        web3 = 'http://www.chicagomag.com' + i\n",
    "    else:\n",
    "        web3=i\n",
    "    websites3.append(web3)"
   ]
  },
  {
   "cell_type": "code",
   "execution_count": 24,
   "metadata": {},
   "outputs": [
    {
     "data": {
      "text/plain": [
       "['http://www.chicagomag.com/Chicago-Magazine/November-2012/Best-Sandwiches-in-Chicago-Old-Oak-Tap-BLT/',\n",
       " 'http://www.chicagomag.com/Chicago-Magazine/November-2012/Best-Sandwiches-in-Chicago-Au-Cheval-Fried-Bologna/',\n",
       " 'http://www.chicagomag.com/Chicago-Magazine/November-2012/Best-Sandwiches-in-Chicago-Xoco-Woodland-Mushroom/',\n",
       " 'http://www.chicagomag.com/Chicago-Magazine/November-2012/Best-Sandwiches-in-Chicago-Als-Deli-Roast-Beef/',\n",
       " 'http://www.chicagomag.com/Chicago-Magazine/November-2012/Best-Sandwiches-in-Chicago-Publican-Quality-Meats-PB-L/',\n",
       " 'http://www.chicagomag.com/Chicago-Magazine/November-2012/Best-Sandwiches-in-Chicago-Hendrickx-Belgian-Bread-Crafter-Belgian-Chicken-Curry-Salad/',\n",
       " 'http://www.chicagomag.com/Chicago-Magazine/November-2012/Best-Sandwiches-in-Chicago-Acadia-Lobster-Roll/',\n",
       " 'http://www.chicagomag.com/Chicago-Magazine/November-2012/Best-Sandwiches-in-Chicago-Birchwood-Kitchen-Smoked-Salmon-Salad/',\n",
       " 'http://www.chicagomag.com/Chicago-Magazine/November-2012/Best-Sandwiches-in-Chicago-Cemitas-Puebla-Atomica-Cemitas/',\n",
       " 'http://www.chicagomag.com/Chicago-Magazine/November-2012/Best-Sandwiches-in-Chicago-Nana-Grilled-Laughing-Bird-Shrimp-and-Fried-Oyster-Po-Boy/',\n",
       " 'http://www.chicagomag.com/Chicago-Magazine/November-2012/Best-Sandwiches-in-Chicago-Lula-Cafe-Ham-and-Raclette-Panino/',\n",
       " 'http://www.chicagomag.com/Chicago-Magazine/November-2012/Best-Sandwiches-in-Chicago-Ricobenes-Breaded-Steak/',\n",
       " 'http://www.chicagomag.com/Chicago-Magazine/November-2012/Best-Sandwiches-in-Chicago-Frog-n-Snail-The-Hawkeye/',\n",
       " 'http://www.chicagomag.com/Chicago-Magazine/November-2012/Best-Sandwiches-in-Chicago-Crosbys-Kitchen-Chicken-Dip/',\n",
       " 'http://www.chicagomag.com/Chicago-Magazine/November-2012/Best-Sandwiches-in-Chicago-Longman-and-Eagle-Wild-Boar-Sloppy-Joe/',\n",
       " 'http://www.chicagomag.com/Chicago-Magazine/November-2012/Best-Sandwiches-in-Chicago-Bari-Meatball-Sub/',\n",
       " 'http://www.chicagomag.com/Chicago-Magazine/November-2012/Best-Sandwiches-in-Chicago-Mannys-Corned-Beef/',\n",
       " 'http://www.chicagomag.com/Chicago-Magazine/November-2012/Best-Sandwiches-in-Chicago-Eggys-Turkey-Club/',\n",
       " 'http://www.chicagomag.com/Chicago-Magazine/November-2012/Best-Sandwiches-in-Chicago-Old-Jerusalem-Falafel/',\n",
       " 'http://www.chicagomag.com/Chicago-Magazine/November-2012/Best-Sandwiches-in-Chicago-Mindys-HotChocolate-Crab-Cake/',\n",
       " 'http://www.chicagomag.com/Chicago-Magazine/November-2012/Best-Sandwiches-in-Chicago-Olgas-Delicatessen-Chicken-Schnitzel/',\n",
       " 'http://www.chicagomag.com/Chicago-Magazine/November-2012/Best-Sandwiches-in-Chicago-Dawali-Mediterranean-Kitchen-Shawarma/',\n",
       " 'http://www.chicagomag.com/Chicago-Magazine/November-2012/Best-Sandwiches-in-Chicago-Big-Jones-Toasted-Pimiento-Cheese/',\n",
       " 'http://www.chicagomag.com/Chicago-Magazine/November-2012/Best-Sandwiches-in-Chicago-La-Pane-Vegetarian-Panino/',\n",
       " 'http://www.chicagomag.com/Chicago-Magazine/November-2012/Best-Sandwiches-in-Chicago-Pastoral-Cali-Chevre/',\n",
       " 'http://www.chicagomag.com/Chicago-Magazine/November-2012/Best-Sandwiches-in-Chicago-Maxs-Deli-Pastrami/',\n",
       " 'http://www.chicagomag.com/Chicago-Magazine/November-2012/Best-Sandwiches-in-Chicago-Luckys-Sandwich-Co-The-Fredo/',\n",
       " 'http://www.chicagomag.com/Chicago-Magazine/November-2012/Best-Sandwiches-in-Chicago-City-Provisions-Smoked-Ham/',\n",
       " 'http://www.chicagomag.com/Chicago-Magazine/November-2012/Best-Sandwiches-in-Chicago-Papas-Cache-Sabroso-Jibarito/',\n",
       " 'http://www.chicagomag.com/Chicago-Magazine/November-2012/Best-Sandwiches-in-Chicago-Bavettes-Bar-and-Boeuf-Shaved-Prime-Rib/',\n",
       " 'http://www.chicagomag.com/Chicago-Magazine/November-2012/Best-Sandwiches-in-Chicago-Hannahs-Bretzel-Serrano-Ham-and-Manchego-Cheese/',\n",
       " 'http://www.chicagomag.com/Chicago-Magazine/November-2012/Best-Sandwiches-in-Chicago-La-Fournette-Tuna-Salad/',\n",
       " 'http://www.chicagomag.com/Chicago-Magazine/November-2012/Best-Sandwiches-in-Chicago-Paramount-Room-Paramount-Reuben/',\n",
       " 'http://www.chicagomag.com/Chicago-Magazine/November-2012/Best-Sandwiches-in-Chicago-Melt-Sandwich-Shoppe-The-Istanbul/',\n",
       " 'http://www.chicagomag.com/Chicago-Magazine/November-2012/Best-Sandwiches-in-Chicago-Floriole-Cafe-and-Bakery-BAD/',\n",
       " 'http://www.chicagomag.com/Chicago-Magazine/November-2012/Best-Sandwiches-in-Chicago-First-Slice-Pie-Cafe-Duck-Confit-and-Mozzarella/',\n",
       " 'http://www.chicagomag.com/Chicago-Magazine/November-2012/Best-Sandwiches-in-Chicago-Troquet-Croque-Monsieur/',\n",
       " 'http://www.chicagomag.com/Chicago-Magazine/November-2012/Best-Sandwiches-in-Chicago-Grahamwich-Green-Garbanzo/',\n",
       " 'http://www.chicagomag.com/Chicago-Magazine/November-2012/Best-Sandwiches-in-Chicago-Saigon-Sisters-The-Hen-House/',\n",
       " 'http://www.chicagomag.com/Chicago-Magazine/November-2012/Best-Sandwiches-in-Chicago-Rosalias-Deli-Tuscan-Chicken/',\n",
       " 'http://www.chicagomag.com/Chicago-Magazine/November-2012/Best-Sandwiches-in-Chicago-Z-and-H-MarketCafe-The-Marty/',\n",
       " 'http://www.chicagomag.com/Chicago-Magazine/November-2012/Best-Sandwiches-in-Chicago-Market-House-on-the-Square-Whitefish/',\n",
       " 'http://www.chicagomag.com/Chicago-Magazine/November-2012/Best-Sandwiches-in-Chicago-Elaines-Coffee-Call-Oat-Bread-Pecan-Butter-and-Fruit-Jam/',\n",
       " 'http://www.chicagomag.com/Chicago-Magazine/November-2012/Best-Sandwiches-in-Chicago-Marion-Street-Cheese-Market-Cauliflower-Melt/',\n",
       " 'http://www.chicagomag.com/Chicago-Magazine/November-2012/Best-Sandwiches-in-Chicago-Cafecito-Cubano/',\n",
       " 'http://www.chicagomag.com/Chicago-Magazine/November-2012/Best-Sandwiches-in-Chicago-Chickpea-Kufta/',\n",
       " 'http://www.chicagomag.com/Chicago-Magazine/November-2012/Best-Sandwiches-in-Chicago-The-Goddess-and-Grocer-Debbies-Egg-Salad/',\n",
       " 'http://www.chicagomag.com/Chicago-Magazine/November-2012/Best-Sandwiches-in-Chicago-Zenwich-Beef-Curry/',\n",
       " 'http://www.chicagomag.com/Chicago-Magazine/November-2012/Best-Sandwiches-in-Chicago-Toni-Patisserie-Le-Vegetarien/',\n",
       " 'http://www.chicagomag.com/Chicago-Magazine/November-2012/Best-Sandwiches-in-Chicago-Phoebes-Bakery-The-Gatsby/']"
      ]
     },
     "execution_count": 24,
     "metadata": {},
     "output_type": "execute_result"
    }
   ],
   "source": [
    "websites3"
   ]
  },
  {
   "cell_type": "code",
   "execution_count": 25,
   "metadata": {},
   "outputs": [
    {
     "name": "stdout",
     "output_type": "stream",
     "text": [
      "http://www.chicagomag.com/Chicago-Magazine/November-2012/Best-Sandwiches-in-Chicago-Old-Oak-Tap-BLT/\n",
      "http://www.chicagomag.com/Chicago-Magazine/November-2012/Best-Sandwiches-in-Chicago-Au-Cheval-Fried-Bologna/\n",
      "http://www.chicagomag.com/Chicago-Magazine/November-2012/Best-Sandwiches-in-Chicago-Xoco-Woodland-Mushroom/\n",
      "http://www.chicagomag.com/Chicago-Magazine/November-2012/Best-Sandwiches-in-Chicago-Als-Deli-Roast-Beef/\n",
      "http://www.chicagomag.com/Chicago-Magazine/November-2012/Best-Sandwiches-in-Chicago-Publican-Quality-Meats-PB-L/\n",
      "http://www.chicagomag.com/Chicago-Magazine/November-2012/Best-Sandwiches-in-Chicago-Hendrickx-Belgian-Bread-Crafter-Belgian-Chicken-Curry-Salad/\n",
      "http://www.chicagomag.com/Chicago-Magazine/November-2012/Best-Sandwiches-in-Chicago-Acadia-Lobster-Roll/\n",
      "http://www.chicagomag.com/Chicago-Magazine/November-2012/Best-Sandwiches-in-Chicago-Birchwood-Kitchen-Smoked-Salmon-Salad/\n",
      "http://www.chicagomag.com/Chicago-Magazine/November-2012/Best-Sandwiches-in-Chicago-Cemitas-Puebla-Atomica-Cemitas/\n",
      "http://www.chicagomag.com/Chicago-Magazine/November-2012/Best-Sandwiches-in-Chicago-Nana-Grilled-Laughing-Bird-Shrimp-and-Fried-Oyster-Po-Boy/\n",
      "http://www.chicagomag.com/Chicago-Magazine/November-2012/Best-Sandwiches-in-Chicago-Lula-Cafe-Ham-and-Raclette-Panino/\n",
      "http://www.chicagomag.com/Chicago-Magazine/November-2012/Best-Sandwiches-in-Chicago-Ricobenes-Breaded-Steak/\n",
      "http://www.chicagomag.com/Chicago-Magazine/November-2012/Best-Sandwiches-in-Chicago-Frog-n-Snail-The-Hawkeye/\n",
      "http://www.chicagomag.com/Chicago-Magazine/November-2012/Best-Sandwiches-in-Chicago-Crosbys-Kitchen-Chicken-Dip/\n",
      "http://www.chicagomag.com/Chicago-Magazine/November-2012/Best-Sandwiches-in-Chicago-Longman-and-Eagle-Wild-Boar-Sloppy-Joe/\n",
      "http://www.chicagomag.com/Chicago-Magazine/November-2012/Best-Sandwiches-in-Chicago-Bari-Meatball-Sub/\n",
      "http://www.chicagomag.com/Chicago-Magazine/November-2012/Best-Sandwiches-in-Chicago-Mannys-Corned-Beef/\n",
      "http://www.chicagomag.com/Chicago-Magazine/November-2012/Best-Sandwiches-in-Chicago-Eggys-Turkey-Club/\n",
      "http://www.chicagomag.com/Chicago-Magazine/November-2012/Best-Sandwiches-in-Chicago-Old-Jerusalem-Falafel/\n",
      "http://www.chicagomag.com/Chicago-Magazine/November-2012/Best-Sandwiches-in-Chicago-Mindys-HotChocolate-Crab-Cake/\n",
      "http://www.chicagomag.com/Chicago-Magazine/November-2012/Best-Sandwiches-in-Chicago-Olgas-Delicatessen-Chicken-Schnitzel/\n",
      "http://www.chicagomag.com/Chicago-Magazine/November-2012/Best-Sandwiches-in-Chicago-Dawali-Mediterranean-Kitchen-Shawarma/\n",
      "http://www.chicagomag.com/Chicago-Magazine/November-2012/Best-Sandwiches-in-Chicago-Big-Jones-Toasted-Pimiento-Cheese/\n",
      "http://www.chicagomag.com/Chicago-Magazine/November-2012/Best-Sandwiches-in-Chicago-La-Pane-Vegetarian-Panino/\n",
      "http://www.chicagomag.com/Chicago-Magazine/November-2012/Best-Sandwiches-in-Chicago-Pastoral-Cali-Chevre/\n",
      "http://www.chicagomag.com/Chicago-Magazine/November-2012/Best-Sandwiches-in-Chicago-Maxs-Deli-Pastrami/\n",
      "http://www.chicagomag.com/Chicago-Magazine/November-2012/Best-Sandwiches-in-Chicago-Luckys-Sandwich-Co-The-Fredo/\n",
      "http://www.chicagomag.com/Chicago-Magazine/November-2012/Best-Sandwiches-in-Chicago-City-Provisions-Smoked-Ham/\n",
      "http://www.chicagomag.com/Chicago-Magazine/November-2012/Best-Sandwiches-in-Chicago-Papas-Cache-Sabroso-Jibarito/\n",
      "http://www.chicagomag.com/Chicago-Magazine/November-2012/Best-Sandwiches-in-Chicago-Bavettes-Bar-and-Boeuf-Shaved-Prime-Rib/\n",
      "http://www.chicagomag.com/Chicago-Magazine/November-2012/Best-Sandwiches-in-Chicago-Hannahs-Bretzel-Serrano-Ham-and-Manchego-Cheese/\n",
      "http://www.chicagomag.com/Chicago-Magazine/November-2012/Best-Sandwiches-in-Chicago-La-Fournette-Tuna-Salad/\n",
      "http://www.chicagomag.com/Chicago-Magazine/November-2012/Best-Sandwiches-in-Chicago-Paramount-Room-Paramount-Reuben/\n",
      "http://www.chicagomag.com/Chicago-Magazine/November-2012/Best-Sandwiches-in-Chicago-Melt-Sandwich-Shoppe-The-Istanbul/\n",
      "http://www.chicagomag.com/Chicago-Magazine/November-2012/Best-Sandwiches-in-Chicago-Floriole-Cafe-and-Bakery-BAD/\n",
      "http://www.chicagomag.com/Chicago-Magazine/November-2012/Best-Sandwiches-in-Chicago-First-Slice-Pie-Cafe-Duck-Confit-and-Mozzarella/\n",
      "http://www.chicagomag.com/Chicago-Magazine/November-2012/Best-Sandwiches-in-Chicago-Troquet-Croque-Monsieur/\n",
      "http://www.chicagomag.com/Chicago-Magazine/November-2012/Best-Sandwiches-in-Chicago-Grahamwich-Green-Garbanzo/\n",
      "http://www.chicagomag.com/Chicago-Magazine/November-2012/Best-Sandwiches-in-Chicago-Saigon-Sisters-The-Hen-House/\n",
      "http://www.chicagomag.com/Chicago-Magazine/November-2012/Best-Sandwiches-in-Chicago-Rosalias-Deli-Tuscan-Chicken/\n",
      "http://www.chicagomag.com/Chicago-Magazine/November-2012/Best-Sandwiches-in-Chicago-Z-and-H-MarketCafe-The-Marty/\n",
      "http://www.chicagomag.com/Chicago-Magazine/November-2012/Best-Sandwiches-in-Chicago-Market-House-on-the-Square-Whitefish/\n",
      "http://www.chicagomag.com/Chicago-Magazine/November-2012/Best-Sandwiches-in-Chicago-Elaines-Coffee-Call-Oat-Bread-Pecan-Butter-and-Fruit-Jam/\n",
      "http://www.chicagomag.com/Chicago-Magazine/November-2012/Best-Sandwiches-in-Chicago-Marion-Street-Cheese-Market-Cauliflower-Melt/\n",
      "http://www.chicagomag.com/Chicago-Magazine/November-2012/Best-Sandwiches-in-Chicago-Cafecito-Cubano/\n",
      "http://www.chicagomag.com/Chicago-Magazine/November-2012/Best-Sandwiches-in-Chicago-Chickpea-Kufta/\n",
      "http://www.chicagomag.com/Chicago-Magazine/November-2012/Best-Sandwiches-in-Chicago-The-Goddess-and-Grocer-Debbies-Egg-Salad/\n",
      "http://www.chicagomag.com/Chicago-Magazine/November-2012/Best-Sandwiches-in-Chicago-Zenwich-Beef-Curry/\n",
      "http://www.chicagomag.com/Chicago-Magazine/November-2012/Best-Sandwiches-in-Chicago-Toni-Patisserie-Le-Vegetarien/\n",
      "http://www.chicagomag.com/Chicago-Magazine/November-2012/Best-Sandwiches-in-Chicago-Phoebes-Bakery-The-Gatsby/\n"
     ]
    }
   ],
   "source": [
    "for i in range(50):\n",
    "    websites3[i]\n",
    "    print(websites3[i])"
   ]
  },
  {
   "cell_type": "code",
   "execution_count": 26,
   "metadata": {
    "collapsed": true
   },
   "outputs": [],
   "source": [
    "import re"
   ]
  },
  {
   "cell_type": "code",
   "execution_count": 231,
   "metadata": {},
   "outputs": [
    {
     "name": "stdout",
     "output_type": "stream",
     "text": [
      "가격: ['$10'] \t주소: [' 2109 W. Chicago Ave.'] \t전화번호: ['773-772-0406'] \t홈페이지 정보: ['theoldoaktap.com']\n",
      "가격: ['$9'] \t주소: [' 800 W. Randolph St.'] \t전화번호: ['312-929-4580'] \t홈페이지 정보: ['aucheval.tumblr.com']\n",
      "가격: ['$9.50'] \t주소: [' 445 N. Clark St.'] \t전화번호: ['312-334-3688'] \t홈페이지 정보: ['rickbayless.com']\n",
      "가격: ['$9.40'] \t주소: [' 914 Noyes St.'] \t전화번호: [] \t홈페이지 정보: []\n",
      "가격: ['$10'] \t주소: [' 825 W. Fulton Mkt.'] \t전화번호: ['312-445-8977'] \t홈페이지 정보: ['publicanqualitymeats.com']\n",
      "가격: ['$7.25'] \t주소: [' 100 E. Walton St.'] \t전화번호: ['312-649-6717'] \t홈페이지 정보: ['publicanqualitymeats.com']\n",
      "가격: ['$16'] \t주소: [' 1639 S. Wabash Ave.'] \t전화번호: ['312-360-9500'] \t홈페이지 정보: ['acadiachicago.com']\n",
      "가격: ['$10'] \t주소: [' 2211 W. North Ave.'] \t전화번호: ['773-276-2100'] \t홈페이지 정보: ['birchwoodkitchen.com']\n",
      "가격: ['$9'] \t주소: [' 3619 W. North Ave.'] \t전화번호: ['773-772-8435'] \t홈페이지 정보: ['cemitaspuebla.com']\n",
      "가격: ['$17'] \t주소: [' 3267 S. Halsted St.'] \t전화번호: ['312-929-2486'] \t홈페이지 정보: ['nanaorganic.com']\n",
      "가격: ['$11'] \t주소: [' 2537 N. Kedzie Blvd.'] \t전화번호: ['773-489-9554'] \t홈페이지 정보: ['lulacafe.com']\n",
      "가격: ['$5.49'] \t주소: [' Multiple locations'] \t전화번호: [] \t홈페이지 정보: ['lulacafe.com']\n",
      "가격: ['$14'] \t주소: [' 3124 N. Broadway'] \t전화번호: ['773-661-9166'] \t홈페이지 정보: ['frognsnail.com']\n",
      "가격: ['$10'] \t주소: [' 3455 N. Southport Ave.'] \t전화번호: ['773-883-2525'] \t홈페이지 정보: ['crosbyskitchenchicago.com']\n",
      "가격: ['$13'] \t주소: [' 2657 N. Kedzie Ave.'] \t전화번호: ['773-276-7110'] \t홈페이지 정보: ['longmanandeagle.com']\n",
      "가격: ['$4.50'] \t주소: [' 1120 W. Grand Ave.'] \t전화번호: ['312-666-0730'] \t홈페이지 정보: ['bariitaliansubs.com']\n",
      "가격: ['$11.95'] \t주소: [' 1141 S. Jefferson St.'] \t전화번호: ['312-939-2855'] \t홈페이지 정보: ['mannysdeli.com']\n",
      "가격: ['$11.50'] \t주소: [' 333 E. Benton Pl.'] \t전화번호: ['773-234-3449'] \t홈페이지 정보: ['eggysdiner.com']\n",
      "가격: ['$6.25'] \t주소: [' 1411 N. Wells St.'] \t전화번호: ['312-944-0459'] \t홈페이지 정보: ['oldjerusalemchicago.com']\n",
      "가격: ['$15'] \t주소: [' 1747 N. Damen Ave.'] \t전화번호: ['773-489-1747'] \t홈페이지 정보: ['hotchocolatechicago.com']\n",
      "가격: ['$5'] \t주소: [' 3209 W. Irving Park Rd.'] \t전화번호: ['773-539-8038'] \t홈페이지 정보: ['hotchocolatechicago.com']\n",
      "가격: ['$6'] \t주소: [' Multiple locations'] \t전화번호: [] \t홈페이지 정보: ['hotchocolatechicago.com']\n",
      "가격: ['$8'] \t주소: [' 5347 N. Clark St.'] \t전화번호: ['773-275-5725'] \t홈페이지 정보: ['bigjoneschicago.com']\n",
      "가격: ['$5.99'] \t주소: [' 2954 W. Irving Park Rd.'] \t전화번호: ['773-539-5321'] \t홈페이지 정보: ['lapanechicago.com']\n",
      "가격: ['$7.52'] \t주소: [' Multiple locations'] \t전화번호: [] \t홈페이지 정보: ['lapanechicago.com']\n",
      "가격: ['$11.95'] \t주소: [' 191 Skokie Valley Rd.'] \t전화번호: [] \t홈페이지 정보: []\n",
      "가격: ['$7.50'] \t주소: [' Multiple locations'] \t전화번호: [] \t홈페이지 정보: []\n",
      "가격: ['$12.95'] \t주소: [' 1818 W. Wilson Ave.'] \t전화번호: ['773-293-2489'] \t홈페이지 정보: ['cityprovisions.com']\n",
      "가격: ['$7'] \t주소: [' 2517 W. Division St.'] \t전화번호: ['773-862-8313'] \t홈페이지 정보: ['papascachesabroso.com']\n",
      "가격: ['$21'] \t주소: [' 218 W. Kinzie St.'] \t전화번호: ['312-624-8154'] \t홈페이지 정보: ['papascachesabroso.com']\n",
      "가격: ['$9.79'] \t주소: [' Multiple locations'] \t전화번호: [] \t홈페이지 정보: ['papascachesabroso.com']\n",
      "가격: ['$9.75'] \t주소: [' 1547 N. Wells St.'] \t전화번호: ['312-624-9430'] \t홈페이지 정보: ['lafournette.com']\n",
      "가격: ['$13'] \t주소: [' 415 N. Milwaukee Ave.'] \t전화번호: ['312-829-6300'] \t홈페이지 정보: ['paramountroom.com']\n",
      "가격: ['$7.95'] \t주소: [' 1840 N. Damen Ave.'] \t전화번호: ['773-681-9914'] \t홈페이지 정보: ['meltsandwichshoppechicago.com']\n",
      "가격: ['$9'] \t주소: [' 1220 W. Webster Ave.'] \t전화번호: ['773-883-1313'] \t홈페이지 정보: ['floriole.com']\n",
      "가격: ['$9'] \t주소: [' 5357 N. Ashland Ave.'] \t전화번호: ['773-275-4297'] \t홈페이지 정보: ['firstslice.org']\n",
      "가격: ['$8'] \t주소: [' 1834 W. Montrose Ave.'] \t전화번호: ['773-334-5664'] \t홈페이지 정보: ['troquetchicago.com']\n",
      "가격: ['$8'] \t주소: [' 615 N. State St.'] \t전화번호: ['312-265-0434'] \t홈페이지 정보: ['grahamwich.com']\n",
      "가격: ['$7'] \t주소: [' Multiple locations'] \t전화번호: [] \t홈페이지 정보: ['grahamwich.com']\n",
      "가격: ['$6'] \t주소: [' 241 N. York Rd.'] \t전화번호: [] \t홈페이지 정보: []\n",
      "가격: ['$7.25'] \t주소: [' 1323 E. 57th St.'] \t전화번호: ['773-538-7372'] \t홈페이지 정보: ['zhmarketcafe.com']\n",
      "가격: ['$11'] \t주소: [' 655 Forest Ave.'] \t전화번호: [] \t홈페이지 정보: []\n",
      "가격: ['$6'] \t주소: [' Hotel Lincoln'] \t전화번호: ['1816 N. Clark St.'] \t홈페이지 정보: []\n",
      "가격: ['$9'] \t주소: [' 100 S. Marion St.'] \t전화번호: [] \t홈페이지 정보: []\n",
      "가격: ['$5.49'] \t주소: [' 26 E. Congress Pkwy.'] \t전화번호: ['312-922-2233'] \t홈페이지 정보: ['cafecitochicago.com']\n",
      "가격: ['$8'] \t주소: [' 2018 W. Chicago Ave.'] \t전화번호: ['773-384-9930'] \t홈페이지 정보: ['chickpeaonthego.com']\n",
      "가격: ['$6.50'] \t주소: [' 25 E. Delaware Pl.'] \t전화번호: ['312-896-2600'] \t홈페이지 정보: ['goddessandgrocer.com']\n",
      "가격: ['$7.50'] \t주소: [' 416 N. York St.'] \t전화번호: [] \t홈페이지 정보: []\n",
      "가격: ['$8.75'] \t주소: [' 65 E. Washington St.'] \t전화번호: ['312-726-2020'] \t홈페이지 정보: ['tonipatisserie.com']\n",
      "가격: ['$6.85'] \t주소: [' 3351 N. Broadway'] \t전화번호: ['773-868-4000'] \t홈페이지 정보: ['phoebesbakery.com']\n"
     ]
    }
   ],
   "source": [
    "p=[]\n",
    "d=[]\n",
    "t=[]\n",
    "h=[]\n",
    "for i in range(50):\n",
    "    url= '{site}'.format(\n",
    "    site=websites3[i]\n",
    "    )\n",
    "\n",
    "    html_price=requests.get(url).text\n",
    "    soup_price=BeautifulSoup(html_price,\"lxml\")\n",
    "    try:\n",
    "        price_address=soup_price.select('p.addy em')\n",
    "        tmp=price_address[0].get_text()\n",
    "\n",
    "        pattern=re.compile(\"[$]\\d+[.]\\d+|[$]\\d+\")\n",
    "        price = pattern.findall(tmp)\n",
    "        p.append(price)\n",
    "        a=tmp.split(\",\")\n",
    "\n",
    "        pattern1=re.compile(\"[\\sA-Za-z].+\")\n",
    "        address=pattern1.findall(a[0])\n",
    "        d.append(address)\n",
    "        \n",
    "        pattern2=re.compile(\"[0-9].+\")\n",
    "        phone=pattern2.findall(a[1])\n",
    "        t.append(phone)\n",
    "        \n",
    "        #if a[2] is None:\n",
    "            #homepage=\"none\"\n",
    "            #6. Hendrickx Belgian Bread의 none값을 명시 못함\n",
    "            \n",
    "        pattern3=re.compile(\"[a-zA-Z0-9][\\.]?[a-zA-Z0-9][\\.]?[a-z].+\")\n",
    "        homepage=pattern3.findall(a[2])\n",
    "        h.append(homepage)\n",
    "\n",
    "        \n",
    "    except:\n",
    "        pass\n",
    "\n",
    "    print(\"가격:\",price,\"\\t주소:\",address, \"\\t전화번호:\", phone, \"\\t홈페이지 정보:\", homepage)\n"
   ]
  },
  {
   "cell_type": "code",
   "execution_count": 236,
   "metadata": {},
   "outputs": [
    {
     "data": {
      "text/plain": [
       "41"
      ]
     },
     "execution_count": 236,
     "metadata": {},
     "output_type": "execute_result"
    }
   ],
   "source": [
    "len(h) #홈페이지에서 41개까지 밖에 안나옴"
   ]
  },
  {
   "cell_type": "code",
   "execution_count": 233,
   "metadata": {},
   "outputs": [
    {
     "data": {
      "text/plain": [
       "['C:/Users/yjp13/Desktop/assignment.txt']"
      ]
     },
     "execution_count": 233,
     "metadata": {},
     "output_type": "execute_result"
    }
   ],
   "source": [
    "file_name = 'C:/Users/yjp13/Desktop/assignment.txt'\n",
    "if exists(file_name): os.remove(file_name)\n",
    "\n",
    "f = open(file_name,'w') # 파일 열기\n",
    "\n",
    "  # 추출된 노래 제목과 아티스트를 파일에 저장 \n",
    "for i in range(len(burger_rankings)):\n",
    "        \n",
    "    try:\n",
    "        f.write(\"{0}\\t{1}\\t{2}\\t{3}\\t{4}\\t{5}\\t{6}\\n\".format(burger_rankings[i], cafe_list[i], menu_list[i], p[i], d[i], t[i], h[i] ))\n",
    "\n",
    "    except:\n",
    "        pass\n",
    "f.close() # 파일 닫기\n",
    "\n",
    "glob.glob(file_name) # 생성된 파일 확인"
   ]
  }
 ],
 "metadata": {
  "kernelspec": {
   "display_name": "Python 3",
   "language": "python",
   "name": "python3"
  },
  "language_info": {
   "codemirror_mode": {
    "name": "ipython",
    "version": 3
   },
   "file_extension": ".py",
   "mimetype": "text/x-python",
   "name": "python",
   "nbconvert_exporter": "python",
   "pygments_lexer": "ipython3",
   "version": "3.7.1"
  }
 },
 "nbformat": 4,
 "nbformat_minor": 2
}
