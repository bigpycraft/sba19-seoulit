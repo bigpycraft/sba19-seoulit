{
 "cells": [
  {
   "cell_type": "code",
   "execution_count": 1,
   "metadata": {},
   "outputs": [],
   "source": [
    "import pandas as pd"
   ]
  },
  {
   "cell_type": "code",
   "execution_count": 4,
   "metadata": {},
   "outputs": [],
   "source": [
    "news = pd.read_excel('news_2015.xlsx')"
   ]
  },
  {
   "cell_type": "code",
   "execution_count": 5,
   "metadata": {},
   "outputs": [
    {
     "data": {
      "text/html": [
       "<div>\n",
       "<style scoped>\n",
       "    .dataframe tbody tr th:only-of-type {\n",
       "        vertical-align: middle;\n",
       "    }\n",
       "\n",
       "    .dataframe tbody tr th {\n",
       "        vertical-align: top;\n",
       "    }\n",
       "\n",
       "    .dataframe thead th {\n",
       "        text-align: right;\n",
       "    }\n",
       "</style>\n",
       "<table border=\"1\" class=\"dataframe\">\n",
       "  <thead>\n",
       "    <tr style=\"text-align: right;\">\n",
       "      <th></th>\n",
       "      <th>Unnamed: 0</th>\n",
       "      <th>제목</th>\n",
       "      <th>내용</th>\n",
       "      <th>언론사</th>\n",
       "      <th>날짜</th>\n",
       "    </tr>\n",
       "  </thead>\n",
       "  <tbody>\n",
       "    <tr>\n",
       "      <th>0</th>\n",
       "      <td>0</td>\n",
       "      <td>광주기독교계 미쓰비시 불매운동 동참</td>\n",
       "      <td>// \\t\\n\\t광주지역 기독교계가 일본 기업 미쓰비시 불매운동에 동참했다. 광주기...</td>\n",
       "      <td>경향신문</td>\n",
       "      <td>2015.08.12.</td>\n",
       "    </tr>\n",
       "    <tr>\n",
       "      <th>1</th>\n",
       "      <td>1</td>\n",
       "      <td>롯데 불매운동 속 신동주 일본어 인터뷰 눈길 '부글부글'</td>\n",
       "      <td>// 롯데 불매운동[스포츠서울] 신격호 신동빈 부자 전쟁에 소비자들이 롯데 불매운동...</td>\n",
       "      <td>스포츠서울</td>\n",
       "      <td>2015.08.04.</td>\n",
       "    </tr>\n",
       "    <tr>\n",
       "      <th>2</th>\n",
       "      <td>2</td>\n",
       "      <td>시민단체, \"롯데는 일본기업, 연말까지 불매운동 전개\"</td>\n",
       "      <td>//   가족간 경영권 분쟁으로 내홍을 겪고 있는 롯데그룹에 대한 국민 반감이 커지...</td>\n",
       "      <td>파이낸셜뉴스</td>\n",
       "      <td>2015.08.04.</td>\n",
       "    </tr>\n",
       "    <tr>\n",
       "      <th>3</th>\n",
       "      <td>3</td>\n",
       "      <td>[롯데 경영권 분쟁]“실상은 일본기업”… 롯데 불매운동 확산</td>\n",
       "      <td>// ㆍ‘광윤사’가 그룹 좌지우지ㆍ신동주 ‘일본어 인터뷰’도 대중 ‘반일 정서’ 자...</td>\n",
       "      <td>경향신문</td>\n",
       "      <td>2015.08.03.</td>\n",
       "    </tr>\n",
       "    <tr>\n",
       "      <th>4</th>\n",
       "      <td>4</td>\n",
       "      <td>[롯데] 제품 불매운동에 직원들 '억울'</td>\n",
       "      <td>// \\t\\n\\t【 앵커멘트 】  롯데그룹의 국적 논란이 제품 불매운동으로 이어지자...</td>\n",
       "      <td>MBN</td>\n",
       "      <td>2015.08.07.</td>\n",
       "    </tr>\n",
       "  </tbody>\n",
       "</table>\n",
       "</div>"
      ],
      "text/plain": [
       "   Unnamed: 0                                  제목  \\\n",
       "0           0                광주기독교계 미쓰비시 불매운동 동참    \n",
       "1           1    롯데 불매운동 속 신동주 일본어 인터뷰 눈길 '부글부글'    \n",
       "2           2     시민단체, \"롯데는 일본기업, 연말까지 불매운동 전개\"    \n",
       "3           3  [롯데 경영권 분쟁]“실상은 일본기업”… 롯데 불매운동 확산    \n",
       "4           4             [롯데] 제품 불매운동에 직원들 '억울'    \n",
       "\n",
       "                                                  내용     언론사           날짜  \n",
       "0  // \\t\\n\\t광주지역 기독교계가 일본 기업 미쓰비시 불매운동에 동참했다. 광주기...    경향신문  2015.08.12.  \n",
       "1  // 롯데 불매운동[스포츠서울] 신격호 신동빈 부자 전쟁에 소비자들이 롯데 불매운동...   스포츠서울  2015.08.04.  \n",
       "2  //   가족간 경영권 분쟁으로 내홍을 겪고 있는 롯데그룹에 대한 국민 반감이 커지...  파이낸셜뉴스  2015.08.04.  \n",
       "3  // ㆍ‘광윤사’가 그룹 좌지우지ㆍ신동주 ‘일본어 인터뷰’도 대중 ‘반일 정서’ 자...    경향신문  2015.08.03.  \n",
       "4  // \\t\\n\\t【 앵커멘트 】  롯데그룹의 국적 논란이 제품 불매운동으로 이어지자...     MBN  2015.08.07.  "
      ]
     },
     "execution_count": 5,
     "metadata": {},
     "output_type": "execute_result"
    }
   ],
   "source": [
    "news.head()"
   ]
  },
  {
   "cell_type": "code",
   "execution_count": 7,
   "metadata": {},
   "outputs": [],
   "source": [
    "news_rank = pd.DataFrame(news.groupby('언론사').size())"
   ]
  },
  {
   "cell_type": "code",
   "execution_count": 8,
   "metadata": {},
   "outputs": [
    {
     "data": {
      "text/html": [
       "<div>\n",
       "<style scoped>\n",
       "    .dataframe tbody tr th:only-of-type {\n",
       "        vertical-align: middle;\n",
       "    }\n",
       "\n",
       "    .dataframe tbody tr th {\n",
       "        vertical-align: top;\n",
       "    }\n",
       "\n",
       "    .dataframe thead th {\n",
       "        text-align: right;\n",
       "    }\n",
       "</style>\n",
       "<table border=\"1\" class=\"dataframe\">\n",
       "  <thead>\n",
       "    <tr style=\"text-align: right;\">\n",
       "      <th></th>\n",
       "      <th>0</th>\n",
       "    </tr>\n",
       "    <tr>\n",
       "      <th>언론사</th>\n",
       "      <th></th>\n",
       "    </tr>\n",
       "  </thead>\n",
       "  <tbody>\n",
       "    <tr>\n",
       "      <th>JTBC</th>\n",
       "      <td>8</td>\n",
       "    </tr>\n",
       "    <tr>\n",
       "      <th>KBS</th>\n",
       "      <td>9</td>\n",
       "    </tr>\n",
       "    <tr>\n",
       "      <th>MBC</th>\n",
       "      <td>2</td>\n",
       "    </tr>\n",
       "    <tr>\n",
       "      <th>MBN</th>\n",
       "      <td>19</td>\n",
       "    </tr>\n",
       "    <tr>\n",
       "      <th>SBS</th>\n",
       "      <td>4</td>\n",
       "    </tr>\n",
       "  </tbody>\n",
       "</table>\n",
       "</div>"
      ],
      "text/plain": [
       "       0\n",
       "언론사     \n",
       "JTBC   8\n",
       "KBS    9\n",
       "MBC    2\n",
       "MBN   19\n",
       "SBS    4"
      ]
     },
     "execution_count": 8,
     "metadata": {},
     "output_type": "execute_result"
    }
   ],
   "source": [
    "news_rank.head()"
   ]
  },
  {
   "cell_type": "code",
   "execution_count": 10,
   "metadata": {},
   "outputs": [],
   "source": [
    "news_rank = news_rank.sort_values(by=0, ascending=False)"
   ]
  },
  {
   "cell_type": "code",
   "execution_count": 12,
   "metadata": {},
   "outputs": [],
   "source": [
    "news_rank.to_excel('2015뉴스빈도.xlsx')"
   ]
  },
  {
   "cell_type": "code",
   "execution_count": null,
   "metadata": {},
   "outputs": [],
   "source": []
  }
 ],
 "metadata": {
  "kernelspec": {
   "display_name": "Python 3",
   "language": "python",
   "name": "python3"
  },
  "language_info": {
   "codemirror_mode": {
    "name": "ipython",
    "version": 3
   },
   "file_extension": ".py",
   "mimetype": "text/x-python",
   "name": "python",
   "nbconvert_exporter": "python",
   "pygments_lexer": "ipython3",
   "version": "3.7.3"
  }
 },
 "nbformat": 4,
 "nbformat_minor": 4
}
