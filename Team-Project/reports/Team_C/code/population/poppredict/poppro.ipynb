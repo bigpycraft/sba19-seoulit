{
 "cells": [
  {
   "cell_type": "code",
   "execution_count": 14,
   "metadata": {},
   "outputs": [],
   "source": [
    "import platform\n",
    "import itertools\n",
    "import numpy as np\n",
    "import pandas as pd\n",
    "import matplotlib.pyplot as plt\n",
    "import re\n",
    "\n",
    "from matplotlib import font_manager, rc\n",
    "font_name = font_manager.FontProperties(fname=\"c:/Windows/Fonts/malgun.ttf\").get_name()\n",
    "rc('font', family=font_name)\n",
    "\n",
    "%matplotlib inline\n",
    "COLOR = 'cyan'\n",
    "plt.rcParams[\"figure.figsize\"] = [25,14]\n",
    "plt.rcParams['text.color'] = COLOR\n",
    "plt.rcParams['axes.labelcolor'] = COLOR\n",
    "plt.rcParams['xtick.color'] = COLOR\n",
    "plt.rcParams['ytick.color'] = COLOR"
   ]
  },
  {
   "cell_type": "code",
   "execution_count": 15,
   "metadata": {},
   "outputs": [],
   "source": [
    "COLOR = 'cyan'\n",
    "plt.rcParams[\"figure.figsize\"] = [25,14]\n",
    "plt.rcParams['text.color'] = COLOR\n",
    "plt.rcParams['axes.labelcolor'] = COLOR\n",
    "plt.rcParams['xtick.color'] = COLOR\n",
    "plt.rcParams['ytick.color'] = COLOR"
   ]
  },
  {
   "cell_type": "code",
   "execution_count": 2,
   "metadata": {},
   "outputs": [],
   "source": [
    "def from_iterable(iterables):\n",
    "    # chain.from_iterable(['ABC', 'DEF']) --> ['A', 'B', 'C', 'D', 'E', 'F']\n",
    "    for it in iterables:\n",
    "        for element in it:\n",
    "            yield element"
   ]
  },
  {
   "cell_type": "code",
   "execution_count": 3,
   "metadata": {},
   "outputs": [
    {
     "data": {
      "text/html": [
       "<div>\n",
       "<style scoped>\n",
       "    .dataframe tbody tr th:only-of-type {\n",
       "        vertical-align: middle;\n",
       "    }\n",
       "\n",
       "    .dataframe tbody tr th {\n",
       "        vertical-align: top;\n",
       "    }\n",
       "\n",
       "    .dataframe thead th {\n",
       "        text-align: right;\n",
       "    }\n",
       "</style>\n",
       "<table border=\"1\" class=\"dataframe\">\n",
       "  <thead>\n",
       "    <tr style=\"text-align: right;\">\n",
       "      <th></th>\n",
       "      <th>구분별(1)</th>\n",
       "      <th>2018</th>\n",
       "      <th>2019</th>\n",
       "      <th>2020</th>\n",
       "      <th>2021</th>\n",
       "      <th>2022</th>\n",
       "      <th>2023</th>\n",
       "      <th>2024</th>\n",
       "      <th>2025</th>\n",
       "      <th>2026</th>\n",
       "      <th>2027</th>\n",
       "      <th>2028</th>\n",
       "    </tr>\n",
       "  </thead>\n",
       "  <tbody>\n",
       "    <tr>\n",
       "      <th>0</th>\n",
       "      <td>총인구 (명)</td>\n",
       "      <td>51606633</td>\n",
       "      <td>51709098</td>\n",
       "      <td>51780579</td>\n",
       "      <td>51821669</td>\n",
       "      <td>51846339</td>\n",
       "      <td>51868100</td>\n",
       "      <td>51887623</td>\n",
       "      <td>51905126</td>\n",
       "      <td>51920462</td>\n",
       "      <td>51933215</td>\n",
       "      <td>51941946</td>\n",
       "    </tr>\n",
       "    <tr>\n",
       "      <th>1</th>\n",
       "      <td>고령인구 (65세 이상) (명)</td>\n",
       "      <td>7372160</td>\n",
       "      <td>7684919</td>\n",
       "      <td>8125432</td>\n",
       "      <td>8537023</td>\n",
       "      <td>8974643</td>\n",
       "      <td>9447274</td>\n",
       "      <td>9944702</td>\n",
       "      <td>10511160</td>\n",
       "      <td>11114363</td>\n",
       "      <td>11589115</td>\n",
       "      <td>12117527</td>\n",
       "    </tr>\n",
       "  </tbody>\n",
       "</table>\n",
       "</div>"
      ],
      "text/plain": [
       "              구분별(1)      2018      2019      2020      2021      2022  \\\n",
       "0            총인구 (명)  51606633  51709098  51780579  51821669  51846339   \n",
       "1  고령인구 (65세 이상) (명)   7372160   7684919   8125432   8537023   8974643   \n",
       "\n",
       "       2023      2024      2025      2026      2027      2028  \n",
       "0  51868100  51887623  51905126  51920462  51933215  51941946  \n",
       "1   9447274   9944702  10511160  11114363  11589115  12117527  "
      ]
     },
     "execution_count": 3,
     "metadata": {},
     "output_type": "execute_result"
    }
   ],
   "source": [
    "df = pd.read_csv('data.csv',encoding='ANSI')\n",
    "df.head(10)"
   ]
  },
  {
   "cell_type": "code",
   "execution_count": 4,
   "metadata": {},
   "outputs": [
    {
     "data": {
      "text/html": [
       "<div>\n",
       "<style scoped>\n",
       "    .dataframe tbody tr th:only-of-type {\n",
       "        vertical-align: middle;\n",
       "    }\n",
       "\n",
       "    .dataframe tbody tr th {\n",
       "        vertical-align: top;\n",
       "    }\n",
       "\n",
       "    .dataframe thead th {\n",
       "        text-align: right;\n",
       "    }\n",
       "</style>\n",
       "<table border=\"1\" class=\"dataframe\">\n",
       "  <thead>\n",
       "    <tr style=\"text-align: right;\">\n",
       "      <th></th>\n",
       "      <th>0</th>\n",
       "      <th>1</th>\n",
       "    </tr>\n",
       "  </thead>\n",
       "  <tbody>\n",
       "    <tr>\n",
       "      <th>2019</th>\n",
       "      <td>51709098</td>\n",
       "      <td>7684919</td>\n",
       "    </tr>\n",
       "    <tr>\n",
       "      <th>2020</th>\n",
       "      <td>51780579</td>\n",
       "      <td>8125432</td>\n",
       "    </tr>\n",
       "    <tr>\n",
       "      <th>2021</th>\n",
       "      <td>51821669</td>\n",
       "      <td>8537023</td>\n",
       "    </tr>\n",
       "    <tr>\n",
       "      <th>2022</th>\n",
       "      <td>51846339</td>\n",
       "      <td>8974643</td>\n",
       "    </tr>\n",
       "    <tr>\n",
       "      <th>2023</th>\n",
       "      <td>51868100</td>\n",
       "      <td>9447274</td>\n",
       "    </tr>\n",
       "    <tr>\n",
       "      <th>2024</th>\n",
       "      <td>51887623</td>\n",
       "      <td>9944702</td>\n",
       "    </tr>\n",
       "    <tr>\n",
       "      <th>2025</th>\n",
       "      <td>51905126</td>\n",
       "      <td>10511160</td>\n",
       "    </tr>\n",
       "    <tr>\n",
       "      <th>2026</th>\n",
       "      <td>51920462</td>\n",
       "      <td>11114363</td>\n",
       "    </tr>\n",
       "    <tr>\n",
       "      <th>2027</th>\n",
       "      <td>51933215</td>\n",
       "      <td>11589115</td>\n",
       "    </tr>\n",
       "    <tr>\n",
       "      <th>2028</th>\n",
       "      <td>51941946</td>\n",
       "      <td>12117527</td>\n",
       "    </tr>\n",
       "  </tbody>\n",
       "</table>\n",
       "</div>"
      ],
      "text/plain": [
       "             0         1\n",
       "2019  51709098   7684919\n",
       "2020  51780579   8125432\n",
       "2021  51821669   8537023\n",
       "2022  51846339   8974643\n",
       "2023  51868100   9447274\n",
       "2024  51887623   9944702\n",
       "2025  51905126  10511160\n",
       "2026  51920462  11114363\n",
       "2027  51933215  11589115\n",
       "2028  51941946  12117527"
      ]
     },
     "execution_count": 4,
     "metadata": {},
     "output_type": "execute_result"
    }
   ],
   "source": [
    "df = df.T\n",
    "df = df[2:]\n",
    "df"
   ]
  },
  {
   "cell_type": "code",
   "execution_count": 5,
   "metadata": {},
   "outputs": [
    {
     "data": {
      "text/plain": [
       "2019    51709098\n",
       "2020    51780579\n",
       "2021    51821669\n",
       "2022    51846339\n",
       "2023    51868100\n",
       "2024    51887623\n",
       "2025    51905126\n",
       "2026    51920462\n",
       "2027    51933215\n",
       "2028    51941946\n",
       "Name: 0, dtype: object"
      ]
     },
     "execution_count": 5,
     "metadata": {},
     "output_type": "execute_result"
    }
   ],
   "source": [
    "popdata = df[0]\n",
    "popdata"
   ]
  },
  {
   "cell_type": "code",
   "execution_count": 6,
   "metadata": {},
   "outputs": [
    {
     "data": {
      "text/plain": [
       "[51709098.0,\n",
       " 51780579.0,\n",
       " 51821669.0,\n",
       " 51846339.0,\n",
       " 51868100.0,\n",
       " 51887623.0,\n",
       " 51905126.0,\n",
       " 51920462.0,\n",
       " 51933215.0,\n",
       " 51941946.0]"
      ]
     },
     "execution_count": 6,
     "metadata": {},
     "output_type": "execute_result"
    }
   ],
   "source": [
    "type(popdata[0])\n",
    "popdata = [float(x) for x in popdata]\n",
    "popdata"
   ]
  },
  {
   "cell_type": "code",
   "execution_count": 7,
   "metadata": {},
   "outputs": [
    {
     "data": {
      "text/plain": [
       "10"
      ]
     },
     "execution_count": 7,
     "metadata": {},
     "output_type": "execute_result"
    }
   ],
   "source": [
    "len(popdata)"
   ]
  },
  {
   "cell_type": "code",
   "execution_count": 8,
   "metadata": {},
   "outputs": [
    {
     "data": {
      "text/plain": [
       "2019     7684919\n",
       "2020     8125432\n",
       "2021     8537023\n",
       "2022     8974643\n",
       "2023     9447274\n",
       "2024     9944702\n",
       "2025    10511160\n",
       "2026    11114363\n",
       "2027    11589115\n",
       "2028    12117527\n",
       "Name: 1, dtype: object"
      ]
     },
     "execution_count": 8,
     "metadata": {},
     "output_type": "execute_result"
    }
   ],
   "source": [
    "oldpopdata = df[1]\n",
    "oldpopdata"
   ]
  },
  {
   "cell_type": "code",
   "execution_count": 9,
   "metadata": {},
   "outputs": [
    {
     "data": {
      "text/plain": [
       "[7684919.0,\n",
       " 8125432.0,\n",
       " 8537023.0,\n",
       " 8974643.0,\n",
       " 9447274.0,\n",
       " 9944702.0,\n",
       " 10511160.0,\n",
       " 11114363.0,\n",
       " 11589115.0,\n",
       " 12117527.0]"
      ]
     },
     "execution_count": 9,
     "metadata": {},
     "output_type": "execute_result"
    }
   ],
   "source": [
    "type(oldpopdata[0])\n",
    "oldpopdata = [float(x) for x in oldpopdata]\n",
    "oldpopdata"
   ]
  },
  {
   "cell_type": "code",
   "execution_count": 10,
   "metadata": {},
   "outputs": [
    {
     "data": {
      "text/plain": [
       "10"
      ]
     },
     "execution_count": 10,
     "metadata": {},
     "output_type": "execute_result"
    }
   ],
   "source": [
    "len(oldpopdata)"
   ]
  },
  {
   "cell_type": "code",
   "execution_count": 11,
   "metadata": {},
   "outputs": [],
   "source": [
    "COLOR = 'red'\n",
    "plt.rcParams['text.color'] = COLOR\n",
    "plt.rcParams['axes.labelcolor'] = COLOR\n",
    "plt.rcParams['xtick.color'] = COLOR\n",
    "plt.rcParams['ytick.color'] = COLOR"
   ]
  },
  {
   "cell_type": "code",
   "execution_count": 12,
   "metadata": {},
   "outputs": [
    {
     "data": {
      "text/plain": [
       "0.2332898155182711"
      ]
     },
     "execution_count": 12,
     "metadata": {},
     "output_type": "execute_result"
    }
   ],
   "source": [
    " 12117527/51941946"
   ]
  },
  {
   "cell_type": "code",
   "execution_count": 16,
   "metadata": {},
   "outputs": [
    {
     "data": {
      "image/png": "[encoded data removed]",
      "text/plain": [
       "<Figure size 1800x1008 with 1 Axes>"
      ]
     },
     "metadata": {
      "needs_background": "dark"
     },
     "output_type": "display_data"
    }
   ],
   "source": [
    "t = np.arange(0,10)\n",
    "plt.figure(figsize=(25,14))\n",
    "plt.bar(t,oldpopdata, color='pink', width=0.45 ,label='Aged')\n",
    "plt.bar(t,popdata,    color='pink', alpha=0.4, width=0.45, label='Population')\n",
    "plt.xlabel('Population Aging Prediction', fontsize=20)\n",
    "plt.xticks(t, ('2019', '2020','2021','2022','2023','2024','2025','2026','2027', '2028'), fontsize=20)\n",
    "plt.text(8.75, 11000000, '23%', fontsize = 45)\n",
    "plt.ylim(1, 13000000)\n",
    "plt.legend(fontsize=20)\n",
    "plt.show()"
   ]
  },
  {
   "cell_type": "code",
   "execution_count": null,
   "metadata": {},
   "outputs": [],
   "source": []
  },
  {
   "cell_type": "code",
   "execution_count": null,
   "metadata": {},
   "outputs": [],
   "source": []
  }
 ],
 "metadata": {
  "kernelspec": {
   "display_name": "Python 3",
   "language": "python",
   "name": "python3"
  },
  "language_info": {
   "codemirror_mode": {
    "name": "ipython",
    "version": 3
   },
   "file_extension": ".py",
   "mimetype": "text/x-python",
   "name": "python",
   "nbconvert_exporter": "python",
   "pygments_lexer": "ipython3",
   "version": "3.7.3"
  }
 },
 "nbformat": 4,
 "nbformat_minor": 2
}
