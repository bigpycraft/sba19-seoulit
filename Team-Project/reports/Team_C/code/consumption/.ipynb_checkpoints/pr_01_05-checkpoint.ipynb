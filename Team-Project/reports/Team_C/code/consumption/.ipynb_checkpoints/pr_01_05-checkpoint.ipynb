{
 "cells": [
  {
   "cell_type": "code",
   "execution_count": 1,
   "metadata": {},
   "outputs": [],
   "source": [
    "import pandas as pd\n",
    "import numpy as np\n",
    "import matplotlib.pyplot as plt\n",
    "import IPython"
   ]
  },
  {
   "cell_type": "code",
   "execution_count": 2,
   "metadata": {},
   "outputs": [],
   "source": [
    "from matplotlib import font_manager, rc\n",
    "\n",
    "# font_name = font_manager.FontProperties(fname=\"/Library/Fonts/AppleGothic.ttf\").get_name()\n",
    "font_name = font_manager.FontProperties(fname=\"C:/Windows/Fonts/MALGUN.TTF\").get_name()\n",
    "rc('font', family=font_name)"
   ]
  },
  {
   "cell_type": "code",
   "execution_count": 3,
   "metadata": {},
   "outputs": [],
   "source": [
    "df=pd.read_csv('./new_expend.csv',encoding='euc-kr')"
   ]
  },
  {
   "cell_type": "code",
   "execution_count": 4,
   "metadata": {},
   "outputs": [],
   "source": [
    "df_young=df[1:4]\n",
    "df_old=df[-1:]"
   ]
  },
  {
   "cell_type": "code",
   "execution_count": 5,
   "metadata": {},
   "outputs": [],
   "source": [
    "df_old=df_old.T[2:]"
   ]
  },
  {
   "cell_type": "code",
   "execution_count": 6,
   "metadata": {},
   "outputs": [],
   "source": [
    "df_young=df_young.drop(['가구주연령별','가계수지항목별'],axis=1)"
   ]
  },
  {
   "cell_type": "code",
   "execution_count": 7,
   "metadata": {},
   "outputs": [
    {
     "data": {
      "text/html": [
       "<div>\n",
       "<style scoped>\n",
       "    .dataframe tbody tr th:only-of-type {\n",
       "        vertical-align: middle;\n",
       "    }\n",
       "\n",
       "    .dataframe tbody tr th {\n",
       "        vertical-align: top;\n",
       "    }\n",
       "\n",
       "    .dataframe thead th {\n",
       "        text-align: right;\n",
       "    }\n",
       "</style>\n",
       "<table border=\"1\" class=\"dataframe\">\n",
       "  <thead>\n",
       "    <tr style=\"text-align: right;\">\n",
       "      <th></th>\n",
       "      <th>가구주연령별</th>\n",
       "      <th>가계수지항목별</th>\n",
       "      <th>2003 1/4</th>\n",
       "      <th>2003 2/4</th>\n",
       "      <th>2003 3/4</th>\n",
       "      <th>2003 4/4</th>\n",
       "      <th>2004 1/4</th>\n",
       "      <th>2004 2/4</th>\n",
       "      <th>2004 3/4</th>\n",
       "      <th>2004 4/4</th>\n",
       "      <th>...</th>\n",
       "      <th>2014 3/4</th>\n",
       "      <th>2014 4/4</th>\n",
       "      <th>2015 1/4</th>\n",
       "      <th>2015 2/4</th>\n",
       "      <th>2015 3/4</th>\n",
       "      <th>2015 4/4</th>\n",
       "      <th>2016 1/4</th>\n",
       "      <th>2016 2/4</th>\n",
       "      <th>2016 3/4</th>\n",
       "      <th>2016 4/4</th>\n",
       "    </tr>\n",
       "  </thead>\n",
       "  <tbody>\n",
       "    <tr>\n",
       "      <th>0</th>\n",
       "      <td>가구주연령별</td>\n",
       "      <td>가계수지항목별</td>\n",
       "      <td>전체가구</td>\n",
       "      <td>전체가구</td>\n",
       "      <td>전체가구</td>\n",
       "      <td>전체가구</td>\n",
       "      <td>전체가구</td>\n",
       "      <td>전체가구</td>\n",
       "      <td>전체가구</td>\n",
       "      <td>전체가구</td>\n",
       "      <td>...</td>\n",
       "      <td>전체가구</td>\n",
       "      <td>전체가구</td>\n",
       "      <td>전체가구</td>\n",
       "      <td>전체가구</td>\n",
       "      <td>전체가구</td>\n",
       "      <td>전체가구</td>\n",
       "      <td>전체가구</td>\n",
       "      <td>전체가구</td>\n",
       "      <td>전체가구</td>\n",
       "      <td>전체가구</td>\n",
       "    </tr>\n",
       "    <tr>\n",
       "      <th>1</th>\n",
       "      <td>39세이하가구</td>\n",
       "      <td>소비지출 (원)</td>\n",
       "      <td>1658190</td>\n",
       "      <td>1653395</td>\n",
       "      <td>1678477</td>\n",
       "      <td>1691644</td>\n",
       "      <td>1775828</td>\n",
       "      <td>1684382</td>\n",
       "      <td>1752540</td>\n",
       "      <td>1812181</td>\n",
       "      <td>...</td>\n",
       "      <td>2688817</td>\n",
       "      <td>2563015</td>\n",
       "      <td>2695487</td>\n",
       "      <td>2571100</td>\n",
       "      <td>2539979</td>\n",
       "      <td>2630289</td>\n",
       "      <td>2600614</td>\n",
       "      <td>2619645</td>\n",
       "      <td>2509377</td>\n",
       "      <td>2635660</td>\n",
       "    </tr>\n",
       "    <tr>\n",
       "      <th>2</th>\n",
       "      <td>40~49세가구</td>\n",
       "      <td>소비지출 (원)</td>\n",
       "      <td>1927518</td>\n",
       "      <td>1833017</td>\n",
       "      <td>1937553</td>\n",
       "      <td>1906296</td>\n",
       "      <td>2120660</td>\n",
       "      <td>1974378</td>\n",
       "      <td>2066749</td>\n",
       "      <td>1989131</td>\n",
       "      <td>...</td>\n",
       "      <td>3004042</td>\n",
       "      <td>2921486</td>\n",
       "      <td>3141152</td>\n",
       "      <td>2962294</td>\n",
       "      <td>3084907</td>\n",
       "      <td>3029381</td>\n",
       "      <td>3281738</td>\n",
       "      <td>2985018</td>\n",
       "      <td>3147203</td>\n",
       "      <td>2946545</td>\n",
       "    </tr>\n",
       "    <tr>\n",
       "      <th>3</th>\n",
       "      <td>50~59세가구</td>\n",
       "      <td>소비지출 (원)</td>\n",
       "      <td>1795209</td>\n",
       "      <td>1650585</td>\n",
       "      <td>1759552</td>\n",
       "      <td>1730164</td>\n",
       "      <td>1953821</td>\n",
       "      <td>1713831</td>\n",
       "      <td>1843946</td>\n",
       "      <td>1784609</td>\n",
       "      <td>...</td>\n",
       "      <td>2816381</td>\n",
       "      <td>2703529</td>\n",
       "      <td>2894691</td>\n",
       "      <td>2635010</td>\n",
       "      <td>2767868</td>\n",
       "      <td>2647400</td>\n",
       "      <td>2970127</td>\n",
       "      <td>2693298</td>\n",
       "      <td>2903017</td>\n",
       "      <td>2597197</td>\n",
       "    </tr>\n",
       "    <tr>\n",
       "      <th>4</th>\n",
       "      <td>60세이상 가구</td>\n",
       "      <td>소비지출 (원)</td>\n",
       "      <td>1193995</td>\n",
       "      <td>1181786</td>\n",
       "      <td>1182654</td>\n",
       "      <td>1221220</td>\n",
       "      <td>1244733</td>\n",
       "      <td>1223579</td>\n",
       "      <td>1262142</td>\n",
       "      <td>1304470</td>\n",
       "      <td>...</td>\n",
       "      <td>1576670</td>\n",
       "      <td>1644076</td>\n",
       "      <td>1691884</td>\n",
       "      <td>1649107</td>\n",
       "      <td>1668867</td>\n",
       "      <td>1758971</td>\n",
       "      <td>1666456</td>\n",
       "      <td>1615354</td>\n",
       "      <td>1638168</td>\n",
       "      <td>1639978</td>\n",
       "    </tr>\n",
       "  </tbody>\n",
       "</table>\n",
       "<p>5 rows × 58 columns</p>\n",
       "</div>"
      ],
      "text/plain": [
       "     가구주연령별   가계수지항목별 2003 1/4 2003 2/4 2003 3/4 2003 4/4 2004 1/4 2004 2/4  \\\n",
       "0    가구주연령별   가계수지항목별     전체가구     전체가구     전체가구     전체가구     전체가구     전체가구   \n",
       "1   39세이하가구  소비지출 (원)  1658190  1653395  1678477  1691644  1775828  1684382   \n",
       "2  40~49세가구  소비지출 (원)  1927518  1833017  1937553  1906296  2120660  1974378   \n",
       "3  50~59세가구  소비지출 (원)  1795209  1650585  1759552  1730164  1953821  1713831   \n",
       "4  60세이상 가구  소비지출 (원)  1193995  1181786  1182654  1221220  1244733  1223579   \n",
       "\n",
       "  2004 3/4 2004 4/4  ... 2014 3/4 2014 4/4 2015 1/4 2015 2/4 2015 3/4  \\\n",
       "0     전체가구     전체가구  ...     전체가구     전체가구     전체가구     전체가구     전체가구   \n",
       "1  1752540  1812181  ...  2688817  2563015  2695487  2571100  2539979   \n",
       "2  2066749  1989131  ...  3004042  2921486  3141152  2962294  3084907   \n",
       "3  1843946  1784609  ...  2816381  2703529  2894691  2635010  2767868   \n",
       "4  1262142  1304470  ...  1576670  1644076  1691884  1649107  1668867   \n",
       "\n",
       "  2015 4/4 2016 1/4 2016 2/4 2016 3/4 2016 4/4  \n",
       "0     전체가구     전체가구     전체가구     전체가구     전체가구  \n",
       "1  2630289  2600614  2619645  2509377  2635660  \n",
       "2  3029381  3281738  2985018  3147203  2946545  \n",
       "3  2647400  2970127  2693298  2903017  2597197  \n",
       "4  1758971  1666456  1615354  1638168  1639978  \n",
       "\n",
       "[5 rows x 58 columns]"
      ]
     },
     "execution_count": 7,
     "metadata": {},
     "output_type": "execute_result"
    }
   ],
   "source": [
    "df"
   ]
  },
  {
   "cell_type": "code",
   "execution_count": 8,
   "metadata": {},
   "outputs": [],
   "source": [
    "df_young_new=df_young.T"
   ]
  },
  {
   "cell_type": "code",
   "execution_count": 9,
   "metadata": {},
   "outputs": [],
   "source": [
    "df_young_new[1]=pd.to_numeric(df_young_new[1])\n",
    "df_young_new[2]=pd.to_numeric(df_young_new[2])\n",
    "df_young_new[3]=pd.to_numeric(df_young_new[3])"
   ]
  },
  {
   "cell_type": "code",
   "execution_count": 10,
   "metadata": {},
   "outputs": [],
   "source": [
    "df_young=df_young_new.T"
   ]
  },
  {
   "cell_type": "code",
   "execution_count": 11,
   "metadata": {},
   "outputs": [],
   "source": [
    "df_young_new[4]=df_young_new[1]+df_young_new[2]+df_young_new[3]"
   ]
  },
  {
   "cell_type": "code",
   "execution_count": 12,
   "metadata": {},
   "outputs": [],
   "source": [
    "ser_young=df_young_new[4]"
   ]
  },
  {
   "cell_type": "code",
   "execution_count": 13,
   "metadata": {},
   "outputs": [
    {
     "data": {
      "text/plain": [
       "DatetimeIndex(['2003-01-04', '2003-02-04', '2003-03-04', '2003-04-04',\n",
       "               '2004-01-04', '2004-02-04', '2004-03-04', '2004-04-04',\n",
       "               '2005-01-04', '2005-02-04', '2005-03-04', '2005-04-04',\n",
       "               '2006-01-04', '2006-02-04', '2006-03-04', '2006-04-04',\n",
       "               '2007-01-04', '2007-02-04', '2007-03-04', '2007-04-04',\n",
       "               '2008-01-04', '2008-02-04', '2008-03-04', '2008-04-04',\n",
       "               '2009-01-04', '2009-02-04', '2009-03-04', '2009-04-04',\n",
       "               '2010-01-04', '2010-02-04', '2010-03-04', '2010-04-04',\n",
       "               '2011-01-04', '2011-02-04', '2011-03-04', '2011-04-04',\n",
       "               '2012-01-04', '2012-02-04', '2012-03-04', '2012-04-04',\n",
       "               '2013-01-04', '2013-02-04', '2013-03-04', '2013-04-04',\n",
       "               '2014-01-04', '2014-02-04', '2014-03-04', '2014-04-04',\n",
       "               '2015-01-04', '2015-02-04', '2015-03-04', '2015-04-04',\n",
       "               '2016-01-04', '2016-02-04', '2016-03-04', '2016-04-04'],\n",
       "              dtype='datetime64[ns]', freq=None)"
      ]
     },
     "execution_count": 13,
     "metadata": {},
     "output_type": "execute_result"
    }
   ],
   "source": [
    "pd.to_datetime(ser_young.index)\n"
   ]
  },
  {
   "cell_type": "code",
   "execution_count": 14,
   "metadata": {},
   "outputs": [
    {
     "data": {
      "text/plain": [
       "DatetimeIndex(['2003-01-04', '2003-02-04', '2003-03-04', '2003-04-04',\n",
       "               '2004-01-04', '2004-02-04', '2004-03-04', '2004-04-04',\n",
       "               '2005-01-04', '2005-02-04', '2005-03-04', '2005-04-04',\n",
       "               '2006-01-04', '2006-02-04', '2006-03-04', '2006-04-04',\n",
       "               '2007-01-04', '2007-02-04', '2007-03-04', '2007-04-04',\n",
       "               '2008-01-04', '2008-02-04', '2008-03-04', '2008-04-04',\n",
       "               '2009-01-04', '2009-02-04', '2009-03-04', '2009-04-04',\n",
       "               '2010-01-04', '2010-02-04', '2010-03-04', '2010-04-04',\n",
       "               '2011-01-04', '2011-02-04', '2011-03-04', '2011-04-04',\n",
       "               '2012-01-04', '2012-02-04', '2012-03-04', '2012-04-04',\n",
       "               '2013-01-04', '2013-02-04', '2013-03-04', '2013-04-04',\n",
       "               '2014-01-04', '2014-02-04', '2014-03-04', '2014-04-04',\n",
       "               '2015-01-04', '2015-02-04', '2015-03-04', '2015-04-04',\n",
       "               '2016-01-04', '2016-02-04', '2016-03-04', '2016-04-04'],\n",
       "              dtype='datetime64[ns]', freq=None)"
      ]
     },
     "execution_count": 14,
     "metadata": {},
     "output_type": "execute_result"
    }
   ],
   "source": [
    "pd.to_datetime(df_old.index)\n"
   ]
  },
  {
   "cell_type": "code",
   "execution_count": 15,
   "metadata": {},
   "outputs": [
    {
     "data": {
      "text/html": [
       "<div>\n",
       "<style scoped>\n",
       "    .dataframe tbody tr th:only-of-type {\n",
       "        vertical-align: middle;\n",
       "    }\n",
       "\n",
       "    .dataframe tbody tr th {\n",
       "        vertical-align: top;\n",
       "    }\n",
       "\n",
       "    .dataframe thead th {\n",
       "        text-align: right;\n",
       "    }\n",
       "</style>\n",
       "<table border=\"1\" class=\"dataframe\">\n",
       "  <thead>\n",
       "    <tr style=\"text-align: right;\">\n",
       "      <th></th>\n",
       "      <th>4</th>\n",
       "    </tr>\n",
       "  </thead>\n",
       "  <tbody>\n",
       "    <tr>\n",
       "      <th>2003 1/4</th>\n",
       "      <td>1193995</td>\n",
       "    </tr>\n",
       "    <tr>\n",
       "      <th>2003 2/4</th>\n",
       "      <td>1181786</td>\n",
       "    </tr>\n",
       "    <tr>\n",
       "      <th>2003 3/4</th>\n",
       "      <td>1182654</td>\n",
       "    </tr>\n",
       "    <tr>\n",
       "      <th>2003 4/4</th>\n",
       "      <td>1221220</td>\n",
       "    </tr>\n",
       "    <tr>\n",
       "      <th>2004 1/4</th>\n",
       "      <td>1244733</td>\n",
       "    </tr>\n",
       "  </tbody>\n",
       "</table>\n",
       "</div>"
      ],
      "text/plain": [
       "                4\n",
       "2003 1/4  1193995\n",
       "2003 2/4  1181786\n",
       "2003 3/4  1182654\n",
       "2003 4/4  1221220\n",
       "2004 1/4  1244733"
      ]
     },
     "execution_count": 15,
     "metadata": {},
     "output_type": "execute_result"
    }
   ],
   "source": [
    "df_old.head()"
   ]
  },
  {
   "cell_type": "code",
   "execution_count": 16,
   "metadata": {},
   "outputs": [],
   "source": [
    "df_new_young=pd.DataFrame(ser_young)"
   ]
  },
  {
   "cell_type": "code",
   "execution_count": 17,
   "metadata": {},
   "outputs": [],
   "source": [
    "df_young=df_new_young"
   ]
  },
  {
   "cell_type": "code",
   "execution_count": 18,
   "metadata": {},
   "outputs": [
    {
     "data": {
      "text/html": [
       "<div>\n",
       "<style scoped>\n",
       "    .dataframe tbody tr th:only-of-type {\n",
       "        vertical-align: middle;\n",
       "    }\n",
       "\n",
       "    .dataframe tbody tr th {\n",
       "        vertical-align: top;\n",
       "    }\n",
       "\n",
       "    .dataframe thead th {\n",
       "        text-align: right;\n",
       "    }\n",
       "</style>\n",
       "<table border=\"1\" class=\"dataframe\">\n",
       "  <thead>\n",
       "    <tr style=\"text-align: right;\">\n",
       "      <th></th>\n",
       "      <th>4</th>\n",
       "    </tr>\n",
       "  </thead>\n",
       "  <tbody>\n",
       "    <tr>\n",
       "      <th>2003 1/4</th>\n",
       "      <td>5380917</td>\n",
       "    </tr>\n",
       "    <tr>\n",
       "      <th>2003 2/4</th>\n",
       "      <td>5136997</td>\n",
       "    </tr>\n",
       "    <tr>\n",
       "      <th>2003 3/4</th>\n",
       "      <td>5375582</td>\n",
       "    </tr>\n",
       "    <tr>\n",
       "      <th>2003 4/4</th>\n",
       "      <td>5328104</td>\n",
       "    </tr>\n",
       "    <tr>\n",
       "      <th>2004 1/4</th>\n",
       "      <td>5850309</td>\n",
       "    </tr>\n",
       "  </tbody>\n",
       "</table>\n",
       "</div>"
      ],
      "text/plain": [
       "                4\n",
       "2003 1/4  5380917\n",
       "2003 2/4  5136997\n",
       "2003 3/4  5375582\n",
       "2003 4/4  5328104\n",
       "2004 1/4  5850309"
      ]
     },
     "execution_count": 18,
     "metadata": {},
     "output_type": "execute_result"
    }
   ],
   "source": [
    "df_young.head()"
   ]
  },
  {
   "cell_type": "code",
   "execution_count": 19,
   "metadata": {},
   "outputs": [
    {
     "data": {
      "text/plain": [
       "<matplotlib.axes._subplots.AxesSubplot at 0x40ef0b8208>"
      ]
     },
     "execution_count": 19,
     "metadata": {},
     "output_type": "execute_result"
    },
    {
     "data": {
      "image/png": "[encoded data removed]",
      "text/plain": [
       "<Figure size 432x288 with 1 Axes>"
      ]
     },
     "metadata": {
      "needs_background": "light"
     },
     "output_type": "display_data"
    }
   ],
   "source": [
    "df_young.plot(kind='line')"
   ]
  },
  {
   "cell_type": "code",
   "execution_count": 20,
   "metadata": {},
   "outputs": [],
   "source": [
    "for i in range(len(df_old)):\n",
    "    df_old.iloc[i]=pd.to_numeric(df_old.iloc[i])"
   ]
  },
  {
   "cell_type": "code",
   "execution_count": 21,
   "metadata": {},
   "outputs": [
    {
     "data": {
      "text/plain": [
       "<matplotlib.axes._subplots.AxesSubplot at 0x40ef029668>"
      ]
     },
     "execution_count": 21,
     "metadata": {},
     "output_type": "execute_result"
    },
    {
     "data": {
      "image/png": "[encoded data removed]",
      "text/plain": [
       "<Figure size 432x288 with 1 Axes>"
      ]
     },
     "metadata": {
      "needs_background": "light"
     },
     "output_type": "display_data"
    }
   ],
   "source": [
    "df_old.plot(kind='line')"
   ]
  },
  {
   "cell_type": "code",
   "execution_count": 172,
   "metadata": {},
   "outputs": [
    {
     "data": {
      "image/png": "[encoded data removed]",
      "text/plain": [
       "<Figure size 432x288 with 1 Axes>"
      ]
     },
     "metadata": {
      "needs_background": "light"
     },
     "output_type": "display_data"
    },
    {
     "data": {
      "image/png": "[encoded data removed]",
      "text/plain": [
       "<Figure size 432x288 with 1 Axes>"
      ]
     },
     "metadata": {
      "needs_background": "light"
     },
     "output_type": "display_data"
    }
   ],
   "source": [
    "from statsmodels.graphics.tsaplots import plot_acf, plot_pacf\n",
    "\n",
    "plot_acf(df_old)\n",
    "plot_pacf(df_old)\n",
    "plt.show()"
   ]
  },
  {
   "cell_type": "code",
   "execution_count": 173,
   "metadata": {},
   "outputs": [
    {
     "data": {
      "image/png": "[encoded data removed]",
      "text/plain": [
       "<Figure size 432x288 with 1 Axes>"
      ]
     },
     "metadata": {
      "needs_background": "light"
     },
     "output_type": "display_data"
    },
    {
     "data": {
      "image/png": "[encoded data removed]",
      "text/plain": [
       "<Figure size 432x288 with 1 Axes>"
      ]
     },
     "metadata": {
      "needs_background": "light"
     },
     "output_type": "display_data"
    },
    {
     "data": {
      "image/png": "[encoded data removed]",
      "text/plain": [
       "<Figure size 432x288 with 1 Axes>"
      ]
     },
     "metadata": {
      "needs_background": "light"
     },
     "output_type": "display_data"
    }
   ],
   "source": [
    "diff_1=df_old.diff(periods=1).iloc[1:]\n",
    "diff_1.plot()\n",
    "plot_acf(diff_1)\n",
    "plot_pacf(diff_1)\n",
    "plt.show()"
   ]
  },
  {
   "cell_type": "code",
   "execution_count": 181,
   "metadata": {},
   "outputs": [
    {
     "name": "stderr",
     "output_type": "stream",
     "text": [
      "C:\\Users\\user\\Anaconda3\\lib\\site-packages\\statsmodels\\tsa\\base\\tsa_model.py:219: ValueWarning: A date index has been provided, but it has no associated frequency information and so will be ignored when e.g. forecasting.\n",
      "  ' ignored when e.g. forecasting.', ValueWarning)\n"
     ]
    },
    {
     "name": "stdout",
     "output_type": "stream",
     "text": [
      "                              ARMA Model Results                              \n",
      "==============================================================================\n",
      "Dep. Variable:                    old   No. Observations:                   56\n",
      "Model:                     ARMA(1, 0)   Log Likelihood                -692.179\n",
      "Method:                       css-mle   S.D. of innovations          55280.853\n",
      "Date:                Wed, 18 Sep 2019   AIC                           1390.357\n",
      "Time:                        21:51:06   BIC                           1396.433\n",
      "Sample:                             0   HQIC                          1392.713\n",
      "                                                                              \n",
      "==============================================================================\n",
      "                 coef    std err          z      P>|z|      [0.025      0.975]\n",
      "------------------------------------------------------------------------------\n",
      "const        1.46e+06   1.19e+05     12.236      0.000    1.23e+06    1.69e+06\n",
      "ar.L1.old      0.9524      0.039     24.415      0.000       0.876       1.029\n",
      "                                    Roots                                    \n",
      "=============================================================================\n",
      "                  Real          Imaginary           Modulus         Frequency\n",
      "-----------------------------------------------------------------------------\n",
      "AR.1            1.0500           +0.0000j            1.0500            0.0000\n",
      "-----------------------------------------------------------------------------\n"
     ]
    }
   ],
   "source": [
    "from statsmodels.tsa.arima_model import ARMA\n",
    "\n",
    "model = ARMA(df_old, order=(1,0))\n",
    "model_fit = model.fit(trend='c',full_output=True, disp=1)\n",
    "print(model_fit.summary())"
   ]
  },
  {
   "cell_type": "code",
   "execution_count": 182,
   "metadata": {},
   "outputs": [
    {
     "data": {
      "image/png": "[encoded data removed]",
      "text/plain": [
       "<Figure size 432x288 with 1 Axes>"
      ]
     },
     "execution_count": 182,
     "metadata": {},
     "output_type": "execute_result"
    },
    {
     "data": {
      "image/png": "[encoded data removed]",
      "text/plain": [
       "<Figure size 432x288 with 1 Axes>"
      ]
     },
     "metadata": {
      "needs_background": "light"
     },
     "output_type": "display_data"
    }
   ],
   "source": [
    "model_fit.plot_predict()"
   ]
  },
  {
   "cell_type": "code",
   "execution_count": 186,
   "metadata": {},
   "outputs": [
    {
     "name": "stdout",
     "output_type": "stream",
     "text": [
      "(array([1631418.0374163 , 1623265.64659008, 1615501.42150924,\n",
      "       1608106.88015433, 1601064.42050379]), array([ 55280.85300579,  76340.428267  ,  91334.95189496, 103065.8221959 ,\n",
      "       112654.59909016]), array([[1523069.55649029, 1739766.5183423 ],\n",
      "       [1473641.1566224 , 1772890.13655776],\n",
      "       [1436488.20526542, 1794514.63775307],\n",
      "       [1406101.58061337, 1810112.1796953 ],\n",
      "       [1380265.46359428, 1821863.3774133 ]]))\n"
     ]
    }
   ],
   "source": [
    "fore = model_fit.forecast(steps=5)\n",
    "print(fore)"
   ]
  },
  {
   "cell_type": "code",
   "execution_count": null,
   "metadata": {},
   "outputs": [],
   "source": []
  },
  {
   "cell_type": "code",
   "execution_count": 23,
   "metadata": {},
   "outputs": [],
   "source": [
    "col_old=['old']\n",
    "col_young=['young']\n",
    "df_young.columns=col_young\n",
    "df_old.columns=col_old"
   ]
  },
  {
   "cell_type": "code",
   "execution_count": 24,
   "metadata": {},
   "outputs": [],
   "source": [
    "df_total=pd.merge(df_young,df_old,left_index=True,right_index=True)"
   ]
  },
  {
   "cell_type": "code",
   "execution_count": 25,
   "metadata": {},
   "outputs": [
    {
     "data": {
      "text/html": [
       "<div>\n",
       "<style scoped>\n",
       "    .dataframe tbody tr th:only-of-type {\n",
       "        vertical-align: middle;\n",
       "    }\n",
       "\n",
       "    .dataframe tbody tr th {\n",
       "        vertical-align: top;\n",
       "    }\n",
       "\n",
       "    .dataframe thead th {\n",
       "        text-align: right;\n",
       "    }\n",
       "</style>\n",
       "<table border=\"1\" class=\"dataframe\">\n",
       "  <thead>\n",
       "    <tr style=\"text-align: right;\">\n",
       "      <th></th>\n",
       "      <th>young</th>\n",
       "      <th>old</th>\n",
       "    </tr>\n",
       "  </thead>\n",
       "  <tbody>\n",
       "    <tr>\n",
       "      <th>2003 1/4</th>\n",
       "      <td>5380917</td>\n",
       "      <td>1193995</td>\n",
       "    </tr>\n",
       "    <tr>\n",
       "      <th>2003 2/4</th>\n",
       "      <td>5136997</td>\n",
       "      <td>1181786</td>\n",
       "    </tr>\n",
       "    <tr>\n",
       "      <th>2003 3/4</th>\n",
       "      <td>5375582</td>\n",
       "      <td>1182654</td>\n",
       "    </tr>\n",
       "    <tr>\n",
       "      <th>2003 4/4</th>\n",
       "      <td>5328104</td>\n",
       "      <td>1221220</td>\n",
       "    </tr>\n",
       "    <tr>\n",
       "      <th>2004 1/4</th>\n",
       "      <td>5850309</td>\n",
       "      <td>1244733</td>\n",
       "    </tr>\n",
       "  </tbody>\n",
       "</table>\n",
       "</div>"
      ],
      "text/plain": [
       "            young      old\n",
       "2003 1/4  5380917  1193995\n",
       "2003 2/4  5136997  1181786\n",
       "2003 3/4  5375582  1182654\n",
       "2003 4/4  5328104  1221220\n",
       "2004 1/4  5850309  1244733"
      ]
     },
     "execution_count": 25,
     "metadata": {},
     "output_type": "execute_result"
    }
   ],
   "source": [
    "df_total.head()"
   ]
  },
  {
   "cell_type": "code",
   "execution_count": 26,
   "metadata": {},
   "outputs": [],
   "source": [
    "df_total['sum']=df_total['young']+df_total['old']"
   ]
  },
  {
   "cell_type": "code",
   "execution_count": 27,
   "metadata": {},
   "outputs": [
    {
     "data": {
      "text/html": [
       "<div>\n",
       "<style scoped>\n",
       "    .dataframe tbody tr th:only-of-type {\n",
       "        vertical-align: middle;\n",
       "    }\n",
       "\n",
       "    .dataframe tbody tr th {\n",
       "        vertical-align: top;\n",
       "    }\n",
       "\n",
       "    .dataframe thead th {\n",
       "        text-align: right;\n",
       "    }\n",
       "</style>\n",
       "<table border=\"1\" class=\"dataframe\">\n",
       "  <thead>\n",
       "    <tr style=\"text-align: right;\">\n",
       "      <th></th>\n",
       "      <th>young</th>\n",
       "      <th>old</th>\n",
       "      <th>sum</th>\n",
       "    </tr>\n",
       "  </thead>\n",
       "  <tbody>\n",
       "    <tr>\n",
       "      <th>2003 1/4</th>\n",
       "      <td>5380917</td>\n",
       "      <td>1193995</td>\n",
       "      <td>6574912</td>\n",
       "    </tr>\n",
       "    <tr>\n",
       "      <th>2003 2/4</th>\n",
       "      <td>5136997</td>\n",
       "      <td>1181786</td>\n",
       "      <td>6318783</td>\n",
       "    </tr>\n",
       "    <tr>\n",
       "      <th>2003 3/4</th>\n",
       "      <td>5375582</td>\n",
       "      <td>1182654</td>\n",
       "      <td>6558236</td>\n",
       "    </tr>\n",
       "    <tr>\n",
       "      <th>2003 4/4</th>\n",
       "      <td>5328104</td>\n",
       "      <td>1221220</td>\n",
       "      <td>6549324</td>\n",
       "    </tr>\n",
       "    <tr>\n",
       "      <th>2004 1/4</th>\n",
       "      <td>5850309</td>\n",
       "      <td>1244733</td>\n",
       "      <td>7095042</td>\n",
       "    </tr>\n",
       "  </tbody>\n",
       "</table>\n",
       "</div>"
      ],
      "text/plain": [
       "            young      old      sum\n",
       "2003 1/4  5380917  1193995  6574912\n",
       "2003 2/4  5136997  1181786  6318783\n",
       "2003 3/4  5375582  1182654  6558236\n",
       "2003 4/4  5328104  1221220  6549324\n",
       "2004 1/4  5850309  1244733  7095042"
      ]
     },
     "execution_count": 27,
     "metadata": {},
     "output_type": "execute_result"
    }
   ],
   "source": [
    "df_total.head()"
   ]
  },
  {
   "cell_type": "code",
   "execution_count": 28,
   "metadata": {},
   "outputs": [],
   "source": [
    "df_total['prop']=df_total['old']/df_total['sum']"
   ]
  },
  {
   "cell_type": "code",
   "execution_count": 29,
   "metadata": {},
   "outputs": [
    {
     "data": {
      "text/html": [
       "<div>\n",
       "<style scoped>\n",
       "    .dataframe tbody tr th:only-of-type {\n",
       "        vertical-align: middle;\n",
       "    }\n",
       "\n",
       "    .dataframe tbody tr th {\n",
       "        vertical-align: top;\n",
       "    }\n",
       "\n",
       "    .dataframe thead th {\n",
       "        text-align: right;\n",
       "    }\n",
       "</style>\n",
       "<table border=\"1\" class=\"dataframe\">\n",
       "  <thead>\n",
       "    <tr style=\"text-align: right;\">\n",
       "      <th></th>\n",
       "      <th>young</th>\n",
       "      <th>old</th>\n",
       "      <th>sum</th>\n",
       "      <th>prop</th>\n",
       "    </tr>\n",
       "  </thead>\n",
       "  <tbody>\n",
       "    <tr>\n",
       "      <th>2003 1/4</th>\n",
       "      <td>5380917</td>\n",
       "      <td>1193995</td>\n",
       "      <td>6574912</td>\n",
       "      <td>0.181599</td>\n",
       "    </tr>\n",
       "    <tr>\n",
       "      <th>2003 2/4</th>\n",
       "      <td>5136997</td>\n",
       "      <td>1181786</td>\n",
       "      <td>6318783</td>\n",
       "      <td>0.187027</td>\n",
       "    </tr>\n",
       "    <tr>\n",
       "      <th>2003 3/4</th>\n",
       "      <td>5375582</td>\n",
       "      <td>1182654</td>\n",
       "      <td>6558236</td>\n",
       "      <td>0.180331</td>\n",
       "    </tr>\n",
       "    <tr>\n",
       "      <th>2003 4/4</th>\n",
       "      <td>5328104</td>\n",
       "      <td>1221220</td>\n",
       "      <td>6549324</td>\n",
       "      <td>0.186465</td>\n",
       "    </tr>\n",
       "    <tr>\n",
       "      <th>2004 1/4</th>\n",
       "      <td>5850309</td>\n",
       "      <td>1244733</td>\n",
       "      <td>7095042</td>\n",
       "      <td>0.175437</td>\n",
       "    </tr>\n",
       "  </tbody>\n",
       "</table>\n",
       "</div>"
      ],
      "text/plain": [
       "            young      old      sum      prop\n",
       "2003 1/4  5380917  1193995  6574912  0.181599\n",
       "2003 2/4  5136997  1181786  6318783  0.187027\n",
       "2003 3/4  5375582  1182654  6558236  0.180331\n",
       "2003 4/4  5328104  1221220  6549324  0.186465\n",
       "2004 1/4  5850309  1244733  7095042  0.175437"
      ]
     },
     "execution_count": 29,
     "metadata": {},
     "output_type": "execute_result"
    }
   ],
   "source": [
    "df_total.head()"
   ]
  },
  {
   "cell_type": "code",
   "execution_count": 30,
   "metadata": {},
   "outputs": [],
   "source": [
    "prop_old=df_total['prop']"
   ]
  },
  {
   "cell_type": "code",
   "execution_count": 31,
   "metadata": {},
   "outputs": [
    {
     "data": {
      "text/plain": [
       "<matplotlib.axes._subplots.AxesSubplot at 0x40f1904940>"
      ]
     },
     "execution_count": 31,
     "metadata": {},
     "output_type": "execute_result"
    },
    {
     "data": {
      "image/png": "[encoded data removed]",
      "text/plain": [
       "<Figure size 432x288 with 1 Axes>"
      ]
     },
     "metadata": {
      "needs_background": "light"
     },
     "output_type": "display_data"
    }
   ],
   "source": [
    "prop_old.plot(kind='line')"
   ]
  },
  {
   "cell_type": "code",
   "execution_count": 32,
   "metadata": {},
   "outputs": [],
   "source": [
    "## 전체 인구에 대한 고령인구의 소비지출 %는 점점 감소하고 있다.\n",
    "## 하지만 전체인구에 대한 고령인구의 자산보유현황은 증가하고 있기에\n",
    "\n",
    "## 이것을 포인트로 하여 고령층의 소비형태와 원하는 소비형태를 파악하여 실버산업을 구축하는 것이 \n",
    "## 새로운 시대에 맞는 기업의 타게팅전략이 될 것으로 보인다.\n",
    "## 또한 전국의 고령비율이 높은 지역들을 파악하여 해당지역부터 집중적으로 실버산업을 시작한다면\n",
    "## 실버산업시장에서 잘나갈수 있다."
   ]
  },
  {
   "cell_type": "code",
   "execution_count": 33,
   "metadata": {},
   "outputs": [],
   "source": [
    "df_asset1=pd.read_csv('./asset01.csv',encoding='euc-kr')\n",
    "df_asset2=pd.read_csv('./asset02.csv',encoding='euc-kr')"
   ]
  },
  {
   "cell_type": "code",
   "execution_count": 34,
   "metadata": {},
   "outputs": [],
   "source": [
    "df_asset1=df_asset1[1:].drop('부채보유 여부별',axis=1).drop('자산, 부채, 소득 분류별',axis=1)\n"
   ]
  },
  {
   "cell_type": "code",
   "execution_count": 35,
   "metadata": {},
   "outputs": [],
   "source": [
    "df_asset2=df_asset2[1:].drop('부채보유 여부별',axis=1).drop('자산, 부채, 소득 분류별',axis=1)\n"
   ]
  },
  {
   "cell_type": "code",
   "execution_count": 36,
   "metadata": {},
   "outputs": [],
   "source": [
    "df_asset_new1=df_asset1.T[1:]\n",
    "df_asset_new2=df_asset2.T[1:]"
   ]
  },
  {
   "cell_type": "code",
   "execution_count": 37,
   "metadata": {},
   "outputs": [
    {
     "data": {
      "text/html": [
       "<div>\n",
       "<style scoped>\n",
       "    .dataframe tbody tr th:only-of-type {\n",
       "        vertical-align: middle;\n",
       "    }\n",
       "\n",
       "    .dataframe tbody tr th {\n",
       "        vertical-align: top;\n",
       "    }\n",
       "\n",
       "    .dataframe thead th {\n",
       "        text-align: right;\n",
       "    }\n",
       "</style>\n",
       "<table border=\"1\" class=\"dataframe\">\n",
       "  <thead>\n",
       "    <tr style=\"text-align: right;\">\n",
       "      <th></th>\n",
       "      <th>1</th>\n",
       "      <th>2</th>\n",
       "      <th>3</th>\n",
       "      <th>4</th>\n",
       "      <th>5</th>\n",
       "    </tr>\n",
       "  </thead>\n",
       "  <tbody>\n",
       "    <tr>\n",
       "      <th>가구주 연령계층별(10세)</th>\n",
       "      <td>30세 미만</td>\n",
       "      <td>30~39세</td>\n",
       "      <td>40~49세</td>\n",
       "      <td>50~59세</td>\n",
       "      <td>60세이상</td>\n",
       "    </tr>\n",
       "    <tr>\n",
       "      <th>2012</th>\n",
       "      <td>8954</td>\n",
       "      <td>22747</td>\n",
       "      <td>34187</td>\n",
       "      <td>42787</td>\n",
       "      <td>31302</td>\n",
       "    </tr>\n",
       "    <tr>\n",
       "      <th>2013</th>\n",
       "      <td>8553</td>\n",
       "      <td>22636</td>\n",
       "      <td>32744</td>\n",
       "      <td>42853</td>\n",
       "      <td>33341</td>\n",
       "    </tr>\n",
       "    <tr>\n",
       "      <th>2014</th>\n",
       "      <td>8777</td>\n",
       "      <td>23226</td>\n",
       "      <td>33078</td>\n",
       "      <td>43374</td>\n",
       "      <td>33869</td>\n",
       "    </tr>\n",
       "    <tr>\n",
       "      <th>2015</th>\n",
       "      <td>8864</td>\n",
       "      <td>24669</td>\n",
       "      <td>33627</td>\n",
       "      <td>42879</td>\n",
       "      <td>36188</td>\n",
       "    </tr>\n",
       "    <tr>\n",
       "      <th>2016</th>\n",
       "      <td>8636</td>\n",
       "      <td>26029</td>\n",
       "      <td>37244</td>\n",
       "      <td>44482</td>\n",
       "      <td>37248</td>\n",
       "    </tr>\n",
       "    <tr>\n",
       "      <th>2017</th>\n",
       "      <td>9882</td>\n",
       "      <td>28824</td>\n",
       "      <td>39884</td>\n",
       "      <td>45697</td>\n",
       "      <td>38971</td>\n",
       "    </tr>\n",
       "  </tbody>\n",
       "</table>\n",
       "</div>"
      ],
      "text/plain": [
       "                     1       2       3       4      5\n",
       "가구주 연령계층별(10세)  30세 미만  30~39세  40~49세  50~59세  60세이상\n",
       "2012              8954   22747   34187   42787  31302\n",
       "2013              8553   22636   32744   42853  33341\n",
       "2014              8777   23226   33078   43374  33869\n",
       "2015              8864   24669   33627   42879  36188\n",
       "2016              8636   26029   37244   44482  37248\n",
       "2017              9882   28824   39884   45697  38971"
      ]
     },
     "execution_count": 37,
     "metadata": {},
     "output_type": "execute_result"
    }
   ],
   "source": [
    "df_asset2.T"
   ]
  },
  {
   "cell_type": "code",
   "execution_count": 38,
   "metadata": {},
   "outputs": [
    {
     "data": {
      "text/html": [
       "<div>\n",
       "<style scoped>\n",
       "    .dataframe tbody tr th:only-of-type {\n",
       "        vertical-align: middle;\n",
       "    }\n",
       "\n",
       "    .dataframe tbody tr th {\n",
       "        vertical-align: top;\n",
       "    }\n",
       "\n",
       "    .dataframe thead th {\n",
       "        text-align: right;\n",
       "    }\n",
       "</style>\n",
       "<table border=\"1\" class=\"dataframe\">\n",
       "  <thead>\n",
       "    <tr style=\"text-align: right;\">\n",
       "      <th></th>\n",
       "      <th>1</th>\n",
       "      <th>2</th>\n",
       "      <th>3</th>\n",
       "      <th>4</th>\n",
       "      <th>5</th>\n",
       "    </tr>\n",
       "  </thead>\n",
       "  <tbody>\n",
       "    <tr>\n",
       "      <th>2012</th>\n",
       "      <td>8954</td>\n",
       "      <td>22747</td>\n",
       "      <td>34187</td>\n",
       "      <td>42787</td>\n",
       "      <td>31302</td>\n",
       "    </tr>\n",
       "    <tr>\n",
       "      <th>2013</th>\n",
       "      <td>8553</td>\n",
       "      <td>22636</td>\n",
       "      <td>32744</td>\n",
       "      <td>42853</td>\n",
       "      <td>33341</td>\n",
       "    </tr>\n",
       "    <tr>\n",
       "      <th>2014</th>\n",
       "      <td>8777</td>\n",
       "      <td>23226</td>\n",
       "      <td>33078</td>\n",
       "      <td>43374</td>\n",
       "      <td>33869</td>\n",
       "    </tr>\n",
       "    <tr>\n",
       "      <th>2015</th>\n",
       "      <td>8864</td>\n",
       "      <td>24669</td>\n",
       "      <td>33627</td>\n",
       "      <td>42879</td>\n",
       "      <td>36188</td>\n",
       "    </tr>\n",
       "    <tr>\n",
       "      <th>2016</th>\n",
       "      <td>8636</td>\n",
       "      <td>26029</td>\n",
       "      <td>37244</td>\n",
       "      <td>44482</td>\n",
       "      <td>37248</td>\n",
       "    </tr>\n",
       "    <tr>\n",
       "      <th>2017</th>\n",
       "      <td>9882</td>\n",
       "      <td>28824</td>\n",
       "      <td>39884</td>\n",
       "      <td>45697</td>\n",
       "      <td>38971</td>\n",
       "    </tr>\n",
       "  </tbody>\n",
       "</table>\n",
       "</div>"
      ],
      "text/plain": [
       "         1      2      3      4      5\n",
       "2012  8954  22747  34187  42787  31302\n",
       "2013  8553  22636  32744  42853  33341\n",
       "2014  8777  23226  33078  43374  33869\n",
       "2015  8864  24669  33627  42879  36188\n",
       "2016  8636  26029  37244  44482  37248\n",
       "2017  9882  28824  39884  45697  38971"
      ]
     },
     "execution_count": 38,
     "metadata": {},
     "output_type": "execute_result"
    }
   ],
   "source": [
    "df_asset_new2"
   ]
  },
  {
   "cell_type": "code",
   "execution_count": null,
   "metadata": {},
   "outputs": [],
   "source": []
  },
  {
   "cell_type": "code",
   "execution_count": 39,
   "metadata": {},
   "outputs": [],
   "source": [
    "df_asset_new1_t=df_asset_new1.T\n",
    "df_asset_new2_t=df_asset_new2.T"
   ]
  },
  {
   "cell_type": "code",
   "execution_count": 40,
   "metadata": {},
   "outputs": [],
   "source": [
    "df_asset_new1_t['2010']=pd.to_numeric(df_asset_new1_t['2010'])\n",
    "df_asset_new1_t['2011']=pd.to_numeric(df_asset_new1_t['2011'])\n",
    "\n",
    "df_asset_new2_t['2012']=pd.to_numeric(df_asset_new2_t['2012'])\n",
    "df_asset_new2_t['2013']=pd.to_numeric(df_asset_new2_t['2013'])\n",
    "df_asset_new2_t['2014']=pd.to_numeric(df_asset_new2_t['2014'])\n",
    "df_asset_new2_t['2015']=pd.to_numeric(df_asset_new2_t['2015'])\n",
    "df_asset_new2_t['2016']=pd.to_numeric(df_asset_new2_t['2016'])\n",
    "df_asset_new2_t['2017']=pd.to_numeric(df_asset_new2_t['2017'])\n",
    "\n",
    "\n"
   ]
  },
  {
   "cell_type": "code",
   "execution_count": 41,
   "metadata": {},
   "outputs": [
    {
     "data": {
      "text/html": [
       "<div>\n",
       "<style scoped>\n",
       "    .dataframe tbody tr th:only-of-type {\n",
       "        vertical-align: middle;\n",
       "    }\n",
       "\n",
       "    .dataframe tbody tr th {\n",
       "        vertical-align: top;\n",
       "    }\n",
       "\n",
       "    .dataframe thead th {\n",
       "        text-align: right;\n",
       "    }\n",
       "</style>\n",
       "<table border=\"1\" class=\"dataframe\">\n",
       "  <thead>\n",
       "    <tr style=\"text-align: right;\">\n",
       "      <th></th>\n",
       "      <th>2010</th>\n",
       "      <th>2011</th>\n",
       "    </tr>\n",
       "  </thead>\n",
       "  <tbody>\n",
       "    <tr>\n",
       "      <th>1</th>\n",
       "      <td>7568</td>\n",
       "      <td>8310</td>\n",
       "    </tr>\n",
       "    <tr>\n",
       "      <th>2</th>\n",
       "      <td>19696</td>\n",
       "      <td>20733</td>\n",
       "    </tr>\n",
       "    <tr>\n",
       "      <th>3</th>\n",
       "      <td>29002</td>\n",
       "      <td>30887</td>\n",
       "    </tr>\n",
       "    <tr>\n",
       "      <th>4</th>\n",
       "      <td>36371</td>\n",
       "      <td>39558</td>\n",
       "    </tr>\n",
       "    <tr>\n",
       "      <th>5</th>\n",
       "      <td>29484</td>\n",
       "      <td>30911</td>\n",
       "    </tr>\n",
       "  </tbody>\n",
       "</table>\n",
       "</div>"
      ],
      "text/plain": [
       "    2010   2011\n",
       "1   7568   8310\n",
       "2  19696  20733\n",
       "3  29002  30887\n",
       "4  36371  39558\n",
       "5  29484  30911"
      ]
     },
     "execution_count": 41,
     "metadata": {},
     "output_type": "execute_result"
    }
   ],
   "source": [
    "df_asset_new1_t"
   ]
  },
  {
   "cell_type": "code",
   "execution_count": 42,
   "metadata": {},
   "outputs": [
    {
     "data": {
      "text/plain": [
       "numpy.int64"
      ]
     },
     "execution_count": 42,
     "metadata": {},
     "output_type": "execute_result"
    }
   ],
   "source": [
    "type(df_asset_new2_t.iloc[0,1])"
   ]
  },
  {
   "cell_type": "code",
   "execution_count": 43,
   "metadata": {},
   "outputs": [],
   "source": [
    "df_asset_t=pd.merge(df_asset_new1_t,df_asset_new2_t,left_index=True, right_index=True)"
   ]
  },
  {
   "cell_type": "code",
   "execution_count": 44,
   "metadata": {},
   "outputs": [
    {
     "data": {
      "text/html": [
       "<div>\n",
       "<style scoped>\n",
       "    .dataframe tbody tr th:only-of-type {\n",
       "        vertical-align: middle;\n",
       "    }\n",
       "\n",
       "    .dataframe tbody tr th {\n",
       "        vertical-align: top;\n",
       "    }\n",
       "\n",
       "    .dataframe thead th {\n",
       "        text-align: right;\n",
       "    }\n",
       "</style>\n",
       "<table border=\"1\" class=\"dataframe\">\n",
       "  <thead>\n",
       "    <tr style=\"text-align: right;\">\n",
       "      <th></th>\n",
       "      <th>2010</th>\n",
       "      <th>2011</th>\n",
       "      <th>2012</th>\n",
       "      <th>2013</th>\n",
       "      <th>2014</th>\n",
       "      <th>2015</th>\n",
       "      <th>2016</th>\n",
       "      <th>2017</th>\n",
       "    </tr>\n",
       "  </thead>\n",
       "  <tbody>\n",
       "    <tr>\n",
       "      <th>1</th>\n",
       "      <td>7568</td>\n",
       "      <td>8310</td>\n",
       "      <td>8954</td>\n",
       "      <td>8553</td>\n",
       "      <td>8777</td>\n",
       "      <td>8864</td>\n",
       "      <td>8636</td>\n",
       "      <td>9882</td>\n",
       "    </tr>\n",
       "    <tr>\n",
       "      <th>2</th>\n",
       "      <td>19696</td>\n",
       "      <td>20733</td>\n",
       "      <td>22747</td>\n",
       "      <td>22636</td>\n",
       "      <td>23226</td>\n",
       "      <td>24669</td>\n",
       "      <td>26029</td>\n",
       "      <td>28824</td>\n",
       "    </tr>\n",
       "    <tr>\n",
       "      <th>3</th>\n",
       "      <td>29002</td>\n",
       "      <td>30887</td>\n",
       "      <td>34187</td>\n",
       "      <td>32744</td>\n",
       "      <td>33078</td>\n",
       "      <td>33627</td>\n",
       "      <td>37244</td>\n",
       "      <td>39884</td>\n",
       "    </tr>\n",
       "    <tr>\n",
       "      <th>4</th>\n",
       "      <td>36371</td>\n",
       "      <td>39558</td>\n",
       "      <td>42787</td>\n",
       "      <td>42853</td>\n",
       "      <td>43374</td>\n",
       "      <td>42879</td>\n",
       "      <td>44482</td>\n",
       "      <td>45697</td>\n",
       "    </tr>\n",
       "    <tr>\n",
       "      <th>5</th>\n",
       "      <td>29484</td>\n",
       "      <td>30911</td>\n",
       "      <td>31302</td>\n",
       "      <td>33341</td>\n",
       "      <td>33869</td>\n",
       "      <td>36188</td>\n",
       "      <td>37248</td>\n",
       "      <td>38971</td>\n",
       "    </tr>\n",
       "  </tbody>\n",
       "</table>\n",
       "</div>"
      ],
      "text/plain": [
       "    2010   2011   2012   2013   2014   2015   2016   2017\n",
       "1   7568   8310   8954   8553   8777   8864   8636   9882\n",
       "2  19696  20733  22747  22636  23226  24669  26029  28824\n",
       "3  29002  30887  34187  32744  33078  33627  37244  39884\n",
       "4  36371  39558  42787  42853  43374  42879  44482  45697\n",
       "5  29484  30911  31302  33341  33869  36188  37248  38971"
      ]
     },
     "execution_count": 44,
     "metadata": {},
     "output_type": "execute_result"
    }
   ],
   "source": [
    "df_asset_t"
   ]
  },
  {
   "cell_type": "code",
   "execution_count": 45,
   "metadata": {},
   "outputs": [],
   "source": [
    "df_asset_fin=df_asset_t.T"
   ]
  },
  {
   "cell_type": "code",
   "execution_count": 46,
   "metadata": {},
   "outputs": [
    {
     "data": {
      "text/html": [
       "<div>\n",
       "<style scoped>\n",
       "    .dataframe tbody tr th:only-of-type {\n",
       "        vertical-align: middle;\n",
       "    }\n",
       "\n",
       "    .dataframe tbody tr th {\n",
       "        vertical-align: top;\n",
       "    }\n",
       "\n",
       "    .dataframe thead th {\n",
       "        text-align: right;\n",
       "    }\n",
       "</style>\n",
       "<table border=\"1\" class=\"dataframe\">\n",
       "  <thead>\n",
       "    <tr style=\"text-align: right;\">\n",
       "      <th></th>\n",
       "      <th>1</th>\n",
       "      <th>2</th>\n",
       "      <th>3</th>\n",
       "      <th>4</th>\n",
       "      <th>5</th>\n",
       "    </tr>\n",
       "  </thead>\n",
       "  <tbody>\n",
       "    <tr>\n",
       "      <th>2010</th>\n",
       "      <td>7568</td>\n",
       "      <td>19696</td>\n",
       "      <td>29002</td>\n",
       "      <td>36371</td>\n",
       "      <td>29484</td>\n",
       "    </tr>\n",
       "    <tr>\n",
       "      <th>2011</th>\n",
       "      <td>8310</td>\n",
       "      <td>20733</td>\n",
       "      <td>30887</td>\n",
       "      <td>39558</td>\n",
       "      <td>30911</td>\n",
       "    </tr>\n",
       "    <tr>\n",
       "      <th>2012</th>\n",
       "      <td>8954</td>\n",
       "      <td>22747</td>\n",
       "      <td>34187</td>\n",
       "      <td>42787</td>\n",
       "      <td>31302</td>\n",
       "    </tr>\n",
       "    <tr>\n",
       "      <th>2013</th>\n",
       "      <td>8553</td>\n",
       "      <td>22636</td>\n",
       "      <td>32744</td>\n",
       "      <td>42853</td>\n",
       "      <td>33341</td>\n",
       "    </tr>\n",
       "    <tr>\n",
       "      <th>2014</th>\n",
       "      <td>8777</td>\n",
       "      <td>23226</td>\n",
       "      <td>33078</td>\n",
       "      <td>43374</td>\n",
       "      <td>33869</td>\n",
       "    </tr>\n",
       "    <tr>\n",
       "      <th>2015</th>\n",
       "      <td>8864</td>\n",
       "      <td>24669</td>\n",
       "      <td>33627</td>\n",
       "      <td>42879</td>\n",
       "      <td>36188</td>\n",
       "    </tr>\n",
       "    <tr>\n",
       "      <th>2016</th>\n",
       "      <td>8636</td>\n",
       "      <td>26029</td>\n",
       "      <td>37244</td>\n",
       "      <td>44482</td>\n",
       "      <td>37248</td>\n",
       "    </tr>\n",
       "    <tr>\n",
       "      <th>2017</th>\n",
       "      <td>9882</td>\n",
       "      <td>28824</td>\n",
       "      <td>39884</td>\n",
       "      <td>45697</td>\n",
       "      <td>38971</td>\n",
       "    </tr>\n",
       "  </tbody>\n",
       "</table>\n",
       "</div>"
      ],
      "text/plain": [
       "         1      2      3      4      5\n",
       "2010  7568  19696  29002  36371  29484\n",
       "2011  8310  20733  30887  39558  30911\n",
       "2012  8954  22747  34187  42787  31302\n",
       "2013  8553  22636  32744  42853  33341\n",
       "2014  8777  23226  33078  43374  33869\n",
       "2015  8864  24669  33627  42879  36188\n",
       "2016  8636  26029  37244  44482  37248\n",
       "2017  9882  28824  39884  45697  38971"
      ]
     },
     "execution_count": 46,
     "metadata": {},
     "output_type": "execute_result"
    }
   ],
   "source": [
    "df_asset_fin"
   ]
  },
  {
   "cell_type": "code",
   "execution_count": 47,
   "metadata": {},
   "outputs": [],
   "source": [
    "df_asset_fin['young']=df_asset_fin[1]+df_asset_fin[2]+df_asset_fin[3]+df_asset_fin[4]"
   ]
  },
  {
   "cell_type": "code",
   "execution_count": 48,
   "metadata": {},
   "outputs": [],
   "source": [
    "df_asset_fin['old']=df_asset_fin[5]"
   ]
  },
  {
   "cell_type": "code",
   "execution_count": 49,
   "metadata": {},
   "outputs": [
    {
     "data": {
      "text/html": [
       "<div>\n",
       "<style scoped>\n",
       "    .dataframe tbody tr th:only-of-type {\n",
       "        vertical-align: middle;\n",
       "    }\n",
       "\n",
       "    .dataframe tbody tr th {\n",
       "        vertical-align: top;\n",
       "    }\n",
       "\n",
       "    .dataframe thead th {\n",
       "        text-align: right;\n",
       "    }\n",
       "</style>\n",
       "<table border=\"1\" class=\"dataframe\">\n",
       "  <thead>\n",
       "    <tr style=\"text-align: right;\">\n",
       "      <th></th>\n",
       "      <th>1</th>\n",
       "      <th>2</th>\n",
       "      <th>3</th>\n",
       "      <th>4</th>\n",
       "      <th>5</th>\n",
       "      <th>young</th>\n",
       "      <th>old</th>\n",
       "    </tr>\n",
       "  </thead>\n",
       "  <tbody>\n",
       "    <tr>\n",
       "      <th>2010</th>\n",
       "      <td>7568</td>\n",
       "      <td>19696</td>\n",
       "      <td>29002</td>\n",
       "      <td>36371</td>\n",
       "      <td>29484</td>\n",
       "      <td>92637</td>\n",
       "      <td>29484</td>\n",
       "    </tr>\n",
       "    <tr>\n",
       "      <th>2011</th>\n",
       "      <td>8310</td>\n",
       "      <td>20733</td>\n",
       "      <td>30887</td>\n",
       "      <td>39558</td>\n",
       "      <td>30911</td>\n",
       "      <td>99488</td>\n",
       "      <td>30911</td>\n",
       "    </tr>\n",
       "    <tr>\n",
       "      <th>2012</th>\n",
       "      <td>8954</td>\n",
       "      <td>22747</td>\n",
       "      <td>34187</td>\n",
       "      <td>42787</td>\n",
       "      <td>31302</td>\n",
       "      <td>108675</td>\n",
       "      <td>31302</td>\n",
       "    </tr>\n",
       "    <tr>\n",
       "      <th>2013</th>\n",
       "      <td>8553</td>\n",
       "      <td>22636</td>\n",
       "      <td>32744</td>\n",
       "      <td>42853</td>\n",
       "      <td>33341</td>\n",
       "      <td>106786</td>\n",
       "      <td>33341</td>\n",
       "    </tr>\n",
       "    <tr>\n",
       "      <th>2014</th>\n",
       "      <td>8777</td>\n",
       "      <td>23226</td>\n",
       "      <td>33078</td>\n",
       "      <td>43374</td>\n",
       "      <td>33869</td>\n",
       "      <td>108455</td>\n",
       "      <td>33869</td>\n",
       "    </tr>\n",
       "    <tr>\n",
       "      <th>2015</th>\n",
       "      <td>8864</td>\n",
       "      <td>24669</td>\n",
       "      <td>33627</td>\n",
       "      <td>42879</td>\n",
       "      <td>36188</td>\n",
       "      <td>110039</td>\n",
       "      <td>36188</td>\n",
       "    </tr>\n",
       "    <tr>\n",
       "      <th>2016</th>\n",
       "      <td>8636</td>\n",
       "      <td>26029</td>\n",
       "      <td>37244</td>\n",
       "      <td>44482</td>\n",
       "      <td>37248</td>\n",
       "      <td>116391</td>\n",
       "      <td>37248</td>\n",
       "    </tr>\n",
       "    <tr>\n",
       "      <th>2017</th>\n",
       "      <td>9882</td>\n",
       "      <td>28824</td>\n",
       "      <td>39884</td>\n",
       "      <td>45697</td>\n",
       "      <td>38971</td>\n",
       "      <td>124287</td>\n",
       "      <td>38971</td>\n",
       "    </tr>\n",
       "  </tbody>\n",
       "</table>\n",
       "</div>"
      ],
      "text/plain": [
       "         1      2      3      4      5   young    old\n",
       "2010  7568  19696  29002  36371  29484   92637  29484\n",
       "2011  8310  20733  30887  39558  30911   99488  30911\n",
       "2012  8954  22747  34187  42787  31302  108675  31302\n",
       "2013  8553  22636  32744  42853  33341  106786  33341\n",
       "2014  8777  23226  33078  43374  33869  108455  33869\n",
       "2015  8864  24669  33627  42879  36188  110039  36188\n",
       "2016  8636  26029  37244  44482  37248  116391  37248\n",
       "2017  9882  28824  39884  45697  38971  124287  38971"
      ]
     },
     "execution_count": 49,
     "metadata": {},
     "output_type": "execute_result"
    }
   ],
   "source": [
    "df_asset_fin"
   ]
  },
  {
   "cell_type": "code",
   "execution_count": 50,
   "metadata": {},
   "outputs": [],
   "source": [
    "df_asset_fin_young=df_asset_fin['young']"
   ]
  },
  {
   "cell_type": "code",
   "execution_count": 51,
   "metadata": {},
   "outputs": [],
   "source": [
    "df_asset_fin_old=df_asset_fin['old']"
   ]
  },
  {
   "cell_type": "code",
   "execution_count": 52,
   "metadata": {},
   "outputs": [
    {
     "data": {
      "text/plain": [
       "pandas.core.series.Series"
      ]
     },
     "execution_count": 52,
     "metadata": {},
     "output_type": "execute_result"
    }
   ],
   "source": [
    "type(df_asset_fin_old)"
   ]
  },
  {
   "cell_type": "code",
   "execution_count": 53,
   "metadata": {},
   "outputs": [
    {
     "data": {
      "text/plain": [
       "DatetimeIndex(['2010-01-01', '2011-01-01', '2012-01-01', '2013-01-01',\n",
       "               '2014-01-01', '2015-01-01', '2016-01-01', '2017-01-01'],\n",
       "              dtype='datetime64[ns]', freq=None)"
      ]
     },
     "execution_count": 53,
     "metadata": {},
     "output_type": "execute_result"
    }
   ],
   "source": [
    "pd.to_datetime(df_asset_fin_old.index)\n",
    "pd.to_datetime(df_asset_fin_young.index)"
   ]
  },
  {
   "cell_type": "code",
   "execution_count": 54,
   "metadata": {},
   "outputs": [],
   "source": [
    "df_asset_fin_young_new=pd.DataFrame(df_asset_fin_young)\n",
    "df_asset_fin_old_new=pd.DataFrame(df_asset_fin_old)"
   ]
  },
  {
   "cell_type": "code",
   "execution_count": 55,
   "metadata": {},
   "outputs": [
    {
     "data": {
      "text/html": [
       "<div>\n",
       "<style scoped>\n",
       "    .dataframe tbody tr th:only-of-type {\n",
       "        vertical-align: middle;\n",
       "    }\n",
       "\n",
       "    .dataframe tbody tr th {\n",
       "        vertical-align: top;\n",
       "    }\n",
       "\n",
       "    .dataframe thead th {\n",
       "        text-align: right;\n",
       "    }\n",
       "</style>\n",
       "<table border=\"1\" class=\"dataframe\">\n",
       "  <thead>\n",
       "    <tr style=\"text-align: right;\">\n",
       "      <th></th>\n",
       "      <th>old</th>\n",
       "    </tr>\n",
       "  </thead>\n",
       "  <tbody>\n",
       "    <tr>\n",
       "      <th>2010</th>\n",
       "      <td>29484</td>\n",
       "    </tr>\n",
       "    <tr>\n",
       "      <th>2011</th>\n",
       "      <td>30911</td>\n",
       "    </tr>\n",
       "    <tr>\n",
       "      <th>2012</th>\n",
       "      <td>31302</td>\n",
       "    </tr>\n",
       "    <tr>\n",
       "      <th>2013</th>\n",
       "      <td>33341</td>\n",
       "    </tr>\n",
       "    <tr>\n",
       "      <th>2014</th>\n",
       "      <td>33869</td>\n",
       "    </tr>\n",
       "    <tr>\n",
       "      <th>2015</th>\n",
       "      <td>36188</td>\n",
       "    </tr>\n",
       "    <tr>\n",
       "      <th>2016</th>\n",
       "      <td>37248</td>\n",
       "    </tr>\n",
       "    <tr>\n",
       "      <th>2017</th>\n",
       "      <td>38971</td>\n",
       "    </tr>\n",
       "  </tbody>\n",
       "</table>\n",
       "</div>"
      ],
      "text/plain": [
       "        old\n",
       "2010  29484\n",
       "2011  30911\n",
       "2012  31302\n",
       "2013  33341\n",
       "2014  33869\n",
       "2015  36188\n",
       "2016  37248\n",
       "2017  38971"
      ]
     },
     "execution_count": 55,
     "metadata": {},
     "output_type": "execute_result"
    }
   ],
   "source": [
    "df_asset_fin_old_new"
   ]
  },
  {
   "cell_type": "code",
   "execution_count": 56,
   "metadata": {},
   "outputs": [],
   "source": [
    "df_fin_total=pd.merge(df_asset_fin_young_new,df_asset_fin_old_new,left_index=True,right_index=True)"
   ]
  },
  {
   "cell_type": "code",
   "execution_count": 57,
   "metadata": {},
   "outputs": [
    {
     "data": {
      "text/html": [
       "<div>\n",
       "<style scoped>\n",
       "    .dataframe tbody tr th:only-of-type {\n",
       "        vertical-align: middle;\n",
       "    }\n",
       "\n",
       "    .dataframe tbody tr th {\n",
       "        vertical-align: top;\n",
       "    }\n",
       "\n",
       "    .dataframe thead th {\n",
       "        text-align: right;\n",
       "    }\n",
       "</style>\n",
       "<table border=\"1\" class=\"dataframe\">\n",
       "  <thead>\n",
       "    <tr style=\"text-align: right;\">\n",
       "      <th></th>\n",
       "      <th>young</th>\n",
       "      <th>old</th>\n",
       "    </tr>\n",
       "  </thead>\n",
       "  <tbody>\n",
       "    <tr>\n",
       "      <th>2010</th>\n",
       "      <td>92637</td>\n",
       "      <td>29484</td>\n",
       "    </tr>\n",
       "    <tr>\n",
       "      <th>2011</th>\n",
       "      <td>99488</td>\n",
       "      <td>30911</td>\n",
       "    </tr>\n",
       "    <tr>\n",
       "      <th>2012</th>\n",
       "      <td>108675</td>\n",
       "      <td>31302</td>\n",
       "    </tr>\n",
       "    <tr>\n",
       "      <th>2013</th>\n",
       "      <td>106786</td>\n",
       "      <td>33341</td>\n",
       "    </tr>\n",
       "    <tr>\n",
       "      <th>2014</th>\n",
       "      <td>108455</td>\n",
       "      <td>33869</td>\n",
       "    </tr>\n",
       "    <tr>\n",
       "      <th>2015</th>\n",
       "      <td>110039</td>\n",
       "      <td>36188</td>\n",
       "    </tr>\n",
       "    <tr>\n",
       "      <th>2016</th>\n",
       "      <td>116391</td>\n",
       "      <td>37248</td>\n",
       "    </tr>\n",
       "    <tr>\n",
       "      <th>2017</th>\n",
       "      <td>124287</td>\n",
       "      <td>38971</td>\n",
       "    </tr>\n",
       "  </tbody>\n",
       "</table>\n",
       "</div>"
      ],
      "text/plain": [
       "       young    old\n",
       "2010   92637  29484\n",
       "2011   99488  30911\n",
       "2012  108675  31302\n",
       "2013  106786  33341\n",
       "2014  108455  33869\n",
       "2015  110039  36188\n",
       "2016  116391  37248\n",
       "2017  124287  38971"
      ]
     },
     "execution_count": 57,
     "metadata": {},
     "output_type": "execute_result"
    }
   ],
   "source": [
    "df_fin_total"
   ]
  },
  {
   "cell_type": "code",
   "execution_count": 58,
   "metadata": {},
   "outputs": [
    {
     "data": {
      "text/plain": [
       "<matplotlib.axes._subplots.AxesSubplot at 0x40eee86358>"
      ]
     },
     "execution_count": 58,
     "metadata": {},
     "output_type": "execute_result"
    },
    {
     "data": {
      "image/png": "[encoded data removed]",
      "text/plain": [
       "<Figure size 432x288 with 1 Axes>"
      ]
     },
     "metadata": {
      "needs_background": "light"
     },
     "output_type": "display_data"
    }
   ],
   "source": [
    "df_asset_fin_young_new.plot(kind='line')"
   ]
  },
  {
   "cell_type": "code",
   "execution_count": 59,
   "metadata": {},
   "outputs": [
    {
     "data": {
      "text/plain": [
       "<matplotlib.axes._subplots.AxesSubplot at 0x40eeee7208>"
      ]
     },
     "execution_count": 59,
     "metadata": {},
     "output_type": "execute_result"
    },
    {
     "data": {
      "image/png": "[encoded data removed]",
      "text/plain": [
       "<Figure size 432x288 with 1 Axes>"
      ]
     },
     "metadata": {
      "needs_background": "light"
     },
     "output_type": "display_data"
    }
   ],
   "source": [
    "df_asset_fin_old_new.plot(kind='line')"
   ]
  },
  {
   "cell_type": "code",
   "execution_count": 60,
   "metadata": {},
   "outputs": [],
   "source": [
    "df_fin_total['sum']=df_fin_total['young']+df_fin_total['old']"
   ]
  },
  {
   "cell_type": "code",
   "execution_count": 61,
   "metadata": {},
   "outputs": [
    {
     "data": {
      "text/html": [
       "<div>\n",
       "<style scoped>\n",
       "    .dataframe tbody tr th:only-of-type {\n",
       "        vertical-align: middle;\n",
       "    }\n",
       "\n",
       "    .dataframe tbody tr th {\n",
       "        vertical-align: top;\n",
       "    }\n",
       "\n",
       "    .dataframe thead th {\n",
       "        text-align: right;\n",
       "    }\n",
       "</style>\n",
       "<table border=\"1\" class=\"dataframe\">\n",
       "  <thead>\n",
       "    <tr style=\"text-align: right;\">\n",
       "      <th></th>\n",
       "      <th>young</th>\n",
       "      <th>old</th>\n",
       "      <th>sum</th>\n",
       "    </tr>\n",
       "  </thead>\n",
       "  <tbody>\n",
       "    <tr>\n",
       "      <th>2010</th>\n",
       "      <td>92637</td>\n",
       "      <td>29484</td>\n",
       "      <td>122121</td>\n",
       "    </tr>\n",
       "    <tr>\n",
       "      <th>2011</th>\n",
       "      <td>99488</td>\n",
       "      <td>30911</td>\n",
       "      <td>130399</td>\n",
       "    </tr>\n",
       "    <tr>\n",
       "      <th>2012</th>\n",
       "      <td>108675</td>\n",
       "      <td>31302</td>\n",
       "      <td>139977</td>\n",
       "    </tr>\n",
       "    <tr>\n",
       "      <th>2013</th>\n",
       "      <td>106786</td>\n",
       "      <td>33341</td>\n",
       "      <td>140127</td>\n",
       "    </tr>\n",
       "    <tr>\n",
       "      <th>2014</th>\n",
       "      <td>108455</td>\n",
       "      <td>33869</td>\n",
       "      <td>142324</td>\n",
       "    </tr>\n",
       "    <tr>\n",
       "      <th>2015</th>\n",
       "      <td>110039</td>\n",
       "      <td>36188</td>\n",
       "      <td>146227</td>\n",
       "    </tr>\n",
       "    <tr>\n",
       "      <th>2016</th>\n",
       "      <td>116391</td>\n",
       "      <td>37248</td>\n",
       "      <td>153639</td>\n",
       "    </tr>\n",
       "    <tr>\n",
       "      <th>2017</th>\n",
       "      <td>124287</td>\n",
       "      <td>38971</td>\n",
       "      <td>163258</td>\n",
       "    </tr>\n",
       "  </tbody>\n",
       "</table>\n",
       "</div>"
      ],
      "text/plain": [
       "       young    old     sum\n",
       "2010   92637  29484  122121\n",
       "2011   99488  30911  130399\n",
       "2012  108675  31302  139977\n",
       "2013  106786  33341  140127\n",
       "2014  108455  33869  142324\n",
       "2015  110039  36188  146227\n",
       "2016  116391  37248  153639\n",
       "2017  124287  38971  163258"
      ]
     },
     "execution_count": 61,
     "metadata": {},
     "output_type": "execute_result"
    }
   ],
   "source": [
    "df_fin_total"
   ]
  },
  {
   "cell_type": "code",
   "execution_count": 62,
   "metadata": {},
   "outputs": [],
   "source": [
    "df_fin_total['prop']=df_fin_total['old']/df_fin_total['sum']"
   ]
  },
  {
   "cell_type": "code",
   "execution_count": 63,
   "metadata": {},
   "outputs": [
    {
     "data": {
      "text/html": [
       "<div>\n",
       "<style scoped>\n",
       "    .dataframe tbody tr th:only-of-type {\n",
       "        vertical-align: middle;\n",
       "    }\n",
       "\n",
       "    .dataframe tbody tr th {\n",
       "        vertical-align: top;\n",
       "    }\n",
       "\n",
       "    .dataframe thead th {\n",
       "        text-align: right;\n",
       "    }\n",
       "</style>\n",
       "<table border=\"1\" class=\"dataframe\">\n",
       "  <thead>\n",
       "    <tr style=\"text-align: right;\">\n",
       "      <th></th>\n",
       "      <th>young</th>\n",
       "      <th>old</th>\n",
       "      <th>sum</th>\n",
       "      <th>prop</th>\n",
       "    </tr>\n",
       "  </thead>\n",
       "  <tbody>\n",
       "    <tr>\n",
       "      <th>2010</th>\n",
       "      <td>92637</td>\n",
       "      <td>29484</td>\n",
       "      <td>122121</td>\n",
       "      <td>0.241433</td>\n",
       "    </tr>\n",
       "    <tr>\n",
       "      <th>2011</th>\n",
       "      <td>99488</td>\n",
       "      <td>30911</td>\n",
       "      <td>130399</td>\n",
       "      <td>0.237049</td>\n",
       "    </tr>\n",
       "    <tr>\n",
       "      <th>2012</th>\n",
       "      <td>108675</td>\n",
       "      <td>31302</td>\n",
       "      <td>139977</td>\n",
       "      <td>0.223622</td>\n",
       "    </tr>\n",
       "    <tr>\n",
       "      <th>2013</th>\n",
       "      <td>106786</td>\n",
       "      <td>33341</td>\n",
       "      <td>140127</td>\n",
       "      <td>0.237934</td>\n",
       "    </tr>\n",
       "    <tr>\n",
       "      <th>2014</th>\n",
       "      <td>108455</td>\n",
       "      <td>33869</td>\n",
       "      <td>142324</td>\n",
       "      <td>0.237971</td>\n",
       "    </tr>\n",
       "    <tr>\n",
       "      <th>2015</th>\n",
       "      <td>110039</td>\n",
       "      <td>36188</td>\n",
       "      <td>146227</td>\n",
       "      <td>0.247478</td>\n",
       "    </tr>\n",
       "    <tr>\n",
       "      <th>2016</th>\n",
       "      <td>116391</td>\n",
       "      <td>37248</td>\n",
       "      <td>153639</td>\n",
       "      <td>0.242438</td>\n",
       "    </tr>\n",
       "    <tr>\n",
       "      <th>2017</th>\n",
       "      <td>124287</td>\n",
       "      <td>38971</td>\n",
       "      <td>163258</td>\n",
       "      <td>0.238708</td>\n",
       "    </tr>\n",
       "  </tbody>\n",
       "</table>\n",
       "</div>"
      ],
      "text/plain": [
       "       young    old     sum      prop\n",
       "2010   92637  29484  122121  0.241433\n",
       "2011   99488  30911  130399  0.237049\n",
       "2012  108675  31302  139977  0.223622\n",
       "2013  106786  33341  140127  0.237934\n",
       "2014  108455  33869  142324  0.237971\n",
       "2015  110039  36188  146227  0.247478\n",
       "2016  116391  37248  153639  0.242438\n",
       "2017  124287  38971  163258  0.238708"
      ]
     },
     "execution_count": 63,
     "metadata": {},
     "output_type": "execute_result"
    }
   ],
   "source": [
    "df_fin_total"
   ]
  },
  {
   "cell_type": "code",
   "execution_count": 64,
   "metadata": {},
   "outputs": [],
   "source": [
    "prop_asset_old=df_fin_total['prop']"
   ]
  },
  {
   "cell_type": "code",
   "execution_count": 65,
   "metadata": {},
   "outputs": [
    {
     "data": {
      "text/plain": [
       "<matplotlib.axes._subplots.AxesSubplot at 0x40eef495f8>"
      ]
     },
     "execution_count": 65,
     "metadata": {},
     "output_type": "execute_result"
    },
    {
     "data": {
      "image/png": "[encoded data removed]",
      "text/plain": [
       "<Figure size 432x288 with 1 Axes>"
      ]
     },
     "metadata": {
      "needs_background": "light"
     },
     "output_type": "display_data"
    }
   ],
   "source": [
    "prop_asset_old.plot(kind='line')"
   ]
  },
  {
   "cell_type": "code",
   "execution_count": 69,
   "metadata": {},
   "outputs": [
    {
     "data": {
      "text/html": [
       "<div>\n",
       "<style scoped>\n",
       "    .dataframe tbody tr th:only-of-type {\n",
       "        vertical-align: middle;\n",
       "    }\n",
       "\n",
       "    .dataframe tbody tr th {\n",
       "        vertical-align: top;\n",
       "    }\n",
       "\n",
       "    .dataframe thead th {\n",
       "        text-align: right;\n",
       "    }\n",
       "</style>\n",
       "<table border=\"1\" class=\"dataframe\">\n",
       "  <thead>\n",
       "    <tr style=\"text-align: right;\">\n",
       "      <th></th>\n",
       "      <th>young</th>\n",
       "      <th>old</th>\n",
       "      <th>sum</th>\n",
       "      <th>prop</th>\n",
       "    </tr>\n",
       "  </thead>\n",
       "  <tbody>\n",
       "    <tr>\n",
       "      <th>2003 1/4</th>\n",
       "      <td>5380917</td>\n",
       "      <td>1193995</td>\n",
       "      <td>6574912</td>\n",
       "      <td>0.181599</td>\n",
       "    </tr>\n",
       "    <tr>\n",
       "      <th>2003 2/4</th>\n",
       "      <td>5136997</td>\n",
       "      <td>1181786</td>\n",
       "      <td>6318783</td>\n",
       "      <td>0.187027</td>\n",
       "    </tr>\n",
       "    <tr>\n",
       "      <th>2003 3/4</th>\n",
       "      <td>5375582</td>\n",
       "      <td>1182654</td>\n",
       "      <td>6558236</td>\n",
       "      <td>0.180331</td>\n",
       "    </tr>\n",
       "    <tr>\n",
       "      <th>2003 4/4</th>\n",
       "      <td>5328104</td>\n",
       "      <td>1221220</td>\n",
       "      <td>6549324</td>\n",
       "      <td>0.186465</td>\n",
       "    </tr>\n",
       "    <tr>\n",
       "      <th>2004 1/4</th>\n",
       "      <td>5850309</td>\n",
       "      <td>1244733</td>\n",
       "      <td>7095042</td>\n",
       "      <td>0.175437</td>\n",
       "    </tr>\n",
       "  </tbody>\n",
       "</table>\n",
       "</div>"
      ],
      "text/plain": [
       "            young      old      sum      prop\n",
       "2003 1/4  5380917  1193995  6574912  0.181599\n",
       "2003 2/4  5136997  1181786  6318783  0.187027\n",
       "2003 3/4  5375582  1182654  6558236  0.180331\n",
       "2003 4/4  5328104  1221220  6549324  0.186465\n",
       "2004 1/4  5850309  1244733  7095042  0.175437"
      ]
     },
     "execution_count": 69,
     "metadata": {},
     "output_type": "execute_result"
    }
   ],
   "source": [
    "df_total.head()"
   ]
  },
  {
   "cell_type": "code",
   "execution_count": 83,
   "metadata": {},
   "outputs": [],
   "source": [
    "len_df=len(df_total.index)\n",
    "new_list=[]\n",
    "x=2002\n",
    "for i in range(len_df):\n",
    "    if i%4==0:\n",
    "        x+=1\n",
    "    new_list.append(x)\n",
    "    \n"
   ]
  },
  {
   "cell_type": "code",
   "execution_count": 85,
   "metadata": {},
   "outputs": [
    {
     "data": {
      "text/html": [
       "<div>\n",
       "<style scoped>\n",
       "    .dataframe tbody tr th:only-of-type {\n",
       "        vertical-align: middle;\n",
       "    }\n",
       "\n",
       "    .dataframe tbody tr th {\n",
       "        vertical-align: top;\n",
       "    }\n",
       "\n",
       "    .dataframe thead th {\n",
       "        text-align: right;\n",
       "    }\n",
       "</style>\n",
       "<table border=\"1\" class=\"dataframe\">\n",
       "  <thead>\n",
       "    <tr style=\"text-align: right;\">\n",
       "      <th></th>\n",
       "      <th>young</th>\n",
       "      <th>old</th>\n",
       "      <th>sum</th>\n",
       "      <th>prop</th>\n",
       "    </tr>\n",
       "  </thead>\n",
       "  <tbody>\n",
       "    <tr>\n",
       "      <th>2003 1/4</th>\n",
       "      <td>5380917</td>\n",
       "      <td>1193995</td>\n",
       "      <td>6574912</td>\n",
       "      <td>0.181599</td>\n",
       "    </tr>\n",
       "    <tr>\n",
       "      <th>2003 2/4</th>\n",
       "      <td>5136997</td>\n",
       "      <td>1181786</td>\n",
       "      <td>6318783</td>\n",
       "      <td>0.187027</td>\n",
       "    </tr>\n",
       "    <tr>\n",
       "      <th>2003 3/4</th>\n",
       "      <td>5375582</td>\n",
       "      <td>1182654</td>\n",
       "      <td>6558236</td>\n",
       "      <td>0.180331</td>\n",
       "    </tr>\n",
       "    <tr>\n",
       "      <th>2003 4/4</th>\n",
       "      <td>5328104</td>\n",
       "      <td>1221220</td>\n",
       "      <td>6549324</td>\n",
       "      <td>0.186465</td>\n",
       "    </tr>\n",
       "    <tr>\n",
       "      <th>2004 1/4</th>\n",
       "      <td>5850309</td>\n",
       "      <td>1244733</td>\n",
       "      <td>7095042</td>\n",
       "      <td>0.175437</td>\n",
       "    </tr>\n",
       "  </tbody>\n",
       "</table>\n",
       "</div>"
      ],
      "text/plain": [
       "            young      old      sum      prop\n",
       "2003 1/4  5380917  1193995  6574912  0.181599\n",
       "2003 2/4  5136997  1181786  6318783  0.187027\n",
       "2003 3/4  5375582  1182654  6558236  0.180331\n",
       "2003 4/4  5328104  1221220  6549324  0.186465\n",
       "2004 1/4  5850309  1244733  7095042  0.175437"
      ]
     },
     "execution_count": 85,
     "metadata": {},
     "output_type": "execute_result"
    }
   ],
   "source": [
    "df_total_copy=df_total\n",
    "df_total_copy.head()"
   ]
  },
  {
   "cell_type": "code",
   "execution_count": 86,
   "metadata": {},
   "outputs": [],
   "source": [
    "df_total_copy.index=new_list"
   ]
  },
  {
   "cell_type": "code",
   "execution_count": 87,
   "metadata": {},
   "outputs": [
    {
     "data": {
      "text/html": [
       "<div>\n",
       "<style scoped>\n",
       "    .dataframe tbody tr th:only-of-type {\n",
       "        vertical-align: middle;\n",
       "    }\n",
       "\n",
       "    .dataframe tbody tr th {\n",
       "        vertical-align: top;\n",
       "    }\n",
       "\n",
       "    .dataframe thead th {\n",
       "        text-align: right;\n",
       "    }\n",
       "</style>\n",
       "<table border=\"1\" class=\"dataframe\">\n",
       "  <thead>\n",
       "    <tr style=\"text-align: right;\">\n",
       "      <th></th>\n",
       "      <th>young</th>\n",
       "      <th>old</th>\n",
       "      <th>sum</th>\n",
       "      <th>prop</th>\n",
       "    </tr>\n",
       "  </thead>\n",
       "  <tbody>\n",
       "    <tr>\n",
       "      <th>2003</th>\n",
       "      <td>5380917</td>\n",
       "      <td>1193995</td>\n",
       "      <td>6574912</td>\n",
       "      <td>0.181599</td>\n",
       "    </tr>\n",
       "    <tr>\n",
       "      <th>2003</th>\n",
       "      <td>5136997</td>\n",
       "      <td>1181786</td>\n",
       "      <td>6318783</td>\n",
       "      <td>0.187027</td>\n",
       "    </tr>\n",
       "    <tr>\n",
       "      <th>2003</th>\n",
       "      <td>5375582</td>\n",
       "      <td>1182654</td>\n",
       "      <td>6558236</td>\n",
       "      <td>0.180331</td>\n",
       "    </tr>\n",
       "    <tr>\n",
       "      <th>2003</th>\n",
       "      <td>5328104</td>\n",
       "      <td>1221220</td>\n",
       "      <td>6549324</td>\n",
       "      <td>0.186465</td>\n",
       "    </tr>\n",
       "    <tr>\n",
       "      <th>2004</th>\n",
       "      <td>5850309</td>\n",
       "      <td>1244733</td>\n",
       "      <td>7095042</td>\n",
       "      <td>0.175437</td>\n",
       "    </tr>\n",
       "  </tbody>\n",
       "</table>\n",
       "</div>"
      ],
      "text/plain": [
       "        young      old      sum      prop\n",
       "2003  5380917  1193995  6574912  0.181599\n",
       "2003  5136997  1181786  6318783  0.187027\n",
       "2003  5375582  1182654  6558236  0.180331\n",
       "2003  5328104  1221220  6549324  0.186465\n",
       "2004  5850309  1244733  7095042  0.175437"
      ]
     },
     "execution_count": 87,
     "metadata": {},
     "output_type": "execute_result"
    }
   ],
   "source": [
    "df_total_copy.head()"
   ]
  },
  {
   "cell_type": "code",
   "execution_count": 100,
   "metadata": {},
   "outputs": [
    {
     "ename": "SyntaxError",
     "evalue": "invalid syntax (<ipython-input-100-19787b2447bb>, line 4)",
     "output_type": "error",
     "traceback": [
      "\u001b[1;36m  File \u001b[1;32m\"<ipython-input-100-19787b2447bb>\"\u001b[1;36m, line \u001b[1;32m4\u001b[0m\n\u001b[1;33m    print(df.iloc[,i])\u001b[0m\n\u001b[1;37m                  ^\u001b[0m\n\u001b[1;31mSyntaxError\u001b[0m\u001b[1;31m:\u001b[0m invalid syntax\n"
     ]
    }
   ],
   "source": [
    "\n",
    "x=2003\n",
    "for i in range(len_df):\n",
    "    if x == new_list[i]:\n",
    "        "
   ]
  },
  {
   "cell_type": "code",
   "execution_count": 137,
   "metadata": {},
   "outputs": [
    {
     "name": "stderr",
     "output_type": "stream",
     "text": [
      "C:\\Users\\user\\Anaconda3\\lib\\site-packages\\ipykernel_launcher.py:1: DeprecationWarning: \n",
      ".ix is deprecated. Please use\n",
      ".loc for label based indexing or\n",
      ".iloc for positional indexing\n",
      "\n",
      "See the documentation here:\n",
      "http://pandas.pydata.org/pandas-docs/stable/indexing.html#ix-indexer-is-deprecated\n",
      "  \"\"\"Entry point for launching an IPython kernel.\n"
     ]
    },
    {
     "data": {
      "text/html": [
       "<div>\n",
       "<style scoped>\n",
       "    .dataframe tbody tr th:only-of-type {\n",
       "        vertical-align: middle;\n",
       "    }\n",
       "\n",
       "    .dataframe tbody tr th {\n",
       "        vertical-align: top;\n",
       "    }\n",
       "\n",
       "    .dataframe thead th {\n",
       "        text-align: right;\n",
       "    }\n",
       "</style>\n",
       "<table border=\"1\" class=\"dataframe\">\n",
       "  <thead>\n",
       "    <tr style=\"text-align: right;\">\n",
       "      <th></th>\n",
       "      <th>young</th>\n",
       "      <th>old</th>\n",
       "      <th>sum</th>\n",
       "      <th>prop</th>\n",
       "    </tr>\n",
       "  </thead>\n",
       "  <tbody>\n",
       "    <tr>\n",
       "      <th>2003</th>\n",
       "      <td>5380917</td>\n",
       "      <td>1193995</td>\n",
       "      <td>6574912</td>\n",
       "      <td>0.181599</td>\n",
       "    </tr>\n",
       "    <tr>\n",
       "      <th>2003</th>\n",
       "      <td>5136997</td>\n",
       "      <td>1181786</td>\n",
       "      <td>6318783</td>\n",
       "      <td>0.187027</td>\n",
       "    </tr>\n",
       "    <tr>\n",
       "      <th>2003</th>\n",
       "      <td>5375582</td>\n",
       "      <td>1182654</td>\n",
       "      <td>6558236</td>\n",
       "      <td>0.180331</td>\n",
       "    </tr>\n",
       "    <tr>\n",
       "      <th>2003</th>\n",
       "      <td>5328104</td>\n",
       "      <td>1221220</td>\n",
       "      <td>6549324</td>\n",
       "      <td>0.186465</td>\n",
       "    </tr>\n",
       "  </tbody>\n",
       "</table>\n",
       "</div>"
      ],
      "text/plain": [
       "        young      old      sum      prop\n",
       "2003  5380917  1193995  6574912  0.181599\n",
       "2003  5136997  1181786  6318783  0.187027\n",
       "2003  5375582  1182654  6558236  0.180331\n",
       "2003  5328104  1221220  6549324  0.186465"
      ]
     },
     "execution_count": 137,
     "metadata": {},
     "output_type": "execute_result"
    }
   ],
   "source": [
    "df_total_copy.ix[2003]"
   ]
  },
  {
   "cell_type": "code",
   "execution_count": 138,
   "metadata": {
    "scrolled": true
   },
   "outputs": [
    {
     "name": "stderr",
     "output_type": "stream",
     "text": [
      "C:\\Users\\user\\Anaconda3\\lib\\site-packages\\ipykernel_launcher.py:1: DeprecationWarning: \n",
      ".ix is deprecated. Please use\n",
      ".loc for label based indexing or\n",
      ".iloc for positional indexing\n",
      "\n",
      "See the documentation here:\n",
      "http://pandas.pydata.org/pandas-docs/stable/indexing.html#ix-indexer-is-deprecated\n",
      "  \"\"\"Entry point for launching an IPython kernel.\n",
      "C:\\Users\\user\\Anaconda3\\lib\\site-packages\\ipykernel_launcher.py:2: DeprecationWarning: \n",
      ".ix is deprecated. Please use\n",
      ".loc for label based indexing or\n",
      ".iloc for positional indexing\n",
      "\n",
      "See the documentation here:\n",
      "http://pandas.pydata.org/pandas-docs/stable/indexing.html#ix-indexer-is-deprecated\n",
      "  \n",
      "C:\\Users\\user\\Anaconda3\\lib\\site-packages\\ipykernel_launcher.py:3: DeprecationWarning: \n",
      ".ix is deprecated. Please use\n",
      ".loc for label based indexing or\n",
      ".iloc for positional indexing\n",
      "\n",
      "See the documentation here:\n",
      "http://pandas.pydata.org/pandas-docs/stable/indexing.html#ix-indexer-is-deprecated\n",
      "  This is separate from the ipykernel package so we can avoid doing imports until\n",
      "C:\\Users\\user\\Anaconda3\\lib\\site-packages\\ipykernel_launcher.py:4: DeprecationWarning: \n",
      ".ix is deprecated. Please use\n",
      ".loc for label based indexing or\n",
      ".iloc for positional indexing\n",
      "\n",
      "See the documentation here:\n",
      "http://pandas.pydata.org/pandas-docs/stable/indexing.html#ix-indexer-is-deprecated\n",
      "  after removing the cwd from sys.path.\n",
      "C:\\Users\\user\\Anaconda3\\lib\\site-packages\\ipykernel_launcher.py:5: DeprecationWarning: \n",
      ".ix is deprecated. Please use\n",
      ".loc for label based indexing or\n",
      ".iloc for positional indexing\n",
      "\n",
      "See the documentation here:\n",
      "http://pandas.pydata.org/pandas-docs/stable/indexing.html#ix-indexer-is-deprecated\n",
      "  \"\"\"\n",
      "C:\\Users\\user\\Anaconda3\\lib\\site-packages\\ipykernel_launcher.py:6: DeprecationWarning: \n",
      ".ix is deprecated. Please use\n",
      ".loc for label based indexing or\n",
      ".iloc for positional indexing\n",
      "\n",
      "See the documentation here:\n",
      "http://pandas.pydata.org/pandas-docs/stable/indexing.html#ix-indexer-is-deprecated\n",
      "  \n",
      "C:\\Users\\user\\Anaconda3\\lib\\site-packages\\ipykernel_launcher.py:7: DeprecationWarning: \n",
      ".ix is deprecated. Please use\n",
      ".loc for label based indexing or\n",
      ".iloc for positional indexing\n",
      "\n",
      "See the documentation here:\n",
      "http://pandas.pydata.org/pandas-docs/stable/indexing.html#ix-indexer-is-deprecated\n",
      "  import sys\n",
      "C:\\Users\\user\\Anaconda3\\lib\\site-packages\\ipykernel_launcher.py:10: DeprecationWarning: \n",
      ".ix is deprecated. Please use\n",
      ".loc for label based indexing or\n",
      ".iloc for positional indexing\n",
      "\n",
      "See the documentation here:\n",
      "http://pandas.pydata.org/pandas-docs/stable/indexing.html#ix-indexer-is-deprecated\n",
      "  # Remove the CWD from sys.path while we load stuff.\n",
      "C:\\Users\\user\\Anaconda3\\lib\\site-packages\\ipykernel_launcher.py:11: DeprecationWarning: \n",
      ".ix is deprecated. Please use\n",
      ".loc for label based indexing or\n",
      ".iloc for positional indexing\n",
      "\n",
      "See the documentation here:\n",
      "http://pandas.pydata.org/pandas-docs/stable/indexing.html#ix-indexer-is-deprecated\n",
      "  # This is added back by InteractiveShellApp.init_path()\n",
      "C:\\Users\\user\\Anaconda3\\lib\\site-packages\\ipykernel_launcher.py:12: DeprecationWarning: \n",
      ".ix is deprecated. Please use\n",
      ".loc for label based indexing or\n",
      ".iloc for positional indexing\n",
      "\n",
      "See the documentation here:\n",
      "http://pandas.pydata.org/pandas-docs/stable/indexing.html#ix-indexer-is-deprecated\n",
      "  if sys.path[0] == '':\n",
      "C:\\Users\\user\\Anaconda3\\lib\\site-packages\\ipykernel_launcher.py:13: DeprecationWarning: \n",
      ".ix is deprecated. Please use\n",
      ".loc for label based indexing or\n",
      ".iloc for positional indexing\n",
      "\n",
      "See the documentation here:\n",
      "http://pandas.pydata.org/pandas-docs/stable/indexing.html#ix-indexer-is-deprecated\n",
      "  del sys.path[0]\n",
      "C:\\Users\\user\\Anaconda3\\lib\\site-packages\\ipykernel_launcher.py:14: DeprecationWarning: \n",
      ".ix is deprecated. Please use\n",
      ".loc for label based indexing or\n",
      ".iloc for positional indexing\n",
      "\n",
      "See the documentation here:\n",
      "http://pandas.pydata.org/pandas-docs/stable/indexing.html#ix-indexer-is-deprecated\n",
      "  \n",
      "C:\\Users\\user\\Anaconda3\\lib\\site-packages\\ipykernel_launcher.py:15: DeprecationWarning: \n",
      ".ix is deprecated. Please use\n",
      ".loc for label based indexing or\n",
      ".iloc for positional indexing\n",
      "\n",
      "See the documentation here:\n",
      "http://pandas.pydata.org/pandas-docs/stable/indexing.html#ix-indexer-is-deprecated\n",
      "  from ipykernel import kernelapp as app\n",
      "C:\\Users\\user\\Anaconda3\\lib\\site-packages\\ipykernel_launcher.py:16: DeprecationWarning: \n",
      ".ix is deprecated. Please use\n",
      ".loc for label based indexing or\n",
      ".iloc for positional indexing\n",
      "\n",
      "See the documentation here:\n",
      "http://pandas.pydata.org/pandas-docs/stable/indexing.html#ix-indexer-is-deprecated\n",
      "  app.launch_new_instance()\n"
     ]
    }
   ],
   "source": [
    "new_row1=df_total_copy.ix[2003].groupby(level=0).sum()\n",
    "new_row2=df_total_copy.ix[2004].groupby(level=0).sum()\n",
    "new_row3=df_total_copy.ix[2005].groupby(level=0).sum()\n",
    "new_row4=df_total_copy.ix[2006].groupby(level=0).sum()\n",
    "new_row5=df_total_copy.ix[2007].groupby(level=0).sum()\n",
    "new_row6=df_total_copy.ix[2008].groupby(level=0).sum()\n",
    "new_row7=df_total_copy.ix[2009].groupby(level=0).sum()\n",
    "\n",
    "\n",
    "new_row8=df_total_copy.ix[2010].groupby(level=0).sum()\n",
    "new_row9=df_total_copy.ix[2011].groupby(level=0).sum()\n",
    "new_row10=df_total_copy.ix[2012].groupby(level=0).sum()\n",
    "new_row11=df_total_copy.ix[2013].groupby(level=0).sum()\n",
    "new_row12=df_total_copy.ix[2014].groupby(level=0).sum()\n",
    "new_row13=df_total_copy.ix[2015].groupby(level=0).sum()\n",
    "new_row14=df_total_copy.ix[2016].groupby(level=0).sum()\n",
    "\n",
    "\n",
    "\n",
    "\n",
    "\n",
    "\n",
    "\n",
    "\n",
    "\n",
    "\n",
    "\n"
   ]
  },
  {
   "cell_type": "code",
   "execution_count": 112,
   "metadata": {},
   "outputs": [
    {
     "data": {
      "text/plain": [
       "56"
      ]
     },
     "execution_count": 112,
     "metadata": {},
     "output_type": "execute_result"
    }
   ],
   "source": [
    "len_df"
   ]
  },
  {
   "cell_type": "code",
   "execution_count": 139,
   "metadata": {},
   "outputs": [
    {
     "data": {
      "text/html": [
       "<div>\n",
       "<style scoped>\n",
       "    .dataframe tbody tr th:only-of-type {\n",
       "        vertical-align: middle;\n",
       "    }\n",
       "\n",
       "    .dataframe tbody tr th {\n",
       "        vertical-align: top;\n",
       "    }\n",
       "\n",
       "    .dataframe thead th {\n",
       "        text-align: right;\n",
       "    }\n",
       "</style>\n",
       "<table border=\"1\" class=\"dataframe\">\n",
       "  <thead>\n",
       "    <tr style=\"text-align: right;\">\n",
       "      <th></th>\n",
       "      <th>young</th>\n",
       "      <th>old</th>\n",
       "      <th>sum</th>\n",
       "      <th>prop</th>\n",
       "    </tr>\n",
       "  </thead>\n",
       "  <tbody>\n",
       "    <tr>\n",
       "      <th>2010</th>\n",
       "      <td>29441147</td>\n",
       "      <td>5936925</td>\n",
       "      <td>35378072</td>\n",
       "      <td>0.671523</td>\n",
       "    </tr>\n",
       "  </tbody>\n",
       "</table>\n",
       "</div>"
      ],
      "text/plain": [
       "         young      old       sum      prop\n",
       "2010  29441147  5936925  35378072  0.671523"
      ]
     },
     "execution_count": 139,
     "metadata": {},
     "output_type": "execute_result"
    }
   ],
   "source": [
    "jeval=pd.DataFrame(new_row8)\n",
    "jeval"
   ]
  },
  {
   "cell_type": "code",
   "execution_count": 140,
   "metadata": {},
   "outputs": [],
   "source": [
    "jeval3=jeval.append(new_row9).append(new_row10).append(new_row11).append(new_row12).append(new_row13).append(new_row14)"
   ]
  },
  {
   "cell_type": "code",
   "execution_count": 141,
   "metadata": {},
   "outputs": [
    {
     "data": {
      "text/html": [
       "<div>\n",
       "<style scoped>\n",
       "    .dataframe tbody tr th:only-of-type {\n",
       "        vertical-align: middle;\n",
       "    }\n",
       "\n",
       "    .dataframe tbody tr th {\n",
       "        vertical-align: top;\n",
       "    }\n",
       "\n",
       "    .dataframe thead th {\n",
       "        text-align: right;\n",
       "    }\n",
       "</style>\n",
       "<table border=\"1\" class=\"dataframe\">\n",
       "  <thead>\n",
       "    <tr style=\"text-align: right;\">\n",
       "      <th></th>\n",
       "      <th>young</th>\n",
       "      <th>old</th>\n",
       "      <th>sum</th>\n",
       "      <th>prop</th>\n",
       "    </tr>\n",
       "  </thead>\n",
       "  <tbody>\n",
       "    <tr>\n",
       "      <th>2010</th>\n",
       "      <td>29441147</td>\n",
       "      <td>5936925</td>\n",
       "      <td>35378072</td>\n",
       "      <td>0.671523</td>\n",
       "    </tr>\n",
       "    <tr>\n",
       "      <th>2011</th>\n",
       "      <td>30907516</td>\n",
       "      <td>6254655</td>\n",
       "      <td>37162171</td>\n",
       "      <td>0.673571</td>\n",
       "    </tr>\n",
       "    <tr>\n",
       "      <th>2012</th>\n",
       "      <td>31698035</td>\n",
       "      <td>6540372</td>\n",
       "      <td>38238407</td>\n",
       "      <td>0.684502</td>\n",
       "    </tr>\n",
       "    <tr>\n",
       "      <th>2013</th>\n",
       "      <td>32267486</td>\n",
       "      <td>6353655</td>\n",
       "      <td>38621141</td>\n",
       "      <td>0.658313</td>\n",
       "    </tr>\n",
       "    <tr>\n",
       "      <th>2014</th>\n",
       "      <td>33517420</td>\n",
       "      <td>6438463</td>\n",
       "      <td>39955883</td>\n",
       "      <td>0.644879</td>\n",
       "    </tr>\n",
       "    <tr>\n",
       "      <th>2015</th>\n",
       "      <td>33599558</td>\n",
       "      <td>6768829</td>\n",
       "      <td>40368387</td>\n",
       "      <td>0.670903</td>\n",
       "    </tr>\n",
       "    <tr>\n",
       "      <th>2016</th>\n",
       "      <td>33889439</td>\n",
       "      <td>6559956</td>\n",
       "      <td>40449395</td>\n",
       "      <td>0.649027</td>\n",
       "    </tr>\n",
       "  </tbody>\n",
       "</table>\n",
       "</div>"
      ],
      "text/plain": [
       "         young      old       sum      prop\n",
       "2010  29441147  5936925  35378072  0.671523\n",
       "2011  30907516  6254655  37162171  0.673571\n",
       "2012  31698035  6540372  38238407  0.684502\n",
       "2013  32267486  6353655  38621141  0.658313\n",
       "2014  33517420  6438463  39955883  0.644879\n",
       "2015  33599558  6768829  40368387  0.670903\n",
       "2016  33889439  6559956  40449395  0.649027"
      ]
     },
     "execution_count": 141,
     "metadata": {},
     "output_type": "execute_result"
    }
   ],
   "source": [
    "jeval3"
   ]
  },
  {
   "cell_type": "code",
   "execution_count": 142,
   "metadata": {},
   "outputs": [],
   "source": [
    "jeval3_col_name=['자산-y','자산-o','총자산','자산비율']\n",
    "jeval2_col_name=['소비-y','소비-o','총소비','소비비율']\n",
    "\n",
    "jeval3.columns=jeval3_col_name\n",
    "jeval2.columns=jeval2_col_name"
   ]
  },
  {
   "cell_type": "code",
   "execution_count": 143,
   "metadata": {},
   "outputs": [
    {
     "data": {
      "text/html": [
       "<div>\n",
       "<style scoped>\n",
       "    .dataframe tbody tr th:only-of-type {\n",
       "        vertical-align: middle;\n",
       "    }\n",
       "\n",
       "    .dataframe tbody tr th {\n",
       "        vertical-align: top;\n",
       "    }\n",
       "\n",
       "    .dataframe thead th {\n",
       "        text-align: right;\n",
       "    }\n",
       "</style>\n",
       "<table border=\"1\" class=\"dataframe\">\n",
       "  <thead>\n",
       "    <tr style=\"text-align: right;\">\n",
       "      <th></th>\n",
       "      <th>자산-y</th>\n",
       "      <th>자산-o</th>\n",
       "      <th>총자산</th>\n",
       "      <th>자산비율</th>\n",
       "    </tr>\n",
       "  </thead>\n",
       "  <tbody>\n",
       "    <tr>\n",
       "      <th>2010</th>\n",
       "      <td>29441147</td>\n",
       "      <td>5936925</td>\n",
       "      <td>35378072</td>\n",
       "      <td>0.671523</td>\n",
       "    </tr>\n",
       "    <tr>\n",
       "      <th>2011</th>\n",
       "      <td>30907516</td>\n",
       "      <td>6254655</td>\n",
       "      <td>37162171</td>\n",
       "      <td>0.673571</td>\n",
       "    </tr>\n",
       "    <tr>\n",
       "      <th>2012</th>\n",
       "      <td>31698035</td>\n",
       "      <td>6540372</td>\n",
       "      <td>38238407</td>\n",
       "      <td>0.684502</td>\n",
       "    </tr>\n",
       "    <tr>\n",
       "      <th>2013</th>\n",
       "      <td>32267486</td>\n",
       "      <td>6353655</td>\n",
       "      <td>38621141</td>\n",
       "      <td>0.658313</td>\n",
       "    </tr>\n",
       "    <tr>\n",
       "      <th>2014</th>\n",
       "      <td>33517420</td>\n",
       "      <td>6438463</td>\n",
       "      <td>39955883</td>\n",
       "      <td>0.644879</td>\n",
       "    </tr>\n",
       "    <tr>\n",
       "      <th>2015</th>\n",
       "      <td>33599558</td>\n",
       "      <td>6768829</td>\n",
       "      <td>40368387</td>\n",
       "      <td>0.670903</td>\n",
       "    </tr>\n",
       "    <tr>\n",
       "      <th>2016</th>\n",
       "      <td>33889439</td>\n",
       "      <td>6559956</td>\n",
       "      <td>40449395</td>\n",
       "      <td>0.649027</td>\n",
       "    </tr>\n",
       "  </tbody>\n",
       "</table>\n",
       "</div>"
      ],
      "text/plain": [
       "          자산-y     자산-o       총자산      자산비율\n",
       "2010  29441147  5936925  35378072  0.671523\n",
       "2011  30907516  6254655  37162171  0.673571\n",
       "2012  31698035  6540372  38238407  0.684502\n",
       "2013  32267486  6353655  38621141  0.658313\n",
       "2014  33517420  6438463  39955883  0.644879\n",
       "2015  33599558  6768829  40368387  0.670903\n",
       "2016  33889439  6559956  40449395  0.649027"
      ]
     },
     "execution_count": 143,
     "metadata": {},
     "output_type": "execute_result"
    }
   ],
   "source": [
    "jeval3"
   ]
  },
  {
   "cell_type": "code",
   "execution_count": 144,
   "metadata": {},
   "outputs": [
    {
     "data": {
      "text/html": [
       "<div>\n",
       "<style scoped>\n",
       "    .dataframe tbody tr th:only-of-type {\n",
       "        vertical-align: middle;\n",
       "    }\n",
       "\n",
       "    .dataframe tbody tr th {\n",
       "        vertical-align: top;\n",
       "    }\n",
       "\n",
       "    .dataframe thead th {\n",
       "        text-align: right;\n",
       "    }\n",
       "</style>\n",
       "<table border=\"1\" class=\"dataframe\">\n",
       "  <thead>\n",
       "    <tr style=\"text-align: right;\">\n",
       "      <th></th>\n",
       "      <th>소비-y</th>\n",
       "      <th>소비-o</th>\n",
       "      <th>총소비</th>\n",
       "      <th>소비비율</th>\n",
       "    </tr>\n",
       "  </thead>\n",
       "  <tbody>\n",
       "    <tr>\n",
       "      <th>2010</th>\n",
       "      <td>92637</td>\n",
       "      <td>29484</td>\n",
       "      <td>122121</td>\n",
       "      <td>0.241433</td>\n",
       "    </tr>\n",
       "    <tr>\n",
       "      <th>2011</th>\n",
       "      <td>99488</td>\n",
       "      <td>30911</td>\n",
       "      <td>130399</td>\n",
       "      <td>0.237049</td>\n",
       "    </tr>\n",
       "    <tr>\n",
       "      <th>2012</th>\n",
       "      <td>108675</td>\n",
       "      <td>31302</td>\n",
       "      <td>139977</td>\n",
       "      <td>0.223622</td>\n",
       "    </tr>\n",
       "    <tr>\n",
       "      <th>2013</th>\n",
       "      <td>106786</td>\n",
       "      <td>33341</td>\n",
       "      <td>140127</td>\n",
       "      <td>0.237934</td>\n",
       "    </tr>\n",
       "    <tr>\n",
       "      <th>2014</th>\n",
       "      <td>108455</td>\n",
       "      <td>33869</td>\n",
       "      <td>142324</td>\n",
       "      <td>0.237971</td>\n",
       "    </tr>\n",
       "    <tr>\n",
       "      <th>2015</th>\n",
       "      <td>110039</td>\n",
       "      <td>36188</td>\n",
       "      <td>146227</td>\n",
       "      <td>0.247478</td>\n",
       "    </tr>\n",
       "    <tr>\n",
       "      <th>2016</th>\n",
       "      <td>116391</td>\n",
       "      <td>37248</td>\n",
       "      <td>153639</td>\n",
       "      <td>0.242438</td>\n",
       "    </tr>\n",
       "  </tbody>\n",
       "</table>\n",
       "</div>"
      ],
      "text/plain": [
       "        소비-y   소비-o     총소비      소비비율\n",
       "2010   92637  29484  122121  0.241433\n",
       "2011   99488  30911  130399  0.237049\n",
       "2012  108675  31302  139977  0.223622\n",
       "2013  106786  33341  140127  0.237934\n",
       "2014  108455  33869  142324  0.237971\n",
       "2015  110039  36188  146227  0.247478\n",
       "2016  116391  37248  153639  0.242438"
      ]
     },
     "execution_count": 144,
     "metadata": {},
     "output_type": "execute_result"
    }
   ],
   "source": [
    "jeval2"
   ]
  },
  {
   "cell_type": "code",
   "execution_count": 149,
   "metadata": {},
   "outputs": [
    {
     "data": {
      "text/plain": [
       "DatetimeIndex(['2010-01-01', '2011-01-01', '2012-01-01', '2013-01-01',\n",
       "               '2014-01-01', '2015-01-01', '2016-01-01'],\n",
       "              dtype='datetime64[ns]', freq=None)"
      ]
     },
     "execution_count": 149,
     "metadata": {},
     "output_type": "execute_result"
    }
   ],
   "source": [
    "pd.to_datetime(jeval2.index)"
   ]
  },
  {
   "cell_type": "code",
   "execution_count": 158,
   "metadata": {},
   "outputs": [],
   "source": [
    "jeval2.index=[2010,2011,2012,2013,2014,2015,2016]\n",
    "jeval3.index=[2010,2011,2012,2013,2014,2015,2016]"
   ]
  },
  {
   "cell_type": "code",
   "execution_count": 161,
   "metadata": {},
   "outputs": [
    {
     "data": {
      "text/html": [
       "<div>\n",
       "<style scoped>\n",
       "    .dataframe tbody tr th:only-of-type {\n",
       "        vertical-align: middle;\n",
       "    }\n",
       "\n",
       "    .dataframe tbody tr th {\n",
       "        vertical-align: top;\n",
       "    }\n",
       "\n",
       "    .dataframe thead th {\n",
       "        text-align: right;\n",
       "    }\n",
       "</style>\n",
       "<table border=\"1\" class=\"dataframe\">\n",
       "  <thead>\n",
       "    <tr style=\"text-align: right;\">\n",
       "      <th></th>\n",
       "      <th>소비-y</th>\n",
       "      <th>소비-o</th>\n",
       "      <th>총소비</th>\n",
       "      <th>소비비율</th>\n",
       "      <th>자산-y</th>\n",
       "      <th>자산-o</th>\n",
       "      <th>총자산</th>\n",
       "      <th>자산비율</th>\n",
       "    </tr>\n",
       "  </thead>\n",
       "  <tbody>\n",
       "    <tr>\n",
       "      <th>2010</th>\n",
       "      <td>92637</td>\n",
       "      <td>29484</td>\n",
       "      <td>122121</td>\n",
       "      <td>0.241433</td>\n",
       "      <td>29441147</td>\n",
       "      <td>5936925</td>\n",
       "      <td>35378072</td>\n",
       "      <td>0.671523</td>\n",
       "    </tr>\n",
       "    <tr>\n",
       "      <th>2011</th>\n",
       "      <td>99488</td>\n",
       "      <td>30911</td>\n",
       "      <td>130399</td>\n",
       "      <td>0.237049</td>\n",
       "      <td>30907516</td>\n",
       "      <td>6254655</td>\n",
       "      <td>37162171</td>\n",
       "      <td>0.673571</td>\n",
       "    </tr>\n",
       "    <tr>\n",
       "      <th>2012</th>\n",
       "      <td>108675</td>\n",
       "      <td>31302</td>\n",
       "      <td>139977</td>\n",
       "      <td>0.223622</td>\n",
       "      <td>31698035</td>\n",
       "      <td>6540372</td>\n",
       "      <td>38238407</td>\n",
       "      <td>0.684502</td>\n",
       "    </tr>\n",
       "    <tr>\n",
       "      <th>2013</th>\n",
       "      <td>106786</td>\n",
       "      <td>33341</td>\n",
       "      <td>140127</td>\n",
       "      <td>0.237934</td>\n",
       "      <td>32267486</td>\n",
       "      <td>6353655</td>\n",
       "      <td>38621141</td>\n",
       "      <td>0.658313</td>\n",
       "    </tr>\n",
       "    <tr>\n",
       "      <th>2014</th>\n",
       "      <td>108455</td>\n",
       "      <td>33869</td>\n",
       "      <td>142324</td>\n",
       "      <td>0.237971</td>\n",
       "      <td>33517420</td>\n",
       "      <td>6438463</td>\n",
       "      <td>39955883</td>\n",
       "      <td>0.644879</td>\n",
       "    </tr>\n",
       "    <tr>\n",
       "      <th>2015</th>\n",
       "      <td>110039</td>\n",
       "      <td>36188</td>\n",
       "      <td>146227</td>\n",
       "      <td>0.247478</td>\n",
       "      <td>33599558</td>\n",
       "      <td>6768829</td>\n",
       "      <td>40368387</td>\n",
       "      <td>0.670903</td>\n",
       "    </tr>\n",
       "    <tr>\n",
       "      <th>2016</th>\n",
       "      <td>116391</td>\n",
       "      <td>37248</td>\n",
       "      <td>153639</td>\n",
       "      <td>0.242438</td>\n",
       "      <td>33889439</td>\n",
       "      <td>6559956</td>\n",
       "      <td>40449395</td>\n",
       "      <td>0.649027</td>\n",
       "    </tr>\n",
       "  </tbody>\n",
       "</table>\n",
       "</div>"
      ],
      "text/plain": [
       "        소비-y   소비-o     총소비      소비비율      자산-y     자산-o       총자산      자산비율\n",
       "2010   92637  29484  122121  0.241433  29441147  5936925  35378072  0.671523\n",
       "2011   99488  30911  130399  0.237049  30907516  6254655  37162171  0.673571\n",
       "2012  108675  31302  139977  0.223622  31698035  6540372  38238407  0.684502\n",
       "2013  106786  33341  140127  0.237934  32267486  6353655  38621141  0.658313\n",
       "2014  108455  33869  142324  0.237971  33517420  6438463  39955883  0.644879\n",
       "2015  110039  36188  146227  0.247478  33599558  6768829  40368387  0.670903\n",
       "2016  116391  37248  153639  0.242438  33889439  6559956  40449395  0.649027"
      ]
     },
     "execution_count": 161,
     "metadata": {},
     "output_type": "execute_result"
    }
   ],
   "source": [
    "jeval4=pd.merge(jeval2,jeval3,left_index=True,right_index=True)\n",
    "jeval4"
   ]
  },
  {
   "cell_type": "code",
   "execution_count": 162,
   "metadata": {},
   "outputs": [
    {
     "data": {
      "text/html": [
       "<div>\n",
       "<style scoped>\n",
       "    .dataframe tbody tr th:only-of-type {\n",
       "        vertical-align: middle;\n",
       "    }\n",
       "\n",
       "    .dataframe tbody tr th {\n",
       "        vertical-align: top;\n",
       "    }\n",
       "\n",
       "    .dataframe thead th {\n",
       "        text-align: right;\n",
       "    }\n",
       "</style>\n",
       "<table border=\"1\" class=\"dataframe\">\n",
       "  <thead>\n",
       "    <tr style=\"text-align: right;\">\n",
       "      <th></th>\n",
       "      <th>소비-y</th>\n",
       "      <th>소비-o</th>\n",
       "      <th>총소비</th>\n",
       "      <th>소비비율</th>\n",
       "      <th>자산-y</th>\n",
       "      <th>자산-o</th>\n",
       "      <th>총자산</th>\n",
       "      <th>자산비율</th>\n",
       "      <th>비율-y</th>\n",
       "      <th>비율-o</th>\n",
       "    </tr>\n",
       "  </thead>\n",
       "  <tbody>\n",
       "    <tr>\n",
       "      <th>2010</th>\n",
       "      <td>92637</td>\n",
       "      <td>29484</td>\n",
       "      <td>122121</td>\n",
       "      <td>0.241433</td>\n",
       "      <td>29441147</td>\n",
       "      <td>5936925</td>\n",
       "      <td>35378072</td>\n",
       "      <td>0.671523</td>\n",
       "      <td>0.003147</td>\n",
       "      <td>0.004966</td>\n",
       "    </tr>\n",
       "    <tr>\n",
       "      <th>2011</th>\n",
       "      <td>99488</td>\n",
       "      <td>30911</td>\n",
       "      <td>130399</td>\n",
       "      <td>0.237049</td>\n",
       "      <td>30907516</td>\n",
       "      <td>6254655</td>\n",
       "      <td>37162171</td>\n",
       "      <td>0.673571</td>\n",
       "      <td>0.003219</td>\n",
       "      <td>0.004942</td>\n",
       "    </tr>\n",
       "    <tr>\n",
       "      <th>2012</th>\n",
       "      <td>108675</td>\n",
       "      <td>31302</td>\n",
       "      <td>139977</td>\n",
       "      <td>0.223622</td>\n",
       "      <td>31698035</td>\n",
       "      <td>6540372</td>\n",
       "      <td>38238407</td>\n",
       "      <td>0.684502</td>\n",
       "      <td>0.003428</td>\n",
       "      <td>0.004786</td>\n",
       "    </tr>\n",
       "    <tr>\n",
       "      <th>2013</th>\n",
       "      <td>106786</td>\n",
       "      <td>33341</td>\n",
       "      <td>140127</td>\n",
       "      <td>0.237934</td>\n",
       "      <td>32267486</td>\n",
       "      <td>6353655</td>\n",
       "      <td>38621141</td>\n",
       "      <td>0.658313</td>\n",
       "      <td>0.003309</td>\n",
       "      <td>0.005248</td>\n",
       "    </tr>\n",
       "    <tr>\n",
       "      <th>2014</th>\n",
       "      <td>108455</td>\n",
       "      <td>33869</td>\n",
       "      <td>142324</td>\n",
       "      <td>0.237971</td>\n",
       "      <td>33517420</td>\n",
       "      <td>6438463</td>\n",
       "      <td>39955883</td>\n",
       "      <td>0.644879</td>\n",
       "      <td>0.003236</td>\n",
       "      <td>0.005260</td>\n",
       "    </tr>\n",
       "    <tr>\n",
       "      <th>2015</th>\n",
       "      <td>110039</td>\n",
       "      <td>36188</td>\n",
       "      <td>146227</td>\n",
       "      <td>0.247478</td>\n",
       "      <td>33599558</td>\n",
       "      <td>6768829</td>\n",
       "      <td>40368387</td>\n",
       "      <td>0.670903</td>\n",
       "      <td>0.003275</td>\n",
       "      <td>0.005346</td>\n",
       "    </tr>\n",
       "    <tr>\n",
       "      <th>2016</th>\n",
       "      <td>116391</td>\n",
       "      <td>37248</td>\n",
       "      <td>153639</td>\n",
       "      <td>0.242438</td>\n",
       "      <td>33889439</td>\n",
       "      <td>6559956</td>\n",
       "      <td>40449395</td>\n",
       "      <td>0.649027</td>\n",
       "      <td>0.003434</td>\n",
       "      <td>0.005678</td>\n",
       "    </tr>\n",
       "  </tbody>\n",
       "</table>\n",
       "</div>"
      ],
      "text/plain": [
       "        소비-y   소비-o     총소비      소비비율      자산-y     자산-o       총자산      자산비율  \\\n",
       "2010   92637  29484  122121  0.241433  29441147  5936925  35378072  0.671523   \n",
       "2011   99488  30911  130399  0.237049  30907516  6254655  37162171  0.673571   \n",
       "2012  108675  31302  139977  0.223622  31698035  6540372  38238407  0.684502   \n",
       "2013  106786  33341  140127  0.237934  32267486  6353655  38621141  0.658313   \n",
       "2014  108455  33869  142324  0.237971  33517420  6438463  39955883  0.644879   \n",
       "2015  110039  36188  146227  0.247478  33599558  6768829  40368387  0.670903   \n",
       "2016  116391  37248  153639  0.242438  33889439  6559956  40449395  0.649027   \n",
       "\n",
       "          비율-y      비율-o  \n",
       "2010  0.003147  0.004966  \n",
       "2011  0.003219  0.004942  \n",
       "2012  0.003428  0.004786  \n",
       "2013  0.003309  0.005248  \n",
       "2014  0.003236  0.005260  \n",
       "2015  0.003275  0.005346  \n",
       "2016  0.003434  0.005678  "
      ]
     },
     "execution_count": 162,
     "metadata": {},
     "output_type": "execute_result"
    }
   ],
   "source": [
    "jeval4['비율-y']=jeval4['소비-y']/jeval4['자산-y']\n",
    "jeval4['비율-o']=jeval4['소비-o']/jeval4['자산-o']\n",
    "jeval4"
   ]
  },
  {
   "cell_type": "code",
   "execution_count": 164,
   "metadata": {},
   "outputs": [
    {
     "data": {
      "text/plain": [
       "<matplotlib.axes._subplots.AxesSubplot at 0x40f1bde438>"
      ]
     },
     "execution_count": 164,
     "metadata": {},
     "output_type": "execute_result"
    },
    {
     "data": {
      "image/png": "[encoded data removed]",
      "text/plain": [
       "<Figure size 432x288 with 1 Axes>"
      ]
     },
     "metadata": {
      "needs_background": "light"
     },
     "output_type": "display_data"
    }
   ],
   "source": [
    "jeval4['비율-o'].plot(kind='line')\n",
    "plt(figsize)"
   ]
  },
  {
   "cell_type": "code",
   "execution_count": 165,
   "metadata": {},
   "outputs": [
    {
     "data": {
      "text/plain": [
       "<matplotlib.axes._subplots.AxesSubplot at 0x40eefe2198>"
      ]
     },
     "execution_count": 165,
     "metadata": {},
     "output_type": "execute_result"
    },
    {
     "data": {
      "image/png": "[encoded data removed]",
      "text/plain": [
       "<Figure size 432x288 with 1 Axes>"
      ]
     },
     "metadata": {
      "needs_background": "light"
     },
     "output_type": "display_data"
    }
   ],
   "source": [
    "jeval4['비율-y'].plot(kind='line')"
   ]
  },
  {
   "cell_type": "code",
   "execution_count": null,
   "metadata": {},
   "outputs": [],
   "source": []
  }
 ],
 "metadata": {
  "kernelspec": {
   "display_name": "Python 3",
   "language": "python",
   "name": "python3"
  },
  "language_info": {
   "codemirror_mode": {
    "name": "ipython",
    "version": 3
   },
   "file_extension": ".py",
   "mimetype": "text/x-python",
   "name": "python",
   "nbconvert_exporter": "python",
   "pygments_lexer": "ipython3",
   "version": "3.7.3"
  }
 },
 "nbformat": 4,
 "nbformat_minor": 2
}
