{
 "cells": [
  {
   "cell_type": "code",
   "execution_count": 1,
   "metadata": {},
   "outputs": [],
   "source": [
    "import seaborn as sns\n",
    "import numpy as np\n",
    "import pandas as pd\n",
    "import matplotlib.pyplot as plt"
   ]
  },
  {
   "cell_type": "code",
   "execution_count": 2,
   "metadata": {},
   "outputs": [],
   "source": [
    "pop = pd.read_csv('../data/population_Final.csv', encoding='EUC-KR')"
   ]
  },
  {
   "cell_type": "code",
   "execution_count": 3,
   "metadata": {},
   "outputs": [],
   "source": [
    "bus = pd.read_excel('../data/버정_최종.xlsx',encoding='EUC-KR')"
   ]
  },
  {
   "cell_type": "code",
   "execution_count": 4,
   "metadata": {},
   "outputs": [],
   "source": [
    "bus = bus.rename(columns={'구분':'행정구역'})"
   ]
  },
  {
   "cell_type": "code",
   "execution_count": 5,
   "metadata": {},
   "outputs": [],
   "source": [
    "result = pd.merge(bus, pop, on=\"행정구역\")"
   ]
  },
  {
   "cell_type": "code",
   "execution_count": 6,
   "metadata": {},
   "outputs": [
    {
     "data": {
      "text/html": [
       "<div>\n",
       "<style scoped>\n",
       "    .dataframe tbody tr th:only-of-type {\n",
       "        vertical-align: middle;\n",
       "    }\n",
       "\n",
       "    .dataframe tbody tr th {\n",
       "        vertical-align: top;\n",
       "    }\n",
       "\n",
       "    .dataframe thead th {\n",
       "        text-align: right;\n",
       "    }\n",
       "</style>\n",
       "<table border=\"1\" class=\"dataframe\">\n",
       "  <thead>\n",
       "    <tr style=\"text-align: right;\">\n",
       "      <th></th>\n",
       "      <th>행정구역</th>\n",
       "      <th>전체버스정류장</th>\n",
       "      <th>인구수</th>\n",
       "    </tr>\n",
       "  </thead>\n",
       "  <tbody>\n",
       "    <tr>\n",
       "      <td>0</td>\n",
       "      <td>서울</td>\n",
       "      <td>6240</td>\n",
       "      <td>9577030</td>\n",
       "    </tr>\n",
       "    <tr>\n",
       "      <td>1</td>\n",
       "      <td>부산</td>\n",
       "      <td>6993</td>\n",
       "      <td>3385964</td>\n",
       "    </tr>\n",
       "    <tr>\n",
       "      <td>2</td>\n",
       "      <td>대구</td>\n",
       "      <td>3111</td>\n",
       "      <td>2927925</td>\n",
       "    </tr>\n",
       "    <tr>\n",
       "      <td>3</td>\n",
       "      <td>인천</td>\n",
       "      <td>5346</td>\n",
       "      <td>2428301</td>\n",
       "    </tr>\n",
       "    <tr>\n",
       "      <td>4</td>\n",
       "      <td>광주</td>\n",
       "      <td>2248</td>\n",
       "      <td>1469981</td>\n",
       "    </tr>\n",
       "    <tr>\n",
       "      <td>5</td>\n",
       "      <td>대전</td>\n",
       "      <td>2518</td>\n",
       "      <td>1450439</td>\n",
       "    </tr>\n",
       "    <tr>\n",
       "      <td>6</td>\n",
       "      <td>울산</td>\n",
       "      <td>3083</td>\n",
       "      <td>1144299</td>\n",
       "    </tr>\n",
       "    <tr>\n",
       "      <td>7</td>\n",
       "      <td>전체</td>\n",
       "      <td>29539</td>\n",
       "      <td>51349072</td>\n",
       "    </tr>\n",
       "  </tbody>\n",
       "</table>\n",
       "</div>"
      ],
      "text/plain": [
       "  행정구역  전체버스정류장       인구수\n",
       "0   서울     6240   9577030\n",
       "1   부산     6993   3385964\n",
       "2   대구     3111   2927925\n",
       "3   인천     5346   2428301\n",
       "4   광주     2248   1469981\n",
       "5   대전     2518   1450439\n",
       "6   울산     3083   1144299\n",
       "7   전체    29539  51349072"
      ]
     },
     "execution_count": 6,
     "metadata": {},
     "output_type": "execute_result"
    }
   ],
   "source": [
    "result"
   ]
  },
  {
   "cell_type": "code",
   "execution_count": 7,
   "metadata": {},
   "outputs": [],
   "source": [
    "result = result.drop(7,axis=0)\n",
    "result['평균인구대비교통'] = result['전체버스정류장'] / result['인구수'].mean() * 100"
   ]
  },
  {
   "cell_type": "code",
   "execution_count": 8,
   "metadata": {},
   "outputs": [],
   "source": [
    "result['전체대비정류장수'] = result['전체버스정류장'] / result['전체버스정류장'].sum() * 100"
   ]
  },
  {
   "cell_type": "code",
   "execution_count": 9,
   "metadata": {},
   "outputs": [
    {
     "data": {
      "text/html": [
       "<div>\n",
       "<style scoped>\n",
       "    .dataframe tbody tr th:only-of-type {\n",
       "        vertical-align: middle;\n",
       "    }\n",
       "\n",
       "    .dataframe tbody tr th {\n",
       "        vertical-align: top;\n",
       "    }\n",
       "\n",
       "    .dataframe thead th {\n",
       "        text-align: right;\n",
       "    }\n",
       "</style>\n",
       "<table border=\"1\" class=\"dataframe\">\n",
       "  <thead>\n",
       "    <tr style=\"text-align: right;\">\n",
       "      <th></th>\n",
       "      <th>행정구역</th>\n",
       "      <th>전체버스정류장</th>\n",
       "      <th>인구수</th>\n",
       "      <th>평균인구대비교통</th>\n",
       "      <th>전체대비정류장수</th>\n",
       "    </tr>\n",
       "  </thead>\n",
       "  <tbody>\n",
       "    <tr>\n",
       "      <td>0</td>\n",
       "      <td>서울</td>\n",
       "      <td>6240</td>\n",
       "      <td>9577030</td>\n",
       "      <td>0.195140</td>\n",
       "      <td>21.124615</td>\n",
       "    </tr>\n",
       "    <tr>\n",
       "      <td>1</td>\n",
       "      <td>부산</td>\n",
       "      <td>6993</td>\n",
       "      <td>3385964</td>\n",
       "      <td>0.218688</td>\n",
       "      <td>23.673787</td>\n",
       "    </tr>\n",
       "    <tr>\n",
       "      <td>2</td>\n",
       "      <td>대구</td>\n",
       "      <td>3111</td>\n",
       "      <td>2927925</td>\n",
       "      <td>0.097289</td>\n",
       "      <td>10.531839</td>\n",
       "    </tr>\n",
       "    <tr>\n",
       "      <td>3</td>\n",
       "      <td>인천</td>\n",
       "      <td>5346</td>\n",
       "      <td>2428301</td>\n",
       "      <td>0.167182</td>\n",
       "      <td>18.098108</td>\n",
       "    </tr>\n",
       "    <tr>\n",
       "      <td>4</td>\n",
       "      <td>광주</td>\n",
       "      <td>2248</td>\n",
       "      <td>1469981</td>\n",
       "      <td>0.070300</td>\n",
       "      <td>7.610278</td>\n",
       "    </tr>\n",
       "    <tr>\n",
       "      <td>5</td>\n",
       "      <td>대전</td>\n",
       "      <td>2518</td>\n",
       "      <td>1450439</td>\n",
       "      <td>0.078744</td>\n",
       "      <td>8.524324</td>\n",
       "    </tr>\n",
       "    <tr>\n",
       "      <td>6</td>\n",
       "      <td>울산</td>\n",
       "      <td>3083</td>\n",
       "      <td>1144299</td>\n",
       "      <td>0.096413</td>\n",
       "      <td>10.437049</td>\n",
       "    </tr>\n",
       "  </tbody>\n",
       "</table>\n",
       "</div>"
      ],
      "text/plain": [
       "  행정구역  전체버스정류장      인구수  평균인구대비교통   전체대비정류장수\n",
       "0   서울     6240  9577030  0.195140  21.124615\n",
       "1   부산     6993  3385964  0.218688  23.673787\n",
       "2   대구     3111  2927925  0.097289  10.531839\n",
       "3   인천     5346  2428301  0.167182  18.098108\n",
       "4   광주     2248  1469981  0.070300   7.610278\n",
       "5   대전     2518  1450439  0.078744   8.524324\n",
       "6   울산     3083  1144299  0.096413  10.437049"
      ]
     },
     "execution_count": 9,
     "metadata": {},
     "output_type": "execute_result"
    }
   ],
   "source": [
    "result"
   ]
  },
  {
   "cell_type": "code",
   "execution_count": 10,
   "metadata": {},
   "outputs": [],
   "source": [
    "sns.set()\n",
    "sns.set_style('whitegrid')\n",
    "sns.set_color_codes()\n",
    "from matplotlib import font_manager, rc\n",
    "\n",
    "font_name = font_manager.FontProperties(fname=\"C:/Windows/Fonts/MALGUN.TTF\").get_name()\n",
    "rc('font', family=font_name)\n",
    "plt.rcParams['figure.figsize'] = (15,6)\n",
    "%matplotlib inline"
   ]
  },
  {
   "cell_type": "code",
   "execution_count": 11,
   "metadata": {},
   "outputs": [
    {
     "data": {
      "image/png": "[encoded data removed]",
      "text/plain": [
       "<Figure size 432x288 with 1 Axes>"
      ]
     },
     "metadata": {
      "needs_background": "light"
     },
     "output_type": "display_data"
    }
   ],
   "source": [
    "sns.barplot('행정구역','전체대비정류장수', data=result.sort_values('전체대비정류장수', ascending=False),palette ='PiYG')\n",
    "plt.title('행정구역별 버스정류장')\n",
    "plt.show()"
   ]
  },
  {
   "cell_type": "code",
   "execution_count": 12,
   "metadata": {},
   "outputs": [
    {
     "data": {
      "image/png": "[encoded data removed]",
      "text/plain": [
       "<Figure size 432x288 with 1 Axes>"
      ]
     },
     "metadata": {
      "needs_background": "light"
     },
     "output_type": "display_data"
    }
   ],
   "source": [
    "sns.barplot('행정구역','평균인구대비교통', data=result.sort_values('평균인구대비교통', ascending=False),palette ='PuOr')\n",
    "plt.title('행정구역별 인구대비정류장')\n",
    "plt.show()"
   ]
  },
  {
   "cell_type": "code",
   "execution_count": 13,
   "metadata": {},
   "outputs": [],
   "source": [
    "result.to_csv('Bus_LOOK.csv',encoding='EUC-KR',index=False)"
   ]
  },
  {
   "cell_type": "code",
   "execution_count": null,
   "metadata": {},
   "outputs": [],
   "source": []
  }
 ],
 "metadata": {
  "kernelspec": {
   "display_name": "Python 3",
   "language": "python",
   "name": "python3"
  },
  "language_info": {
   "codemirror_mode": {
    "name": "ipython",
    "version": 3
   },
   "file_extension": ".py",
   "mimetype": "text/x-python",
   "name": "python",
   "nbconvert_exporter": "python",
   "pygments_lexer": "ipython3",
   "version": "3.7.4"
  }
 },
 "nbformat": 4,
 "nbformat_minor": 2
}
