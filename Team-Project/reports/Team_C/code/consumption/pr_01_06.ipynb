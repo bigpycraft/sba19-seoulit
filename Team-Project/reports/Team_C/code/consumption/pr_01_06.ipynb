{
 "cells": [
  {
   "cell_type": "code",
   "execution_count": 1,
   "metadata": {},
   "outputs": [],
   "source": [
    "import pandas as pd\n",
    "import numpy as np\n",
    "import matplotlib.pyplot as plt\n",
    "plt.rcParams['font.family']        = 'Malgun Gothic'\n",
    "plt.rcParams['axes.unicode_minus'] = False"
   ]
  },
  {
   "cell_type": "code",
   "execution_count": 2,
   "metadata": {},
   "outputs": [],
   "source": [
    "df=pd.read_csv('./expend_satisfaction.csv',encoding='euc-kr',header=[0,1])"
   ]
  },
  {
   "cell_type": "code",
   "execution_count": 3,
   "metadata": {},
   "outputs": [
    {
     "name": "stderr",
     "output_type": "stream",
     "text": [
      "C:\\Users\\PC\\Anaconda3\\lib\\site-packages\\pandas\\core\\generic.py:3812: PerformanceWarning: dropping on a non-lexsorted multi-index without a level parameter may impact performance.\n",
      "  new_axis = axis.drop(labels, errors=errors)\n"
     ]
    }
   ],
   "source": [
    "df=df.drop('2009',axis=1)[1:]"
   ]
  },
  {
   "cell_type": "code",
   "execution_count": 4,
   "metadata": {},
   "outputs": [
    {
     "data": {
      "text/plain": [
       "pandas.core.series.Series"
      ]
     },
     "execution_count": 4,
     "metadata": {},
     "output_type": "execute_result"
    }
   ],
   "source": [
    "type(df.T.loc['2011'].loc['매우 만족'])"
   ]
  },
  {
   "cell_type": "code",
   "execution_count": 5,
   "metadata": {},
   "outputs": [],
   "source": [
    "df_T=df.T"
   ]
  },
  {
   "cell_type": "code",
   "execution_count": 6,
   "metadata": {},
   "outputs": [
    {
     "data": {
      "text/html": [
       "<div>\n",
       "<style scoped>\n",
       "    .dataframe tbody tr th:only-of-type {\n",
       "        vertical-align: middle;\n",
       "    }\n",
       "\n",
       "    .dataframe tbody tr th {\n",
       "        vertical-align: top;\n",
       "    }\n",
       "\n",
       "    .dataframe thead th {\n",
       "        text-align: right;\n",
       "    }\n",
       "</style>\n",
       "<table border=\"1\" class=\"dataframe\">\n",
       "  <thead>\n",
       "    <tr style=\"text-align: right;\">\n",
       "      <th></th>\n",
       "      <th></th>\n",
       "      <th>1</th>\n",
       "      <th>2</th>\n",
       "      <th>3</th>\n",
       "      <th>4</th>\n",
       "      <th>5</th>\n",
       "    </tr>\n",
       "  </thead>\n",
       "  <tbody>\n",
       "    <tr>\n",
       "      <th>행정구역별(1)</th>\n",
       "      <th>행정구역별(1)</th>\n",
       "      <td>전국</td>\n",
       "      <td>전국</td>\n",
       "      <td>전국</td>\n",
       "      <td>전국</td>\n",
       "      <td>전국</td>\n",
       "    </tr>\n",
       "    <tr>\n",
       "      <th>특성별(1)</th>\n",
       "      <th>특성별(1)</th>\n",
       "      <td>연령</td>\n",
       "      <td>연령</td>\n",
       "      <td>연령</td>\n",
       "      <td>연령</td>\n",
       "      <td>연령</td>\n",
       "    </tr>\n",
       "    <tr>\n",
       "      <th>특성별(2)</th>\n",
       "      <th>특성별(2)</th>\n",
       "      <td>19~29세</td>\n",
       "      <td>30∼39세</td>\n",
       "      <td>40∼49세</td>\n",
       "      <td>50∼59세</td>\n",
       "      <td>60세 이상</td>\n",
       "    </tr>\n",
       "    <tr>\n",
       "      <th rowspan=\"2\" valign=\"top\">2011</th>\n",
       "      <th>매우 만족</th>\n",
       "      <td>2.4</td>\n",
       "      <td>1.1</td>\n",
       "      <td>1.6</td>\n",
       "      <td>1.6</td>\n",
       "      <td>1.3</td>\n",
       "    </tr>\n",
       "    <tr>\n",
       "      <th>약간 만족</th>\n",
       "      <td>14.7</td>\n",
       "      <td>12.2</td>\n",
       "      <td>11.4</td>\n",
       "      <td>9.8</td>\n",
       "      <td>7.9</td>\n",
       "    </tr>\n",
       "  </tbody>\n",
       "</table>\n",
       "</div>"
      ],
      "text/plain": [
       "                        1       2       3       4       5\n",
       "행정구역별(1) 행정구역별(1)      전국      전국      전국      전국      전국\n",
       "특성별(1)   특성별(1)        연령      연령      연령      연령      연령\n",
       "특성별(2)   특성별(2)    19~29세  30∼39세  40∼49세  50∼59세  60세 이상\n",
       "2011     매우 만족        2.4     1.1     1.6     1.6     1.3\n",
       "         약간 만족       14.7    12.2    11.4     9.8     7.9"
      ]
     },
     "execution_count": 6,
     "metadata": {},
     "output_type": "execute_result"
    }
   ],
   "source": [
    "df_T.head()"
   ]
  },
  {
   "cell_type": "code",
   "execution_count": 7,
   "metadata": {},
   "outputs": [
    {
     "data": {
      "text/html": [
       "<div>\n",
       "<style scoped>\n",
       "    .dataframe tbody tr th:only-of-type {\n",
       "        vertical-align: middle;\n",
       "    }\n",
       "\n",
       "    .dataframe tbody tr th {\n",
       "        vertical-align: top;\n",
       "    }\n",
       "\n",
       "    .dataframe thead th {\n",
       "        text-align: right;\n",
       "    }\n",
       "</style>\n",
       "<table border=\"1\" class=\"dataframe\">\n",
       "  <thead>\n",
       "    <tr style=\"text-align: right;\">\n",
       "      <th></th>\n",
       "      <th></th>\n",
       "      <th>1</th>\n",
       "      <th>2</th>\n",
       "      <th>3</th>\n",
       "      <th>4</th>\n",
       "      <th>5</th>\n",
       "    </tr>\n",
       "  </thead>\n",
       "  <tbody>\n",
       "    <tr>\n",
       "      <th rowspan=\"5\" valign=\"top\">2011</th>\n",
       "      <th>매우 만족</th>\n",
       "      <td>2.4</td>\n",
       "      <td>1.1</td>\n",
       "      <td>1.6</td>\n",
       "      <td>1.6</td>\n",
       "      <td>1.3</td>\n",
       "    </tr>\n",
       "    <tr>\n",
       "      <th>약간 만족</th>\n",
       "      <td>14.7</td>\n",
       "      <td>12.2</td>\n",
       "      <td>11.4</td>\n",
       "      <td>9.8</td>\n",
       "      <td>7.9</td>\n",
       "    </tr>\n",
       "    <tr>\n",
       "      <th>보통</th>\n",
       "      <td>49.0</td>\n",
       "      <td>48.4</td>\n",
       "      <td>45.4</td>\n",
       "      <td>46.1</td>\n",
       "      <td>45.5</td>\n",
       "    </tr>\n",
       "    <tr>\n",
       "      <th>약간 불만족</th>\n",
       "      <td>27.0</td>\n",
       "      <td>29.3</td>\n",
       "      <td>29.5</td>\n",
       "      <td>30.8</td>\n",
       "      <td>34.7</td>\n",
       "    </tr>\n",
       "    <tr>\n",
       "      <th>매우 불만족</th>\n",
       "      <td>6.9</td>\n",
       "      <td>9.0</td>\n",
       "      <td>12.1</td>\n",
       "      <td>11.7</td>\n",
       "      <td>10.6</td>\n",
       "    </tr>\n",
       "  </tbody>\n",
       "</table>\n",
       "</div>"
      ],
      "text/plain": [
       "                1     2     3     4     5\n",
       "2011 매우 만족    2.4   1.1   1.6   1.6   1.3\n",
       "     약간 만족   14.7  12.2  11.4   9.8   7.9\n",
       "     보통      49.0  48.4  45.4  46.1  45.5\n",
       "     약간 불만족  27.0  29.3  29.5  30.8  34.7\n",
       "     매우 불만족   6.9   9.0  12.1  11.7  10.6"
      ]
     },
     "execution_count": 7,
     "metadata": {},
     "output_type": "execute_result"
    }
   ],
   "source": [
    "df_new=df_T[3:].apply(pd.to_numeric)\n",
    "df_new.head()"
   ]
  },
  {
   "cell_type": "code",
   "execution_count": 8,
   "metadata": {},
   "outputs": [],
   "source": [
    "col_name=['19~29','30~39','40~49','50~59','60이상']\n",
    "df_new.columns=col_name"
   ]
  },
  {
   "cell_type": "code",
   "execution_count": 9,
   "metadata": {},
   "outputs": [],
   "source": [
    "df_new_2011=df_new.loc['2011']\n",
    "df_new_2013=df_new.loc['2013']\n",
    "df_new_2015=df_new.loc['2015']\n",
    "df_new_2017=df_new.loc['2017']"
   ]
  },
  {
   "cell_type": "code",
   "execution_count": 10,
   "metadata": {},
   "outputs": [
    {
     "name": "stderr",
     "output_type": "stream",
     "text": [
      "C:\\Users\\PC\\Anaconda3\\lib\\site-packages\\ipykernel_launcher.py:1: DeprecationWarning: \n",
      ".ix is deprecated. Please use\n",
      ".loc for label based indexing or\n",
      ".iloc for positional indexing\n",
      "\n",
      "See the documentation here:\n",
      "http://pandas.pydata.org/pandas-docs/stable/indexing.html#ix-indexer-is-deprecated\n",
      "  \"\"\"Entry point for launching an IPython kernel.\n",
      "C:\\Users\\PC\\Anaconda3\\lib\\site-packages\\ipykernel_launcher.py:2: DeprecationWarning: \n",
      ".ix is deprecated. Please use\n",
      ".loc for label based indexing or\n",
      ".iloc for positional indexing\n",
      "\n",
      "See the documentation here:\n",
      "http://pandas.pydata.org/pandas-docs/stable/indexing.html#ix-indexer-is-deprecated\n",
      "  \n",
      "C:\\Users\\PC\\Anaconda3\\lib\\site-packages\\ipykernel_launcher.py:3: DeprecationWarning: \n",
      ".ix is deprecated. Please use\n",
      ".loc for label based indexing or\n",
      ".iloc for positional indexing\n",
      "\n",
      "See the documentation here:\n",
      "http://pandas.pydata.org/pandas-docs/stable/indexing.html#ix-indexer-is-deprecated\n",
      "  This is separate from the ipykernel package so we can avoid doing imports until\n",
      "C:\\Users\\PC\\Anaconda3\\lib\\site-packages\\ipykernel_launcher.py:4: DeprecationWarning: \n",
      ".ix is deprecated. Please use\n",
      ".loc for label based indexing or\n",
      ".iloc for positional indexing\n",
      "\n",
      "See the documentation here:\n",
      "http://pandas.pydata.org/pandas-docs/stable/indexing.html#ix-indexer-is-deprecated\n",
      "  after removing the cwd from sys.path.\n",
      "C:\\Users\\PC\\Anaconda3\\lib\\site-packages\\ipykernel_launcher.py:5: DeprecationWarning: \n",
      ".ix is deprecated. Please use\n",
      ".loc for label based indexing or\n",
      ".iloc for positional indexing\n",
      "\n",
      "See the documentation here:\n",
      "http://pandas.pydata.org/pandas-docs/stable/indexing.html#ix-indexer-is-deprecated\n",
      "  \"\"\"\n"
     ]
    }
   ],
   "source": [
    "df_new_2011.ix['매우 만족']=df_new_2011.ix['매우 만족']*5\n",
    "df_new_2011.ix['약간 만족']=df_new_2011.ix['약간 만족']*4\n",
    "df_new_2011.ix['보통']=df_new_2011.ix['보통']*3\n",
    "df_new_2011.ix['약간 불만족']=df_new_2011.ix['약간 불만족']*2\n",
    "df_new_2011.ix['매우 불만족']=df_new_2011.ix['매우 불만족']*1\n"
   ]
  },
  {
   "cell_type": "code",
   "execution_count": 11,
   "metadata": {},
   "outputs": [
    {
     "data": {
      "text/html": [
       "<div>\n",
       "<style scoped>\n",
       "    .dataframe tbody tr th:only-of-type {\n",
       "        vertical-align: middle;\n",
       "    }\n",
       "\n",
       "    .dataframe tbody tr th {\n",
       "        vertical-align: top;\n",
       "    }\n",
       "\n",
       "    .dataframe thead th {\n",
       "        text-align: right;\n",
       "    }\n",
       "</style>\n",
       "<table border=\"1\" class=\"dataframe\">\n",
       "  <thead>\n",
       "    <tr style=\"text-align: right;\">\n",
       "      <th></th>\n",
       "      <th>매우 만족</th>\n",
       "      <th>약간 만족</th>\n",
       "      <th>보통</th>\n",
       "      <th>약간 불만족</th>\n",
       "      <th>매우 불만족</th>\n",
       "    </tr>\n",
       "  </thead>\n",
       "  <tbody>\n",
       "    <tr>\n",
       "      <th>19~29</th>\n",
       "      <td>12.0</td>\n",
       "      <td>58.8</td>\n",
       "      <td>147.0</td>\n",
       "      <td>54.0</td>\n",
       "      <td>6.9</td>\n",
       "    </tr>\n",
       "    <tr>\n",
       "      <th>30~39</th>\n",
       "      <td>5.5</td>\n",
       "      <td>48.8</td>\n",
       "      <td>145.2</td>\n",
       "      <td>58.6</td>\n",
       "      <td>9.0</td>\n",
       "    </tr>\n",
       "    <tr>\n",
       "      <th>40~49</th>\n",
       "      <td>8.0</td>\n",
       "      <td>45.6</td>\n",
       "      <td>136.2</td>\n",
       "      <td>59.0</td>\n",
       "      <td>12.1</td>\n",
       "    </tr>\n",
       "    <tr>\n",
       "      <th>50~59</th>\n",
       "      <td>8.0</td>\n",
       "      <td>39.2</td>\n",
       "      <td>138.3</td>\n",
       "      <td>61.6</td>\n",
       "      <td>11.7</td>\n",
       "    </tr>\n",
       "    <tr>\n",
       "      <th>60이상</th>\n",
       "      <td>6.5</td>\n",
       "      <td>31.6</td>\n",
       "      <td>136.5</td>\n",
       "      <td>69.4</td>\n",
       "      <td>10.6</td>\n",
       "    </tr>\n",
       "  </tbody>\n",
       "</table>\n",
       "</div>"
      ],
      "text/plain": [
       "       매우 만족  약간 만족     보통  약간 불만족  매우 불만족\n",
       "19~29   12.0   58.8  147.0    54.0     6.9\n",
       "30~39    5.5   48.8  145.2    58.6     9.0\n",
       "40~49    8.0   45.6  136.2    59.0    12.1\n",
       "50~59    8.0   39.2  138.3    61.6    11.7\n",
       "60이상     6.5   31.6  136.5    69.4    10.6"
      ]
     },
     "execution_count": 11,
     "metadata": {},
     "output_type": "execute_result"
    }
   ],
   "source": [
    "df_2011=df_new_2011.T\n",
    "df_2011"
   ]
  },
  {
   "cell_type": "code",
   "execution_count": 12,
   "metadata": {},
   "outputs": [
    {
     "data": {
      "text/html": [
       "<div>\n",
       "<style scoped>\n",
       "    .dataframe tbody tr th:only-of-type {\n",
       "        vertical-align: middle;\n",
       "    }\n",
       "\n",
       "    .dataframe tbody tr th {\n",
       "        vertical-align: top;\n",
       "    }\n",
       "\n",
       "    .dataframe thead th {\n",
       "        text-align: right;\n",
       "    }\n",
       "</style>\n",
       "<table border=\"1\" class=\"dataframe\">\n",
       "  <thead>\n",
       "    <tr style=\"text-align: right;\">\n",
       "      <th></th>\n",
       "      <th>매우 만족</th>\n",
       "      <th>약간 만족</th>\n",
       "      <th>보통</th>\n",
       "      <th>약간 불만족</th>\n",
       "      <th>매우 불만족</th>\n",
       "      <th>점수</th>\n",
       "    </tr>\n",
       "  </thead>\n",
       "  <tbody>\n",
       "    <tr>\n",
       "      <th>19~29</th>\n",
       "      <td>12.0</td>\n",
       "      <td>58.8</td>\n",
       "      <td>147.0</td>\n",
       "      <td>54.0</td>\n",
       "      <td>6.9</td>\n",
       "      <td>278.7</td>\n",
       "    </tr>\n",
       "    <tr>\n",
       "      <th>30~39</th>\n",
       "      <td>5.5</td>\n",
       "      <td>48.8</td>\n",
       "      <td>145.2</td>\n",
       "      <td>58.6</td>\n",
       "      <td>9.0</td>\n",
       "      <td>267.1</td>\n",
       "    </tr>\n",
       "    <tr>\n",
       "      <th>40~49</th>\n",
       "      <td>8.0</td>\n",
       "      <td>45.6</td>\n",
       "      <td>136.2</td>\n",
       "      <td>59.0</td>\n",
       "      <td>12.1</td>\n",
       "      <td>260.9</td>\n",
       "    </tr>\n",
       "    <tr>\n",
       "      <th>50~59</th>\n",
       "      <td>8.0</td>\n",
       "      <td>39.2</td>\n",
       "      <td>138.3</td>\n",
       "      <td>61.6</td>\n",
       "      <td>11.7</td>\n",
       "      <td>258.8</td>\n",
       "    </tr>\n",
       "    <tr>\n",
       "      <th>60이상</th>\n",
       "      <td>6.5</td>\n",
       "      <td>31.6</td>\n",
       "      <td>136.5</td>\n",
       "      <td>69.4</td>\n",
       "      <td>10.6</td>\n",
       "      <td>254.6</td>\n",
       "    </tr>\n",
       "  </tbody>\n",
       "</table>\n",
       "</div>"
      ],
      "text/plain": [
       "       매우 만족  약간 만족     보통  약간 불만족  매우 불만족     점수\n",
       "19~29   12.0   58.8  147.0    54.0     6.9  278.7\n",
       "30~39    5.5   48.8  145.2    58.6     9.0  267.1\n",
       "40~49    8.0   45.6  136.2    59.0    12.1  260.9\n",
       "50~59    8.0   39.2  138.3    61.6    11.7  258.8\n",
       "60이상     6.5   31.6  136.5    69.4    10.6  254.6"
      ]
     },
     "execution_count": 12,
     "metadata": {},
     "output_type": "execute_result"
    }
   ],
   "source": [
    "df_2011['점수']=df_2011['매우 만족']+df_2011['약간 만족']+df_2011['보통']+df_2011['약간 불만족']+df_2011['매우 불만족']\n",
    "df_2011"
   ]
  },
  {
   "cell_type": "code",
   "execution_count": 13,
   "metadata": {},
   "outputs": [
    {
     "name": "stderr",
     "output_type": "stream",
     "text": [
      "C:\\Users\\PC\\Anaconda3\\lib\\site-packages\\ipykernel_launcher.py:1: DeprecationWarning: \n",
      ".ix is deprecated. Please use\n",
      ".loc for label based indexing or\n",
      ".iloc for positional indexing\n",
      "\n",
      "See the documentation here:\n",
      "http://pandas.pydata.org/pandas-docs/stable/indexing.html#ix-indexer-is-deprecated\n",
      "  \"\"\"Entry point for launching an IPython kernel.\n",
      "C:\\Users\\PC\\Anaconda3\\lib\\site-packages\\ipykernel_launcher.py:2: DeprecationWarning: \n",
      ".ix is deprecated. Please use\n",
      ".loc for label based indexing or\n",
      ".iloc for positional indexing\n",
      "\n",
      "See the documentation here:\n",
      "http://pandas.pydata.org/pandas-docs/stable/indexing.html#ix-indexer-is-deprecated\n",
      "  \n",
      "C:\\Users\\PC\\Anaconda3\\lib\\site-packages\\ipykernel_launcher.py:3: DeprecationWarning: \n",
      ".ix is deprecated. Please use\n",
      ".loc for label based indexing or\n",
      ".iloc for positional indexing\n",
      "\n",
      "See the documentation here:\n",
      "http://pandas.pydata.org/pandas-docs/stable/indexing.html#ix-indexer-is-deprecated\n",
      "  This is separate from the ipykernel package so we can avoid doing imports until\n",
      "C:\\Users\\PC\\Anaconda3\\lib\\site-packages\\ipykernel_launcher.py:4: DeprecationWarning: \n",
      ".ix is deprecated. Please use\n",
      ".loc for label based indexing or\n",
      ".iloc for positional indexing\n",
      "\n",
      "See the documentation here:\n",
      "http://pandas.pydata.org/pandas-docs/stable/indexing.html#ix-indexer-is-deprecated\n",
      "  after removing the cwd from sys.path.\n",
      "C:\\Users\\PC\\Anaconda3\\lib\\site-packages\\ipykernel_launcher.py:5: DeprecationWarning: \n",
      ".ix is deprecated. Please use\n",
      ".loc for label based indexing or\n",
      ".iloc for positional indexing\n",
      "\n",
      "See the documentation here:\n",
      "http://pandas.pydata.org/pandas-docs/stable/indexing.html#ix-indexer-is-deprecated\n",
      "  \"\"\"\n"
     ]
    },
    {
     "data": {
      "text/html": [
       "<div>\n",
       "<style scoped>\n",
       "    .dataframe tbody tr th:only-of-type {\n",
       "        vertical-align: middle;\n",
       "    }\n",
       "\n",
       "    .dataframe tbody tr th {\n",
       "        vertical-align: top;\n",
       "    }\n",
       "\n",
       "    .dataframe thead th {\n",
       "        text-align: right;\n",
       "    }\n",
       "</style>\n",
       "<table border=\"1\" class=\"dataframe\">\n",
       "  <thead>\n",
       "    <tr style=\"text-align: right;\">\n",
       "      <th></th>\n",
       "      <th>매우 만족</th>\n",
       "      <th>약간 만족</th>\n",
       "      <th>보통</th>\n",
       "      <th>약간 불만족</th>\n",
       "      <th>매우 불만족</th>\n",
       "      <th>점수</th>\n",
       "    </tr>\n",
       "  </thead>\n",
       "  <tbody>\n",
       "    <tr>\n",
       "      <th>19~29</th>\n",
       "      <td>16.5</td>\n",
       "      <td>53.6</td>\n",
       "      <td>149.4</td>\n",
       "      <td>52.8</td>\n",
       "      <td>7.2</td>\n",
       "      <td>279.5</td>\n",
       "    </tr>\n",
       "    <tr>\n",
       "      <th>30~39</th>\n",
       "      <td>9.0</td>\n",
       "      <td>54.0</td>\n",
       "      <td>147.0</td>\n",
       "      <td>54.6</td>\n",
       "      <td>8.3</td>\n",
       "      <td>272.9</td>\n",
       "    </tr>\n",
       "    <tr>\n",
       "      <th>40~49</th>\n",
       "      <td>9.0</td>\n",
       "      <td>52.4</td>\n",
       "      <td>135.0</td>\n",
       "      <td>59.0</td>\n",
       "      <td>10.6</td>\n",
       "      <td>266.0</td>\n",
       "    </tr>\n",
       "    <tr>\n",
       "      <th>50~59</th>\n",
       "      <td>8.0</td>\n",
       "      <td>42.4</td>\n",
       "      <td>137.1</td>\n",
       "      <td>62.6</td>\n",
       "      <td>10.8</td>\n",
       "      <td>260.9</td>\n",
       "    </tr>\n",
       "    <tr>\n",
       "      <th>60이상</th>\n",
       "      <td>7.5</td>\n",
       "      <td>32.4</td>\n",
       "      <td>134.4</td>\n",
       "      <td>69.0</td>\n",
       "      <td>11.2</td>\n",
       "      <td>254.5</td>\n",
       "    </tr>\n",
       "  </tbody>\n",
       "</table>\n",
       "</div>"
      ],
      "text/plain": [
       "       매우 만족  약간 만족     보통  약간 불만족  매우 불만족     점수\n",
       "19~29   16.5   53.6  149.4    52.8     7.2  279.5\n",
       "30~39    9.0   54.0  147.0    54.6     8.3  272.9\n",
       "40~49    9.0   52.4  135.0    59.0    10.6  266.0\n",
       "50~59    8.0   42.4  137.1    62.6    10.8  260.9\n",
       "60이상     7.5   32.4  134.4    69.0    11.2  254.5"
      ]
     },
     "execution_count": 13,
     "metadata": {},
     "output_type": "execute_result"
    }
   ],
   "source": [
    "df_new_2013.ix['매우 만족']=df_new_2013.ix['매우 만족']*5\n",
    "df_new_2013.ix['약간 만족']=df_new_2013.ix['약간 만족']*4\n",
    "df_new_2013.ix['보통']=df_new_2013.ix['보통']*3\n",
    "df_new_2013.ix['약간 불만족']=df_new_2013.ix['약간 불만족']*2\n",
    "df_new_2013.ix['매우 불만족']=df_new_2013.ix['매우 불만족']*1\n",
    "\n",
    "df_2013=df_new_2013.T\n",
    "\n",
    "\n",
    "df_2013['점수']=df_2013['매우 만족']+df_2013['약간 만족']+df_2013['보통']+df_2013['약간 불만족']+df_2013['매우 불만족']\n",
    "df_2013"
   ]
  },
  {
   "cell_type": "code",
   "execution_count": 14,
   "metadata": {},
   "outputs": [
    {
     "name": "stderr",
     "output_type": "stream",
     "text": [
      "C:\\Users\\PC\\Anaconda3\\lib\\site-packages\\ipykernel_launcher.py:1: DeprecationWarning: \n",
      ".ix is deprecated. Please use\n",
      ".loc for label based indexing or\n",
      ".iloc for positional indexing\n",
      "\n",
      "See the documentation here:\n",
      "http://pandas.pydata.org/pandas-docs/stable/indexing.html#ix-indexer-is-deprecated\n",
      "  \"\"\"Entry point for launching an IPython kernel.\n",
      "C:\\Users\\PC\\Anaconda3\\lib\\site-packages\\ipykernel_launcher.py:2: DeprecationWarning: \n",
      ".ix is deprecated. Please use\n",
      ".loc for label based indexing or\n",
      ".iloc for positional indexing\n",
      "\n",
      "See the documentation here:\n",
      "http://pandas.pydata.org/pandas-docs/stable/indexing.html#ix-indexer-is-deprecated\n",
      "  \n",
      "C:\\Users\\PC\\Anaconda3\\lib\\site-packages\\ipykernel_launcher.py:3: DeprecationWarning: \n",
      ".ix is deprecated. Please use\n",
      ".loc for label based indexing or\n",
      ".iloc for positional indexing\n",
      "\n",
      "See the documentation here:\n",
      "http://pandas.pydata.org/pandas-docs/stable/indexing.html#ix-indexer-is-deprecated\n",
      "  This is separate from the ipykernel package so we can avoid doing imports until\n",
      "C:\\Users\\PC\\Anaconda3\\lib\\site-packages\\ipykernel_launcher.py:4: DeprecationWarning: \n",
      ".ix is deprecated. Please use\n",
      ".loc for label based indexing or\n",
      ".iloc for positional indexing\n",
      "\n",
      "See the documentation here:\n",
      "http://pandas.pydata.org/pandas-docs/stable/indexing.html#ix-indexer-is-deprecated\n",
      "  after removing the cwd from sys.path.\n",
      "C:\\Users\\PC\\Anaconda3\\lib\\site-packages\\ipykernel_launcher.py:5: DeprecationWarning: \n",
      ".ix is deprecated. Please use\n",
      ".loc for label based indexing or\n",
      ".iloc for positional indexing\n",
      "\n",
      "See the documentation here:\n",
      "http://pandas.pydata.org/pandas-docs/stable/indexing.html#ix-indexer-is-deprecated\n",
      "  \"\"\"\n"
     ]
    },
    {
     "data": {
      "text/html": [
       "<div>\n",
       "<style scoped>\n",
       "    .dataframe tbody tr th:only-of-type {\n",
       "        vertical-align: middle;\n",
       "    }\n",
       "\n",
       "    .dataframe tbody tr th {\n",
       "        vertical-align: top;\n",
       "    }\n",
       "\n",
       "    .dataframe thead th {\n",
       "        text-align: right;\n",
       "    }\n",
       "</style>\n",
       "<table border=\"1\" class=\"dataframe\">\n",
       "  <thead>\n",
       "    <tr style=\"text-align: right;\">\n",
       "      <th></th>\n",
       "      <th>매우 만족</th>\n",
       "      <th>약간 만족</th>\n",
       "      <th>보통</th>\n",
       "      <th>약간 불만족</th>\n",
       "      <th>매우 불만족</th>\n",
       "      <th>점수</th>\n",
       "    </tr>\n",
       "  </thead>\n",
       "  <tbody>\n",
       "    <tr>\n",
       "      <th>19~29</th>\n",
       "      <td>16.5</td>\n",
       "      <td>56.4</td>\n",
       "      <td>148.8</td>\n",
       "      <td>49.2</td>\n",
       "      <td>8.3</td>\n",
       "      <td>279.2</td>\n",
       "    </tr>\n",
       "    <tr>\n",
       "      <th>30~39</th>\n",
       "      <td>10.0</td>\n",
       "      <td>53.2</td>\n",
       "      <td>149.1</td>\n",
       "      <td>54.6</td>\n",
       "      <td>7.7</td>\n",
       "      <td>274.6</td>\n",
       "    </tr>\n",
       "    <tr>\n",
       "      <th>40~49</th>\n",
       "      <td>9.0</td>\n",
       "      <td>53.2</td>\n",
       "      <td>140.1</td>\n",
       "      <td>56.6</td>\n",
       "      <td>9.9</td>\n",
       "      <td>268.8</td>\n",
       "    </tr>\n",
       "    <tr>\n",
       "      <th>50~59</th>\n",
       "      <td>9.0</td>\n",
       "      <td>44.0</td>\n",
       "      <td>140.4</td>\n",
       "      <td>59.0</td>\n",
       "      <td>10.9</td>\n",
       "      <td>263.3</td>\n",
       "    </tr>\n",
       "    <tr>\n",
       "      <th>60이상</th>\n",
       "      <td>6.0</td>\n",
       "      <td>34.4</td>\n",
       "      <td>143.7</td>\n",
       "      <td>64.0</td>\n",
       "      <td>10.3</td>\n",
       "      <td>258.4</td>\n",
       "    </tr>\n",
       "  </tbody>\n",
       "</table>\n",
       "</div>"
      ],
      "text/plain": [
       "       매우 만족  약간 만족     보통  약간 불만족  매우 불만족     점수\n",
       "19~29   16.5   56.4  148.8    49.2     8.3  279.2\n",
       "30~39   10.0   53.2  149.1    54.6     7.7  274.6\n",
       "40~49    9.0   53.2  140.1    56.6     9.9  268.8\n",
       "50~59    9.0   44.0  140.4    59.0    10.9  263.3\n",
       "60이상     6.0   34.4  143.7    64.0    10.3  258.4"
      ]
     },
     "execution_count": 14,
     "metadata": {},
     "output_type": "execute_result"
    }
   ],
   "source": [
    "df_new_2015.ix['매우 만족']=df_new_2015.ix['매우 만족']*5\n",
    "df_new_2015.ix['약간 만족']=df_new_2015.ix['약간 만족']*4\n",
    "df_new_2015.ix['보통']=df_new_2015.ix['보통']*3\n",
    "df_new_2015.ix['약간 불만족']=df_new_2015.ix['약간 불만족']*2\n",
    "df_new_2015.ix['매우 불만족']=df_new_2015.ix['매우 불만족']*1\n",
    "\n",
    "df_2015=df_new_2015.T\n",
    "\n",
    "\n",
    "df_2015['점수']=df_2015['매우 만족']+df_2015['약간 만족']+df_2015['보통']+df_2015['약간 불만족']+df_2015['매우 불만족']\n",
    "df_2015"
   ]
  },
  {
   "cell_type": "code",
   "execution_count": 15,
   "metadata": {},
   "outputs": [
    {
     "name": "stderr",
     "output_type": "stream",
     "text": [
      "C:\\Users\\PC\\Anaconda3\\lib\\site-packages\\ipykernel_launcher.py:1: DeprecationWarning: \n",
      ".ix is deprecated. Please use\n",
      ".loc for label based indexing or\n",
      ".iloc for positional indexing\n",
      "\n",
      "See the documentation here:\n",
      "http://pandas.pydata.org/pandas-docs/stable/indexing.html#ix-indexer-is-deprecated\n",
      "  \"\"\"Entry point for launching an IPython kernel.\n",
      "C:\\Users\\PC\\Anaconda3\\lib\\site-packages\\ipykernel_launcher.py:2: DeprecationWarning: \n",
      ".ix is deprecated. Please use\n",
      ".loc for label based indexing or\n",
      ".iloc for positional indexing\n",
      "\n",
      "See the documentation here:\n",
      "http://pandas.pydata.org/pandas-docs/stable/indexing.html#ix-indexer-is-deprecated\n",
      "  \n",
      "C:\\Users\\PC\\Anaconda3\\lib\\site-packages\\ipykernel_launcher.py:3: DeprecationWarning: \n",
      ".ix is deprecated. Please use\n",
      ".loc for label based indexing or\n",
      ".iloc for positional indexing\n",
      "\n",
      "See the documentation here:\n",
      "http://pandas.pydata.org/pandas-docs/stable/indexing.html#ix-indexer-is-deprecated\n",
      "  This is separate from the ipykernel package so we can avoid doing imports until\n",
      "C:\\Users\\PC\\Anaconda3\\lib\\site-packages\\ipykernel_launcher.py:4: DeprecationWarning: \n",
      ".ix is deprecated. Please use\n",
      ".loc for label based indexing or\n",
      ".iloc for positional indexing\n",
      "\n",
      "See the documentation here:\n",
      "http://pandas.pydata.org/pandas-docs/stable/indexing.html#ix-indexer-is-deprecated\n",
      "  after removing the cwd from sys.path.\n",
      "C:\\Users\\PC\\Anaconda3\\lib\\site-packages\\ipykernel_launcher.py:5: DeprecationWarning: \n",
      ".ix is deprecated. Please use\n",
      ".loc for label based indexing or\n",
      ".iloc for positional indexing\n",
      "\n",
      "See the documentation here:\n",
      "http://pandas.pydata.org/pandas-docs/stable/indexing.html#ix-indexer-is-deprecated\n",
      "  \"\"\"\n"
     ]
    },
    {
     "data": {
      "text/html": [
       "<div>\n",
       "<style scoped>\n",
       "    .dataframe tbody tr th:only-of-type {\n",
       "        vertical-align: middle;\n",
       "    }\n",
       "\n",
       "    .dataframe tbody tr th {\n",
       "        vertical-align: top;\n",
       "    }\n",
       "\n",
       "    .dataframe thead th {\n",
       "        text-align: right;\n",
       "    }\n",
       "</style>\n",
       "<table border=\"1\" class=\"dataframe\">\n",
       "  <thead>\n",
       "    <tr style=\"text-align: right;\">\n",
       "      <th></th>\n",
       "      <th>매우 만족</th>\n",
       "      <th>약간 만족</th>\n",
       "      <th>보통</th>\n",
       "      <th>약간 불만족</th>\n",
       "      <th>매우 불만족</th>\n",
       "      <th>점수</th>\n",
       "    </tr>\n",
       "  </thead>\n",
       "  <tbody>\n",
       "    <tr>\n",
       "      <th>19~29</th>\n",
       "      <td>14.5</td>\n",
       "      <td>62.0</td>\n",
       "      <td>142.5</td>\n",
       "      <td>54.4</td>\n",
       "      <td>6.9</td>\n",
       "      <td>280.3</td>\n",
       "    </tr>\n",
       "    <tr>\n",
       "      <th>30~39</th>\n",
       "      <td>10.0</td>\n",
       "      <td>62.4</td>\n",
       "      <td>146.7</td>\n",
       "      <td>51.6</td>\n",
       "      <td>7.7</td>\n",
       "      <td>278.4</td>\n",
       "    </tr>\n",
       "    <tr>\n",
       "      <th>40~49</th>\n",
       "      <td>12.0</td>\n",
       "      <td>62.0</td>\n",
       "      <td>143.1</td>\n",
       "      <td>52.0</td>\n",
       "      <td>8.4</td>\n",
       "      <td>277.5</td>\n",
       "    </tr>\n",
       "    <tr>\n",
       "      <th>50~59</th>\n",
       "      <td>11.0</td>\n",
       "      <td>47.6</td>\n",
       "      <td>139.2</td>\n",
       "      <td>58.0</td>\n",
       "      <td>10.4</td>\n",
       "      <td>266.2</td>\n",
       "    </tr>\n",
       "    <tr>\n",
       "      <th>60이상</th>\n",
       "      <td>6.5</td>\n",
       "      <td>37.6</td>\n",
       "      <td>138.6</td>\n",
       "      <td>64.4</td>\n",
       "      <td>10.9</td>\n",
       "      <td>258.0</td>\n",
       "    </tr>\n",
       "  </tbody>\n",
       "</table>\n",
       "</div>"
      ],
      "text/plain": [
       "       매우 만족  약간 만족     보통  약간 불만족  매우 불만족     점수\n",
       "19~29   14.5   62.0  142.5    54.4     6.9  280.3\n",
       "30~39   10.0   62.4  146.7    51.6     7.7  278.4\n",
       "40~49   12.0   62.0  143.1    52.0     8.4  277.5\n",
       "50~59   11.0   47.6  139.2    58.0    10.4  266.2\n",
       "60이상     6.5   37.6  138.6    64.4    10.9  258.0"
      ]
     },
     "execution_count": 15,
     "metadata": {},
     "output_type": "execute_result"
    }
   ],
   "source": [
    "df_new_2017.ix['매우 만족']=df_new_2017.ix['매우 만족']*5\n",
    "df_new_2017.ix['약간 만족']=df_new_2017.ix['약간 만족']*4\n",
    "df_new_2017.ix['보통']=df_new_2017.ix['보통']*3\n",
    "df_new_2017.ix['약간 불만족']=df_new_2017.ix['약간 불만족']*2\n",
    "df_new_2017.ix['매우 불만족']=df_new_2017.ix['매우 불만족']*1\n",
    "\n",
    "df_2017=df_new_2017.T\n",
    "\n",
    "\n",
    "df_2017['점수']=df_2017['매우 만족']+df_2017['약간 만족']+df_2017['보통']+df_2017['약간 불만족']+df_2017['매우 불만족']\n",
    "df_2017"
   ]
  },
  {
   "cell_type": "code",
   "execution_count": 17,
   "metadata": {},
   "outputs": [],
   "source": [
    "plt.rcParams['figure.figsize'] = (25,14)"
   ]
  },
  {
   "cell_type": "code",
   "execution_count": 22,
   "metadata": {},
   "outputs": [
    {
     "data": {
      "text/plain": [
       "([<matplotlib.axis.XTick at 0x20982d72198>,\n",
       "  <matplotlib.axis.XTick at 0x20982d64550>,\n",
       "  <matplotlib.axis.XTick at 0x20982d95e10>,\n",
       "  <matplotlib.axis.XTick at 0x20982da71d0>,\n",
       "  <matplotlib.axis.XTick at 0x20982da7630>],\n",
       " <a list of 5 Text xticklabel objects>)"
      ]
     },
     "execution_count": 22,
     "metadata": {},
     "output_type": "execute_result"
    },
    {
     "data": {
      "image/png": "[encoded data removed]",
      "text/plain": [
       "<Figure size 1800x1008 with 1 Axes>"
      ]
     },
     "metadata": {
      "needs_background": "light"
     },
     "output_type": "display_data"
    }
   ],
   "source": [
    "t = np.arange(0,5)\n",
    "df_2017['점수'].plot(kind='bar')\n",
    "plt.xticks(t, ('~29','30s','40s','50s','60+'), fontsize=25)"
   ]
  },
  {
   "cell_type": "code",
   "execution_count": 42,
   "metadata": {},
   "outputs": [],
   "source": [
    "COLOR = 'red'\n",
    "plt.rcParams['text.color'] = COLOR\n",
    "plt.rcParams['axes.labelcolor'] = COLOR\n",
    "plt.rcParams['xtick.color'] = COLOR\n",
    "plt.rcParams['ytick.color'] = COLOR"
   ]
  },
  {
   "cell_type": "code",
   "execution_count": 103,
   "metadata": {},
   "outputs": [
    {
     "data": {
      "image/png": "[encoded data removed]",
      "text/plain": [
       "<Figure size 1800x1008 with 1 Axes>"
      ]
     },
     "metadata": {
      "needs_background": "dark"
     },
     "output_type": "display_data"
    }
   ],
   "source": [
    "t = np.arange(0,5)\n",
    "#df_2017['점수'].plot(kind='bar')\n",
    "plt.bar(t, df_2015['점수'], width = 0.45, color = 'pink', alpha = 0.3, label='2015')\n",
    "plt.bar(t+0.3, df_2017['점수'], width = 0.45, color = 'pink', alpha = 0.9, label='2017')\n",
    "plt.xticks(t+0.095, ('~29','30s','40s','50s','60+'), fontsize=25)\n",
    "plt.ylim(1,280)\n",
    "plt.legend(fontsize=20, loc = 'upper left')\n",
    "plt.xlabel('소비만족도', fontsize=25)\n",
    "plt.show()"
   ]
  },
  {
   "cell_type": "code",
   "execution_count": 95,
   "metadata": {},
   "outputs": [],
   "source": [
    "COLOR = 'cyan'\n",
    "plt.rcParams[\"figure.figsize\"] = [25,14]\n",
    "plt.rcParams['text.color'] = COLOR\n",
    "plt.rcParams['axes.labelcolor'] = COLOR\n",
    "plt.rcParams['xtick.color'] = COLOR\n",
    "plt.rcParams['ytick.color'] = COLOR"
   ]
  },
  {
   "cell_type": "code",
   "execution_count": null,
   "metadata": {},
   "outputs": [],
   "source": [
    "df_2015['점수']"
   ]
  },
  {
   "cell_type": "code",
   "execution_count": 44,
   "metadata": {},
   "outputs": [
    {
     "data": {
      "image/png": "[encoded data removed]",
      "text/plain": [
       "<Figure size 1800x1008 with 1 Axes>"
      ]
     },
     "metadata": {
      "needs_background": "light"
     },
     "output_type": "display_data"
    }
   ],
   "source": [
    "t = np.arange(0,5)\n",
    "#df_2017['점수'].plot(kind='bar')\n",
    "plt.xticks(t, ('~29','30s','40s','50s','60+'), fontsize=25)\n",
    "plt.ylim(1,280)\n",
    "plt.show()"
   ]
  },
  {
   "cell_type": "code",
   "execution_count": null,
   "metadata": {},
   "outputs": [],
   "source": []
  }
 ],
 "metadata": {
  "kernelspec": {
   "display_name": "Python 3",
   "language": "python",
   "name": "python3"
  },
  "language_info": {
   "codemirror_mode": {
    "name": "ipython",
    "version": 3
   },
   "file_extension": ".py",
   "mimetype": "text/x-python",
   "name": "python",
   "nbconvert_exporter": "python",
   "pygments_lexer": "ipython3",
   "version": "3.7.3"
  }
 },
 "nbformat": 4,
 "nbformat_minor": 2
}
