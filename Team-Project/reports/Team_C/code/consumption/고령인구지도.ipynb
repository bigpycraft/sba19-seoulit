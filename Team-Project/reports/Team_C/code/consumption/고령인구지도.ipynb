{
 "cells": [
  {
   "cell_type": "code",
   "execution_count": 1,
   "metadata": {},
   "outputs": [],
   "source": [
    "import matplotlib.pyplot as plt\n",
    "import pandas as pd\n",
    "import seaborn as sns\n",
    "sns.set()\n",
    "\n",
    "%matplotlib inline"
   ]
  },
  {
   "cell_type": "code",
   "execution_count": 2,
   "metadata": {},
   "outputs": [],
   "source": [
    "from matplotlib import font_manager, rc\n",
    "font_name = font_manager.FontProperties(fname=\"C:/Windows/Fonts/malgun.ttf\").get_name()\n",
    "rc('font', family=font_name)\n",
    "\n",
    "plt.rcParams['figure.figsize'] = (10,6)\n",
    "\n",
    "from IPython.display import Image\n",
    "\n",
    "reference = lambda file, w=None, h=None : \\\n",
    "    Image(filename=file, width=w, height=h) \n",
    "    \n",
    "population_xls = 'C:/Users/ktm/Desktop/Report.xls'"
   ]
  },
  {
   "cell_type": "code",
   "execution_count": 3,
   "metadata": {},
   "outputs": [
    {
     "data": {
      "text/plain": [
       "'C:/Users/ktm/Desktop/Report.xls'"
      ]
     },
     "execution_count": 3,
     "metadata": {},
     "output_type": "execute_result"
    }
   ],
   "source": [
    "population_xls"
   ]
  },
  {
   "cell_type": "code",
   "execution_count": 4,
   "metadata": {},
   "outputs": [
    {
     "ename": "FileNotFoundError",
     "evalue": "[Errno 2] No such file or directory: 'C:/Users/ktm/Desktop/Report.xls'",
     "output_type": "error",
     "traceback": [
      "\u001b[1;31m---------------------------------------------------------------------------\u001b[0m",
      "\u001b[1;31mFileNotFoundError\u001b[0m                         Traceback (most recent call last)",
      "\u001b[1;32m<ipython-input-4-3a5617606baa>\u001b[0m in \u001b[0;36m<module>\u001b[1;34m\u001b[0m\n\u001b[1;32m----> 1\u001b[1;33m \u001b[0mpopulation\u001b[0m \u001b[1;33m=\u001b[0m \u001b[0mpd\u001b[0m\u001b[1;33m.\u001b[0m\u001b[0mread_excel\u001b[0m\u001b[1;33m(\u001b[0m\u001b[0mpopulation_xls\u001b[0m\u001b[1;33m,\u001b[0m\u001b[0mheader\u001b[0m\u001b[1;33m=\u001b[0m\u001b[1;36m2\u001b[0m\u001b[1;33m,\u001b[0m\u001b[0musecols\u001b[0m\u001b[1;33m=\u001b[0m\u001b[1;34m\"B, C, D, N\"\u001b[0m\u001b[1;33m)\u001b[0m\u001b[1;33m\u001b[0m\u001b[1;33m\u001b[0m\u001b[0m\n\u001b[0m\u001b[0;32m      2\u001b[0m \u001b[0mpopulation\u001b[0m\u001b[1;33m.\u001b[0m\u001b[0mhead\u001b[0m\u001b[1;33m(\u001b[0m\u001b[1;33m)\u001b[0m\u001b[1;33m\u001b[0m\u001b[1;33m\u001b[0m\u001b[0m\n",
      "\u001b[1;32mC:\\Python\\Anaconda3\\lib\\site-packages\\pandas\\util\\_decorators.py\u001b[0m in \u001b[0;36mwrapper\u001b[1;34m(*args, **kwargs)\u001b[0m\n\u001b[0;32m    186\u001b[0m                 \u001b[1;32melse\u001b[0m\u001b[1;33m:\u001b[0m\u001b[1;33m\u001b[0m\u001b[1;33m\u001b[0m\u001b[0m\n\u001b[0;32m    187\u001b[0m                     \u001b[0mkwargs\u001b[0m\u001b[1;33m[\u001b[0m\u001b[0mnew_arg_name\u001b[0m\u001b[1;33m]\u001b[0m \u001b[1;33m=\u001b[0m \u001b[0mnew_arg_value\u001b[0m\u001b[1;33m\u001b[0m\u001b[1;33m\u001b[0m\u001b[0m\n\u001b[1;32m--> 188\u001b[1;33m             \u001b[1;32mreturn\u001b[0m \u001b[0mfunc\u001b[0m\u001b[1;33m(\u001b[0m\u001b[1;33m*\u001b[0m\u001b[0margs\u001b[0m\u001b[1;33m,\u001b[0m \u001b[1;33m**\u001b[0m\u001b[0mkwargs\u001b[0m\u001b[1;33m)\u001b[0m\u001b[1;33m\u001b[0m\u001b[1;33m\u001b[0m\u001b[0m\n\u001b[0m\u001b[0;32m    189\u001b[0m         \u001b[1;32mreturn\u001b[0m \u001b[0mwrapper\u001b[0m\u001b[1;33m\u001b[0m\u001b[1;33m\u001b[0m\u001b[0m\n\u001b[0;32m    190\u001b[0m     \u001b[1;32mreturn\u001b[0m \u001b[0m_deprecate_kwarg\u001b[0m\u001b[1;33m\u001b[0m\u001b[1;33m\u001b[0m\u001b[0m\n",
      "\u001b[1;32mC:\\Python\\Anaconda3\\lib\\site-packages\\pandas\\util\\_decorators.py\u001b[0m in \u001b[0;36mwrapper\u001b[1;34m(*args, **kwargs)\u001b[0m\n\u001b[0;32m    186\u001b[0m                 \u001b[1;32melse\u001b[0m\u001b[1;33m:\u001b[0m\u001b[1;33m\u001b[0m\u001b[1;33m\u001b[0m\u001b[0m\n\u001b[0;32m    187\u001b[0m                     \u001b[0mkwargs\u001b[0m\u001b[1;33m[\u001b[0m\u001b[0mnew_arg_name\u001b[0m\u001b[1;33m]\u001b[0m \u001b[1;33m=\u001b[0m \u001b[0mnew_arg_value\u001b[0m\u001b[1;33m\u001b[0m\u001b[1;33m\u001b[0m\u001b[0m\n\u001b[1;32m--> 188\u001b[1;33m             \u001b[1;32mreturn\u001b[0m \u001b[0mfunc\u001b[0m\u001b[1;33m(\u001b[0m\u001b[1;33m*\u001b[0m\u001b[0margs\u001b[0m\u001b[1;33m,\u001b[0m \u001b[1;33m**\u001b[0m\u001b[0mkwargs\u001b[0m\u001b[1;33m)\u001b[0m\u001b[1;33m\u001b[0m\u001b[1;33m\u001b[0m\u001b[0m\n\u001b[0m\u001b[0;32m    189\u001b[0m         \u001b[1;32mreturn\u001b[0m \u001b[0mwrapper\u001b[0m\u001b[1;33m\u001b[0m\u001b[1;33m\u001b[0m\u001b[0m\n\u001b[0;32m    190\u001b[0m     \u001b[1;32mreturn\u001b[0m \u001b[0m_deprecate_kwarg\u001b[0m\u001b[1;33m\u001b[0m\u001b[1;33m\u001b[0m\u001b[0m\n",
      "\u001b[1;32mC:\\Python\\Anaconda3\\lib\\site-packages\\pandas\\io\\excel.py\u001b[0m in \u001b[0;36mread_excel\u001b[1;34m(io, sheet_name, header, names, index_col, parse_cols, usecols, squeeze, dtype, engine, converters, true_values, false_values, skiprows, nrows, na_values, keep_default_na, verbose, parse_dates, date_parser, thousands, comment, skip_footer, skipfooter, convert_float, mangle_dupe_cols, **kwds)\u001b[0m\n\u001b[0;32m    348\u001b[0m \u001b[1;33m\u001b[0m\u001b[0m\n\u001b[0;32m    349\u001b[0m     \u001b[1;32mif\u001b[0m \u001b[1;32mnot\u001b[0m \u001b[0misinstance\u001b[0m\u001b[1;33m(\u001b[0m\u001b[0mio\u001b[0m\u001b[1;33m,\u001b[0m \u001b[0mExcelFile\u001b[0m\u001b[1;33m)\u001b[0m\u001b[1;33m:\u001b[0m\u001b[1;33m\u001b[0m\u001b[1;33m\u001b[0m\u001b[0m\n\u001b[1;32m--> 350\u001b[1;33m         \u001b[0mio\u001b[0m \u001b[1;33m=\u001b[0m \u001b[0mExcelFile\u001b[0m\u001b[1;33m(\u001b[0m\u001b[0mio\u001b[0m\u001b[1;33m,\u001b[0m \u001b[0mengine\u001b[0m\u001b[1;33m=\u001b[0m\u001b[0mengine\u001b[0m\u001b[1;33m)\u001b[0m\u001b[1;33m\u001b[0m\u001b[1;33m\u001b[0m\u001b[0m\n\u001b[0m\u001b[0;32m    351\u001b[0m \u001b[1;33m\u001b[0m\u001b[0m\n\u001b[0;32m    352\u001b[0m     return io.parse(\n",
      "\u001b[1;32mC:\\Python\\Anaconda3\\lib\\site-packages\\pandas\\io\\excel.py\u001b[0m in \u001b[0;36m__init__\u001b[1;34m(self, io, engine)\u001b[0m\n\u001b[0;32m    651\u001b[0m         \u001b[0mself\u001b[0m\u001b[1;33m.\u001b[0m\u001b[0m_io\u001b[0m \u001b[1;33m=\u001b[0m \u001b[0m_stringify_path\u001b[0m\u001b[1;33m(\u001b[0m\u001b[0mio\u001b[0m\u001b[1;33m)\u001b[0m\u001b[1;33m\u001b[0m\u001b[1;33m\u001b[0m\u001b[0m\n\u001b[0;32m    652\u001b[0m \u001b[1;33m\u001b[0m\u001b[0m\n\u001b[1;32m--> 653\u001b[1;33m         \u001b[0mself\u001b[0m\u001b[1;33m.\u001b[0m\u001b[0m_reader\u001b[0m \u001b[1;33m=\u001b[0m \u001b[0mself\u001b[0m\u001b[1;33m.\u001b[0m\u001b[0m_engines\u001b[0m\u001b[1;33m[\u001b[0m\u001b[0mengine\u001b[0m\u001b[1;33m]\u001b[0m\u001b[1;33m(\u001b[0m\u001b[0mself\u001b[0m\u001b[1;33m.\u001b[0m\u001b[0m_io\u001b[0m\u001b[1;33m)\u001b[0m\u001b[1;33m\u001b[0m\u001b[1;33m\u001b[0m\u001b[0m\n\u001b[0m\u001b[0;32m    654\u001b[0m \u001b[1;33m\u001b[0m\u001b[0m\n\u001b[0;32m    655\u001b[0m     \u001b[1;32mdef\u001b[0m \u001b[0m__fspath__\u001b[0m\u001b[1;33m(\u001b[0m\u001b[0mself\u001b[0m\u001b[1;33m)\u001b[0m\u001b[1;33m:\u001b[0m\u001b[1;33m\u001b[0m\u001b[1;33m\u001b[0m\u001b[0m\n",
      "\u001b[1;32mC:\\Python\\Anaconda3\\lib\\site-packages\\pandas\\io\\excel.py\u001b[0m in \u001b[0;36m__init__\u001b[1;34m(self, filepath_or_buffer)\u001b[0m\n\u001b[0;32m    422\u001b[0m             \u001b[0mself\u001b[0m\u001b[1;33m.\u001b[0m\u001b[0mbook\u001b[0m \u001b[1;33m=\u001b[0m \u001b[0mxlrd\u001b[0m\u001b[1;33m.\u001b[0m\u001b[0mopen_workbook\u001b[0m\u001b[1;33m(\u001b[0m\u001b[0mfile_contents\u001b[0m\u001b[1;33m=\u001b[0m\u001b[0mdata\u001b[0m\u001b[1;33m)\u001b[0m\u001b[1;33m\u001b[0m\u001b[1;33m\u001b[0m\u001b[0m\n\u001b[0;32m    423\u001b[0m         \u001b[1;32melif\u001b[0m \u001b[0misinstance\u001b[0m\u001b[1;33m(\u001b[0m\u001b[0mfilepath_or_buffer\u001b[0m\u001b[1;33m,\u001b[0m \u001b[0mcompat\u001b[0m\u001b[1;33m.\u001b[0m\u001b[0mstring_types\u001b[0m\u001b[1;33m)\u001b[0m\u001b[1;33m:\u001b[0m\u001b[1;33m\u001b[0m\u001b[1;33m\u001b[0m\u001b[0m\n\u001b[1;32m--> 424\u001b[1;33m             \u001b[0mself\u001b[0m\u001b[1;33m.\u001b[0m\u001b[0mbook\u001b[0m \u001b[1;33m=\u001b[0m \u001b[0mxlrd\u001b[0m\u001b[1;33m.\u001b[0m\u001b[0mopen_workbook\u001b[0m\u001b[1;33m(\u001b[0m\u001b[0mfilepath_or_buffer\u001b[0m\u001b[1;33m)\u001b[0m\u001b[1;33m\u001b[0m\u001b[1;33m\u001b[0m\u001b[0m\n\u001b[0m\u001b[0;32m    425\u001b[0m         \u001b[1;32melse\u001b[0m\u001b[1;33m:\u001b[0m\u001b[1;33m\u001b[0m\u001b[1;33m\u001b[0m\u001b[0m\n\u001b[0;32m    426\u001b[0m             raise ValueError('Must explicitly set engine if not passing in'\n",
      "\u001b[1;32mC:\\Python\\Anaconda3\\lib\\site-packages\\xlrd\\__init__.py\u001b[0m in \u001b[0;36mopen_workbook\u001b[1;34m(filename, logfile, verbosity, use_mmap, file_contents, encoding_override, formatting_info, on_demand, ragged_rows)\u001b[0m\n\u001b[0;32m    109\u001b[0m     \u001b[1;32melse\u001b[0m\u001b[1;33m:\u001b[0m\u001b[1;33m\u001b[0m\u001b[1;33m\u001b[0m\u001b[0m\n\u001b[0;32m    110\u001b[0m         \u001b[0mfilename\u001b[0m \u001b[1;33m=\u001b[0m \u001b[0mos\u001b[0m\u001b[1;33m.\u001b[0m\u001b[0mpath\u001b[0m\u001b[1;33m.\u001b[0m\u001b[0mexpanduser\u001b[0m\u001b[1;33m(\u001b[0m\u001b[0mfilename\u001b[0m\u001b[1;33m)\u001b[0m\u001b[1;33m\u001b[0m\u001b[1;33m\u001b[0m\u001b[0m\n\u001b[1;32m--> 111\u001b[1;33m         \u001b[1;32mwith\u001b[0m \u001b[0mopen\u001b[0m\u001b[1;33m(\u001b[0m\u001b[0mfilename\u001b[0m\u001b[1;33m,\u001b[0m \u001b[1;34m\"rb\"\u001b[0m\u001b[1;33m)\u001b[0m \u001b[1;32mas\u001b[0m \u001b[0mf\u001b[0m\u001b[1;33m:\u001b[0m\u001b[1;33m\u001b[0m\u001b[1;33m\u001b[0m\u001b[0m\n\u001b[0m\u001b[0;32m    112\u001b[0m             \u001b[0mpeek\u001b[0m \u001b[1;33m=\u001b[0m \u001b[0mf\u001b[0m\u001b[1;33m.\u001b[0m\u001b[0mread\u001b[0m\u001b[1;33m(\u001b[0m\u001b[0mpeeksz\u001b[0m\u001b[1;33m)\u001b[0m\u001b[1;33m\u001b[0m\u001b[1;33m\u001b[0m\u001b[0m\n\u001b[0;32m    113\u001b[0m     \u001b[1;32mif\u001b[0m \u001b[0mpeek\u001b[0m \u001b[1;33m==\u001b[0m \u001b[1;34mb\"PK\\x03\\x04\"\u001b[0m\u001b[1;33m:\u001b[0m \u001b[1;31m# a ZIP file\u001b[0m\u001b[1;33m\u001b[0m\u001b[1;33m\u001b[0m\u001b[0m\n",
      "\u001b[1;31mFileNotFoundError\u001b[0m: [Errno 2] No such file or directory: 'C:/Users/ktm/Desktop/Report.xls'"
     ]
    }
   ],
   "source": [
    "population = pd.read_excel(population_xls,header=2,usecols=\"B, C, D, N\")\n",
    "population.head()"
   ]
  },
  {
   "cell_type": "code",
   "execution_count": 93,
   "metadata": {},
   "outputs": [
    {
     "data": {
      "text/html": [
       "<div>\n",
       "<style scoped>\n",
       "    .dataframe tbody tr th:only-of-type {\n",
       "        vertical-align: middle;\n",
       "    }\n",
       "\n",
       "    .dataframe tbody tr th {\n",
       "        vertical-align: top;\n",
       "    }\n",
       "\n",
       "    .dataframe thead th {\n",
       "        text-align: right;\n",
       "    }\n",
       "</style>\n",
       "<table border=\"1\" class=\"dataframe\">\n",
       "  <thead>\n",
       "    <tr style=\"text-align: right;\">\n",
       "      <th></th>\n",
       "      <th>자치구</th>\n",
       "      <th>세대</th>\n",
       "      <th>계</th>\n",
       "      <th>65세이상고령자</th>\n",
       "    </tr>\n",
       "  </thead>\n",
       "  <tbody>\n",
       "    <tr>\n",
       "      <th>1</th>\n",
       "      <td>종로구</td>\n",
       "      <td>73828</td>\n",
       "      <td>162413</td>\n",
       "      <td>27155</td>\n",
       "    </tr>\n",
       "    <tr>\n",
       "      <th>2</th>\n",
       "      <td>중구</td>\n",
       "      <td>62156</td>\n",
       "      <td>136276</td>\n",
       "      <td>22749</td>\n",
       "    </tr>\n",
       "    <tr>\n",
       "      <th>3</th>\n",
       "      <td>용산구</td>\n",
       "      <td>109692</td>\n",
       "      <td>245069</td>\n",
       "      <td>38259</td>\n",
       "    </tr>\n",
       "    <tr>\n",
       "      <th>4</th>\n",
       "      <td>성동구</td>\n",
       "      <td>136872</td>\n",
       "      <td>312991</td>\n",
       "      <td>43370</td>\n",
       "    </tr>\n",
       "    <tr>\n",
       "      <th>5</th>\n",
       "      <td>광진구</td>\n",
       "      <td>163914</td>\n",
       "      <td>369470</td>\n",
       "      <td>46773</td>\n",
       "    </tr>\n",
       "    <tr>\n",
       "      <th>6</th>\n",
       "      <td>동대문구</td>\n",
       "      <td>162851</td>\n",
       "      <td>363101</td>\n",
       "      <td>58078</td>\n",
       "    </tr>\n",
       "    <tr>\n",
       "      <th>7</th>\n",
       "      <td>중랑구</td>\n",
       "      <td>181383</td>\n",
       "      <td>405639</td>\n",
       "      <td>63670</td>\n",
       "    </tr>\n",
       "    <tr>\n",
       "      <th>8</th>\n",
       "      <td>성북구</td>\n",
       "      <td>190253</td>\n",
       "      <td>452292</td>\n",
       "      <td>69341</td>\n",
       "    </tr>\n",
       "    <tr>\n",
       "      <th>9</th>\n",
       "      <td>강북구</td>\n",
       "      <td>143650</td>\n",
       "      <td>319377</td>\n",
       "      <td>59189</td>\n",
       "    </tr>\n",
       "    <tr>\n",
       "      <th>10</th>\n",
       "      <td>도봉구</td>\n",
       "      <td>138460</td>\n",
       "      <td>339001</td>\n",
       "      <td>57367</td>\n",
       "    </tr>\n",
       "    <tr>\n",
       "      <th>11</th>\n",
       "      <td>노원구</td>\n",
       "      <td>217462</td>\n",
       "      <td>542603</td>\n",
       "      <td>79046</td>\n",
       "    </tr>\n",
       "    <tr>\n",
       "      <th>12</th>\n",
       "      <td>은평구</td>\n",
       "      <td>207123</td>\n",
       "      <td>488285</td>\n",
       "      <td>79282</td>\n",
       "    </tr>\n",
       "    <tr>\n",
       "      <th>13</th>\n",
       "      <td>서대문구</td>\n",
       "      <td>140007</td>\n",
       "      <td>324304</td>\n",
       "      <td>51367</td>\n",
       "    </tr>\n",
       "    <tr>\n",
       "      <th>14</th>\n",
       "      <td>마포구</td>\n",
       "      <td>173845</td>\n",
       "      <td>385985</td>\n",
       "      <td>51613</td>\n",
       "    </tr>\n",
       "    <tr>\n",
       "      <th>15</th>\n",
       "      <td>양천구</td>\n",
       "      <td>177045</td>\n",
       "      <td>465095</td>\n",
       "      <td>59731</td>\n",
       "    </tr>\n",
       "    <tr>\n",
       "      <th>16</th>\n",
       "      <td>강서구</td>\n",
       "      <td>261383</td>\n",
       "      <td>602230</td>\n",
       "      <td>81965</td>\n",
       "    </tr>\n",
       "    <tr>\n",
       "      <th>17</th>\n",
       "      <td>구로구</td>\n",
       "      <td>174505</td>\n",
       "      <td>439328</td>\n",
       "      <td>64028</td>\n",
       "    </tr>\n",
       "    <tr>\n",
       "      <th>18</th>\n",
       "      <td>금천구</td>\n",
       "      <td>109708</td>\n",
       "      <td>254061</td>\n",
       "      <td>36727</td>\n",
       "    </tr>\n",
       "    <tr>\n",
       "      <th>19</th>\n",
       "      <td>영등포구</td>\n",
       "      <td>173701</td>\n",
       "      <td>404229</td>\n",
       "      <td>56891</td>\n",
       "    </tr>\n",
       "    <tr>\n",
       "      <th>20</th>\n",
       "      <td>동작구</td>\n",
       "      <td>180463</td>\n",
       "      <td>412000</td>\n",
       "      <td>61009</td>\n",
       "    </tr>\n",
       "    <tr>\n",
       "      <th>21</th>\n",
       "      <td>관악구</td>\n",
       "      <td>266692</td>\n",
       "      <td>519864</td>\n",
       "      <td>73693</td>\n",
       "    </tr>\n",
       "    <tr>\n",
       "      <th>22</th>\n",
       "      <td>서초구</td>\n",
       "      <td>172907</td>\n",
       "      <td>435631</td>\n",
       "      <td>55853</td>\n",
       "    </tr>\n",
       "    <tr>\n",
       "      <th>23</th>\n",
       "      <td>강남구</td>\n",
       "      <td>230752</td>\n",
       "      <td>547602</td>\n",
       "      <td>69011</td>\n",
       "    </tr>\n",
       "    <tr>\n",
       "      <th>24</th>\n",
       "      <td>송파구</td>\n",
       "      <td>278223</td>\n",
       "      <td>686181</td>\n",
       "      <td>84740</td>\n",
       "    </tr>\n",
       "    <tr>\n",
       "      <th>25</th>\n",
       "      <td>강동구</td>\n",
       "      <td>177368</td>\n",
       "      <td>428547</td>\n",
       "      <td>60657</td>\n",
       "    </tr>\n",
       "  </tbody>\n",
       "</table>\n",
       "</div>"
      ],
      "text/plain": [
       "     자치구      세대       계  65세이상고령자\n",
       "1    종로구   73828  162413     27155\n",
       "2     중구   62156  136276     22749\n",
       "3    용산구  109692  245069     38259\n",
       "4    성동구  136872  312991     43370\n",
       "5    광진구  163914  369470     46773\n",
       "6   동대문구  162851  363101     58078\n",
       "7    중랑구  181383  405639     63670\n",
       "8    성북구  190253  452292     69341\n",
       "9    강북구  143650  319377     59189\n",
       "10   도봉구  138460  339001     57367\n",
       "11   노원구  217462  542603     79046\n",
       "12   은평구  207123  488285     79282\n",
       "13  서대문구  140007  324304     51367\n",
       "14   마포구  173845  385985     51613\n",
       "15   양천구  177045  465095     59731\n",
       "16   강서구  261383  602230     81965\n",
       "17   구로구  174505  439328     64028\n",
       "18   금천구  109708  254061     36727\n",
       "19  영등포구  173701  404229     56891\n",
       "20   동작구  180463  412000     61009\n",
       "21   관악구  266692  519864     73693\n",
       "22   서초구  172907  435631     55853\n",
       "23   강남구  230752  547602     69011\n",
       "24   송파구  278223  686181     84740\n",
       "25   강동구  177368  428547     60657"
      ]
     },
     "execution_count": 93,
     "metadata": {},
     "output_type": "execute_result"
    }
   ],
   "source": [
    "population = population.drop([0])\n",
    "population"
   ]
  },
  {
   "cell_type": "code",
   "execution_count": 94,
   "metadata": {},
   "outputs": [
    {
     "data": {
      "text/plain": [
       "array(['종로구', '중구', '용산구', '성동구', '광진구', '동대문구', '중랑구', '성북구', '강북구',\n",
       "       '도봉구', '노원구', '은평구', '서대문구', '마포구', '양천구', '강서구', '구로구', '금천구',\n",
       "       '영등포구', '동작구', '관악구', '서초구', '강남구', '송파구', '강동구'], dtype=object)"
      ]
     },
     "execution_count": 94,
     "metadata": {},
     "output_type": "execute_result"
    }
   ],
   "source": [
    "population['자치구'].unique()"
   ]
  },
  {
   "cell_type": "code",
   "execution_count": 95,
   "metadata": {},
   "outputs": [],
   "source": [
    "import json\n",
    "import folium\n",
    "import warnings\n",
    "warnings.simplefilter(action = \"ignore\", category = FutureWarning)"
   ]
  },
  {
   "cell_type": "code",
   "execution_count": 96,
   "metadata": {},
   "outputs": [],
   "source": [
    "geo_path = '/05. skorea_municipalities_geo_simple.json'\n",
    "geo_str = json.load(open(geo_path, encoding='utf-8'))"
   ]
  },
  {
   "cell_type": "code",
   "execution_count": 97,
   "metadata": {},
   "outputs": [
    {
     "data": {
      "text/html": [
       "<div>\n",
       "<style scoped>\n",
       "    .dataframe tbody tr th:only-of-type {\n",
       "        vertical-align: middle;\n",
       "    }\n",
       "\n",
       "    .dataframe tbody tr th {\n",
       "        vertical-align: top;\n",
       "    }\n",
       "\n",
       "    .dataframe thead th {\n",
       "        text-align: right;\n",
       "    }\n",
       "</style>\n",
       "<table border=\"1\" class=\"dataframe\">\n",
       "  <thead>\n",
       "    <tr style=\"text-align: right;\">\n",
       "      <th></th>\n",
       "      <th>gu</th>\n",
       "      <th>counts</th>\n",
       "    </tr>\n",
       "  </thead>\n",
       "  <tbody>\n",
       "    <tr>\n",
       "      <th>1</th>\n",
       "      <td>종로구</td>\n",
       "      <td>162413</td>\n",
       "    </tr>\n",
       "    <tr>\n",
       "      <th>2</th>\n",
       "      <td>중구</td>\n",
       "      <td>136276</td>\n",
       "    </tr>\n",
       "    <tr>\n",
       "      <th>3</th>\n",
       "      <td>용산구</td>\n",
       "      <td>245069</td>\n",
       "    </tr>\n",
       "    <tr>\n",
       "      <th>4</th>\n",
       "      <td>성동구</td>\n",
       "      <td>312991</td>\n",
       "    </tr>\n",
       "    <tr>\n",
       "      <th>5</th>\n",
       "      <td>광진구</td>\n",
       "      <td>369470</td>\n",
       "    </tr>\n",
       "  </tbody>\n",
       "</table>\n",
       "</div>"
      ],
      "text/plain": [
       "    gu  counts\n",
       "1  종로구  162413\n",
       "2   중구  136276\n",
       "3  용산구  245069\n",
       "4  성동구  312991\n",
       "5  광진구  369470"
      ]
     },
     "execution_count": 97,
     "metadata": {},
     "output_type": "execute_result"
    }
   ],
   "source": [
    "guDat = pd.DataFrame({'gu':population['자치구'], 'counts':population['계']})\n",
    "guDat.head()"
   ]
  },
  {
   "cell_type": "code",
   "execution_count": 98,
   "metadata": {},
   "outputs": [],
   "source": [
    "guDat = pd.DataFrame({'gu':population['자치구'], 'counts':population['65세이상고령자']})\n",
    "map = folium.Map(location=[37.5502, 126.982], zoom_start=11, tiles='Stamen Toner')\n",
    "map.choropleth(geo_data=geo_str,data=guDat,columns=['gu', 'counts'],fill_color='PuBu', \n",
    "              key_on='feature.id')"
   ]
  },
  {
   "cell_type": "code",
   "execution_count": 99,
   "metadata": {
    "scrolled": true
   },
   "outputs": [
    {
     "data": {
      "text/html": [
       "<div style=\"width:100%;\"><div style=\"position:relative;width:100%;height:0;padding-bottom:60%;\"><iframe src=\"data:text/html;charset=utf-8;base64,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\" style=\"position:absolute;width:100%;height:100%;left:0;top:0;border:none !important;\" allowfullscreen webkitallowfullscreen mozallowfullscreen></iframe></div></div>"
      ],
      "text/plain": [
       "<folium.folium.Map at 0x17fce4e1828>"
      ]
     },
     "execution_count": 99,
     "metadata": {},
     "output_type": "execute_result"
    }
   ],
   "source": [
    "map"
   ]
  },
  {
   "cell_type": "code",
   "execution_count": 100,
   "metadata": {},
   "outputs": [
    {
     "data": {
      "text/html": [
       "<div>\n",
       "<style scoped>\n",
       "    .dataframe tbody tr th:only-of-type {\n",
       "        vertical-align: middle;\n",
       "    }\n",
       "\n",
       "    .dataframe tbody tr th {\n",
       "        vertical-align: top;\n",
       "    }\n",
       "\n",
       "    .dataframe thead th {\n",
       "        text-align: right;\n",
       "    }\n",
       "</style>\n",
       "<table border=\"1\" class=\"dataframe\">\n",
       "  <thead>\n",
       "    <tr style=\"text-align: right;\">\n",
       "      <th></th>\n",
       "      <th>자치구</th>\n",
       "      <th>세대</th>\n",
       "      <th>계</th>\n",
       "      <th>65세이상고령자</th>\n",
       "      <th>고령비율</th>\n",
       "    </tr>\n",
       "  </thead>\n",
       "  <tbody>\n",
       "    <tr>\n",
       "      <th>1</th>\n",
       "      <td>종로구</td>\n",
       "      <td>73828</td>\n",
       "      <td>162413</td>\n",
       "      <td>27155</td>\n",
       "      <td>16.719721</td>\n",
       "    </tr>\n",
       "    <tr>\n",
       "      <th>2</th>\n",
       "      <td>중구</td>\n",
       "      <td>62156</td>\n",
       "      <td>136276</td>\n",
       "      <td>22749</td>\n",
       "      <td>16.693328</td>\n",
       "    </tr>\n",
       "    <tr>\n",
       "      <th>3</th>\n",
       "      <td>용산구</td>\n",
       "      <td>109692</td>\n",
       "      <td>245069</td>\n",
       "      <td>38259</td>\n",
       "      <td>15.611522</td>\n",
       "    </tr>\n",
       "    <tr>\n",
       "      <th>4</th>\n",
       "      <td>성동구</td>\n",
       "      <td>136872</td>\n",
       "      <td>312991</td>\n",
       "      <td>43370</td>\n",
       "      <td>13.856628</td>\n",
       "    </tr>\n",
       "    <tr>\n",
       "      <th>5</th>\n",
       "      <td>광진구</td>\n",
       "      <td>163914</td>\n",
       "      <td>369470</td>\n",
       "      <td>46773</td>\n",
       "      <td>12.659485</td>\n",
       "    </tr>\n",
       "  </tbody>\n",
       "</table>\n",
       "</div>"
      ],
      "text/plain": [
       "   자치구      세대       계  65세이상고령자       고령비율\n",
       "1  종로구   73828  162413     27155  16.719721\n",
       "2   중구   62156  136276     22749  16.693328\n",
       "3  용산구  109692  245069     38259  15.611522\n",
       "4  성동구  136872  312991     43370  13.856628\n",
       "5  광진구  163914  369470     46773  12.659485"
      ]
     },
     "execution_count": 100,
     "metadata": {},
     "output_type": "execute_result"
    }
   ],
   "source": [
    "population['고령비율'] = population['65세이상고령자']/population['계']*100\n",
    "population.head()"
   ]
  },
  {
   "cell_type": "code",
   "execution_count": 101,
   "metadata": {},
   "outputs": [],
   "source": [
    "guDat = pd.DataFrame({'gu':population['자치구'], 'counts':population['고령비율']})\n",
    "map1 = folium.Map(location=[37.5502, 126.982], zoom_start=11, tiles='Stamen Toner')\n",
    "map1.choropleth(geo_data=geo_str, data=guDat,columns=['gu', 'counts'],fill_color='PuBuGn',key_on='feature.id')"
   ]
  },
  {
   "cell_type": "code",
   "execution_count": 102,
   "metadata": {
    "scrolled": true
   },
   "outputs": [
    {
     "data": {
      "text/html": [
       "<div style=\"width:100%;\"><div style=\"position:relative;width:100%;height:0;padding-bottom:60%;\"><iframe src=\"data:text/html;charset=utf-8;base64,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\" style=\"position:absolute;width:100%;height:100%;left:0;top:0;border:none !important;\" allowfullscreen webkitallowfullscreen mozallowfullscreen></iframe></div></div>"
      ],
      "text/plain": [
       "<folium.folium.Map at 0x17fce4aa9e8>"
      ]
     },
     "execution_count": 102,
     "metadata": {},
     "output_type": "execute_result"
    }
   ],
   "source": [
    "map1"
   ]
  },
  {
   "cell_type": "code",
   "execution_count": null,
   "metadata": {},
   "outputs": [],
   "source": []
  }
 ],
 "metadata": {
  "kernelspec": {
   "display_name": "Python 3",
   "language": "python",
   "name": "python3"
  },
  "language_info": {
   "codemirror_mode": {
    "name": "ipython",
    "version": 3
   },
   "file_extension": ".py",
   "mimetype": "text/x-python",
   "name": "python",
   "nbconvert_exporter": "python",
   "pygments_lexer": "ipython3",
   "version": "3.7.3"
  }
 },
 "nbformat": 4,
 "nbformat_minor": 2
}
