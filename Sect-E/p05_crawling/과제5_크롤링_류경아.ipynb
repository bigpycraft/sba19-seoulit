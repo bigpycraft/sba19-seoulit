{
 "cells": [
  {
   "cell_type": "code",
   "execution_count": 24,
   "metadata": {},
   "outputs": [],
   "source": [
    "import glob\n",
    "import time\n",
    "from datetime import datetime\n",
    "\n",
    "import os\n",
    "from os.path import exists\n",
    "\n",
    "import requests\n",
    "from bs4 import BeautifulSoup\n",
    "\n",
    "\n",
    "url = 'http://www.chicagomag.com/Chicago-Magazine/November-2012/Best-Sandwiches-Chicago/'"
   ]
  },
  {
   "cell_type": "code",
   "execution_count": 2,
   "metadata": {},
   "outputs": [
    {
     "data": {
      "text/plain": [
       "<title>\n",
       "  The 50 Best Sandwiches in Chicago |\n",
       "  Chicago magazine\n",
       "      |  November 2012\n",
       "    </title>"
      ]
     },
     "execution_count": 2,
     "metadata": {},
     "output_type": "execute_result"
    }
   ],
   "source": [
    "html_chicago = requests.get(url).text\n",
    "soup_chicago= BeautifulSoup(html_chicago, \"lxml\")\n",
    "soup_chicago.title"
   ]
  },
  {
   "cell_type": "code",
   "execution_count": 3,
   "metadata": {},
   "outputs": [
    {
     "data": {
      "text/plain": [
       "[<b>BLT</b>,\n",
       " <b>Fried Bologna</b>,\n",
       " <b>Woodland Mushroom</b>,\n",
       " <b>Roast Beef</b>,\n",
       " <b>PB&amp;L</b>,\n",
       " <b>Belgian Chicken Curry Salad</b>,\n",
       " <b>Lobster Roll</b>,\n",
       " <b>Smoked Salmon Salad</b>,\n",
       " <b>Atomica Cemitas</b>,\n",
       " <b>Grilled Laughing Bird Shrimp and Fried Po’ Boy</b>]"
      ]
     },
     "execution_count": 3,
     "metadata": {},
     "output_type": "execute_result"
    }
   ],
   "source": [
    "menues = soup_chicago.select('div.sammyListing a b')\n",
    "len(menues)\n",
    "menues[:10]"
   ]
  },
  {
   "cell_type": "code",
   "execution_count": 4,
   "metadata": {},
   "outputs": [],
   "source": [
    "menu_set = [menu.get_text() for menu in menues]"
   ]
  },
  {
   "cell_type": "code",
   "execution_count": 5,
   "metadata": {},
   "outputs": [
    {
     "data": {
      "text/plain": [
       "'BLT'"
      ]
     },
     "execution_count": 5,
     "metadata": {},
     "output_type": "execute_result"
    }
   ],
   "source": [
    "menu_set[0]"
   ]
  },
  {
   "cell_type": "code",
   "execution_count": 813,
   "metadata": {},
   "outputs": [
    {
     "data": {
      "text/plain": [
       "50"
      ]
     },
     "execution_count": 813,
     "metadata": {},
     "output_type": "execute_result"
    }
   ],
   "source": [
    "ranks = soup_chicago.select('div.sammyRank')\n",
    "len(ranks)"
   ]
  },
  {
   "cell_type": "code",
   "execution_count": 6,
   "metadata": {},
   "outputs": [],
   "source": [
    "titles = soup_chicago.select('div.sammyListing a')"
   ]
  },
  {
   "cell_type": "code",
   "execution_count": 7,
   "metadata": {},
   "outputs": [],
   "source": [
    "titles = [title.get_text().strip() for title in titles]"
   ]
  },
  {
   "cell_type": "code",
   "execution_count": 8,
   "metadata": {},
   "outputs": [
    {
     "data": {
      "text/plain": [
       "'BLT\\r\\nOld Oak Tap\\nRead more'"
      ]
     },
     "execution_count": 8,
     "metadata": {},
     "output_type": "execute_result"
    }
   ],
   "source": [
    "titles[0]"
   ]
  },
  {
   "cell_type": "code",
   "execution_count": 9,
   "metadata": {},
   "outputs": [],
   "source": [
    "title =str(titles).split('\\\\n' or '\\\\r')"
   ]
  },
  {
   "cell_type": "code",
   "execution_count": 16,
   "metadata": {},
   "outputs": [],
   "source": [
    "titles = []\n",
    "for i in range(1,50) :\n",
    "    result = title[2*i -1]\n",
    "    result = str(result).replace(' ','-')\n",
    "    titles.append(result)"
   ]
  },
  {
   "cell_type": "code",
   "execution_count": 17,
   "metadata": {},
   "outputs": [
    {
     "data": {
      "text/plain": [
       "['Old-Oak-Tap',\n",
       " 'Au-Cheval',\n",
       " 'Xoco',\n",
       " 'Al’s-Deli',\n",
       " 'Publican-Quality-Meats',\n",
       " 'Hendrickx-Belgian-Bread-Crafter',\n",
       " 'Acadia',\n",
       " 'Birchwood-Kitchen',\n",
       " 'Cemitas-Puebla',\n",
       " 'Nana',\n",
       " 'Lula-Cafe',\n",
       " 'Ricobene’s',\n",
       " 'Frog-n-Snail',\n",
       " 'Crosby’s-Kitchen',\n",
       " 'Longman-&-Eagle',\n",
       " 'Bari',\n",
       " 'Manny’s',\n",
       " 'Eggy’s',\n",
       " 'Old-Jerusalem',\n",
       " 'Mindy’s-HotChocolate',\n",
       " 'Olga’s-Delicatessen',\n",
       " 'Dawali-Mediterranean-Kitchen',\n",
       " 'Big-Jones',\n",
       " 'La-Pane',\n",
       " 'Pastoral',\n",
       " 'Max’s-Deli',\n",
       " 'Lucky’s-Sandwich-Co.',\n",
       " 'City-Provisions',\n",
       " 'Papa’s-Cache-Sabroso',\n",
       " 'Bavette’s-Bar-&-Boeuf',\n",
       " 'Hannah’s-Bretzel',\n",
       " 'La-Fournette',\n",
       " 'Paramount-Room',\n",
       " 'Melt-Sandwich-Shoppe',\n",
       " 'Floriole-Cafe-&-Bakery',\n",
       " 'First-Slice-Pie-Café',\n",
       " 'Troquet',\n",
       " 'Grahamwich',\n",
       " 'Saigon-Sisters',\n",
       " 'Rosalia’s-Deli',\n",
       " 'Z&H-MarketCafe',\n",
       " 'Market-House-on-the-Square',\n",
       " 'Elaine’s-Coffee-Call',\n",
       " 'Marion-Street-Cheese-Market',\n",
       " 'Cafecito',\n",
       " 'Chickpea',\n",
       " 'The-Goddess-and-Grocer',\n",
       " 'Zenwich',\n",
       " 'Toni-Patisserie']"
      ]
     },
     "execution_count": 17,
     "metadata": {},
     "output_type": "execute_result"
    }
   ],
   "source": [
    "titles"
   ]
  },
  {
   "cell_type": "code",
   "execution_count": 18,
   "metadata": {},
   "outputs": [],
   "source": [
    "links = []\n",
    "\n",
    "site = soup_chicago.find('div', class_ = 'sammyListing')\n",
    "link = site.find('a')\n",
    "link = link['href']\n",
    "links.append(link)"
   ]
  },
  {
   "cell_type": "code",
   "execution_count": 19,
   "metadata": {},
   "outputs": [],
   "source": [
    "links = []\n",
    "site = soup_chicago.select('div.sammyListing a')\n",
    "\n",
    "for idx in range(len(site)):\n",
    "    tmp  = site[idx]\n",
    "    link = tmp['href']\n",
    "    link = 'https://www.chicagomag.com/' + link\n",
    "    \n",
    "    links.append(link)"
   ]
  },
  {
   "cell_type": "code",
   "execution_count": 20,
   "metadata": {},
   "outputs": [
    {
     "data": {
      "text/plain": [
       "['https://www.chicagomag.com//Chicago-Magazine/November-2012/Best-Sandwiches-in-Chicago-Old-Oak-Tap-BLT/',\n",
       " 'https://www.chicagomag.com//Chicago-Magazine/November-2012/Best-Sandwiches-in-Chicago-Au-Cheval-Fried-Bologna/',\n",
       " 'https://www.chicagomag.com//Chicago-Magazine/November-2012/Best-Sandwiches-in-Chicago-Xoco-Woodland-Mushroom/',\n",
       " 'https://www.chicagomag.com//Chicago-Magazine/November-2012/Best-Sandwiches-in-Chicago-Als-Deli-Roast-Beef/',\n",
       " 'https://www.chicagomag.com//Chicago-Magazine/November-2012/Best-Sandwiches-in-Chicago-Publican-Quality-Meats-PB-L/']"
      ]
     },
     "execution_count": 20,
     "metadata": {},
     "output_type": "execute_result"
    }
   ],
   "source": [
    "links[:5]"
   ]
  },
  {
   "cell_type": "code",
   "execution_count": null,
   "metadata": {},
   "outputs": [],
   "source": [
    "titles, menu_set"
   ]
  },
  {
   "cell_type": "code",
   "execution_count": 426,
   "metadata": {},
   "outputs": [
    {
     "data": {
      "text/plain": [
       "<title>\n",
       "  The 50 Best Sandwiches in Chicago |\n",
       "  Chicago magazine\n",
       "      |  November 2012\n",
       "    </title>"
      ]
     },
     "execution_count": 426,
     "metadata": {},
     "output_type": "execute_result"
    }
   ],
   "source": [
    "url"
   ]
  },
  {
   "cell_type": "code",
   "execution_count": 39,
   "metadata": {},
   "outputs": [],
   "source": [
    "def mac(title, menu_set) :\n",
    "    site = soup_chicago.select('div.sammyListing a')\n",
    "    INFO = []\n",
    "    for idx in range(len(site)):\n",
    "        html_set = requests.get(links[idx]).text\n",
    "        soup_set = BeautifulSoup(html_set, 'lxml')\n",
    "\n",
    "        info = soup_set.find('p',class_='addy')\n",
    "        Info = info.get_text()\n",
    "        info = Info.replace('\\n','')\n",
    "        \n",
    "        print(info, '\\n')\n",
    "        INFO.append(info)\n",
    "        \n",
    "    return INFO\n"
   ]
  },
  {
   "cell_type": "code",
   "execution_count": 840,
   "metadata": {},
   "outputs": [],
   "source": [
    "#INFO = []\n",
    "#for j in range(50) :\n",
    "#    info = soup_chicago.find('p',class_='addy')\n",
    "#    Info = info.get_text()\n",
    "#    INfo = Info[i]\n",
    "#    INfo.replace('\\n','')\n",
    "#    INFO.append(Info)"
   ]
  },
  {
   "cell_type": "code",
   "execution_count": 40,
   "metadata": {},
   "outputs": [
    {
     "name": "stdout",
     "output_type": "stream",
     "text": [
      "$10. 2109 W. Chicago Ave., 773-772-0406, theoldoaktap.com \n",
      "\n",
      "$9. 800 W. Randolph St., 312-929-4580, aucheval.tumblr.com \n",
      "\n",
      "$9.50. 445 N. Clark St., 312-334-3688, rickbayless.com \n",
      "\n",
      "$9.40. 914 Noyes St., Evanston, 847-475-9400, alsdeli.net \n",
      "\n",
      "$10. 825 W. Fulton Mkt., 312-445-8977, publicanqualitymeats.com \n",
      "\n"
     ]
    },
    {
     "ename": "AttributeError",
     "evalue": "'NoneType' object has no attribute 'get_text'",
     "output_type": "error",
     "traceback": [
      "\u001b[1;31m---------------------------------------------------------------------------\u001b[0m",
      "\u001b[1;31mAttributeError\u001b[0m                            Traceback (most recent call last)",
      "\u001b[1;32m<ipython-input-40-3079c19b725c>\u001b[0m in \u001b[0;36m<module>\u001b[1;34m\u001b[0m\n\u001b[1;32m----> 1\u001b[1;33m \u001b[0mmac\u001b[0m\u001b[1;33m(\u001b[0m\u001b[0mtitles\u001b[0m\u001b[1;33m,\u001b[0m \u001b[0mmenu_set\u001b[0m\u001b[1;33m)\u001b[0m\u001b[1;33m\u001b[0m\u001b[1;33m\u001b[0m\u001b[0m\n\u001b[0m",
      "\u001b[1;32m<ipython-input-39-a80e1aae3b57>\u001b[0m in \u001b[0;36mmac\u001b[1;34m(title, menu_set)\u001b[0m\n\u001b[0;32m      7\u001b[0m \u001b[1;33m\u001b[0m\u001b[0m\n\u001b[0;32m      8\u001b[0m         \u001b[0minfo\u001b[0m \u001b[1;33m=\u001b[0m \u001b[0msoup_set\u001b[0m\u001b[1;33m.\u001b[0m\u001b[0mfind\u001b[0m\u001b[1;33m(\u001b[0m\u001b[1;34m'p'\u001b[0m\u001b[1;33m,\u001b[0m\u001b[0mclass_\u001b[0m\u001b[1;33m=\u001b[0m\u001b[1;34m'addy'\u001b[0m\u001b[1;33m)\u001b[0m\u001b[1;33m\u001b[0m\u001b[1;33m\u001b[0m\u001b[0m\n\u001b[1;32m----> 9\u001b[1;33m         \u001b[0mInfo\u001b[0m \u001b[1;33m=\u001b[0m \u001b[0minfo\u001b[0m\u001b[1;33m.\u001b[0m\u001b[0mget_text\u001b[0m\u001b[1;33m(\u001b[0m\u001b[1;33m)\u001b[0m\u001b[1;33m\u001b[0m\u001b[1;33m\u001b[0m\u001b[0m\n\u001b[0m\u001b[0;32m     10\u001b[0m         \u001b[0minfo\u001b[0m \u001b[1;33m=\u001b[0m \u001b[0mInfo\u001b[0m\u001b[1;33m.\u001b[0m\u001b[0mreplace\u001b[0m\u001b[1;33m(\u001b[0m\u001b[1;34m'\\n'\u001b[0m\u001b[1;33m,\u001b[0m\u001b[1;34m''\u001b[0m\u001b[1;33m)\u001b[0m\u001b[1;33m\u001b[0m\u001b[1;33m\u001b[0m\u001b[0m\n\u001b[0;32m     11\u001b[0m \u001b[1;33m\u001b[0m\u001b[0m\n",
      "\u001b[1;31mAttributeError\u001b[0m: 'NoneType' object has no attribute 'get_text'"
     ]
    }
   ],
   "source": [
    "mac(titles, menu_set)"
   ]
  },
  {
   "cell_type": "markdown",
   "metadata": {},
   "source": [
    ">- 돌아가다가 멈춥니다 ㅠㅠ.."
   ]
  },
  {
   "cell_type": "code",
   "execution_count": 778,
   "metadata": {},
   "outputs": [
    {
     "data": {
      "text/plain": [
       "<title>\n",
       "  1. Old Oak Tap BLT |\n",
       "  Chicago magazine\n",
       "      |  November 2012\n",
       "    </title>"
      ]
     },
     "execution_count": 778,
     "metadata": {},
     "output_type": "execute_result"
    }
   ],
   "source": [
    "url =\"https://www.chicagomag.com/Chicago-Magazine/November-2012/Best-Sandwiches-in-Chicago-Old-Oak-Tap-BLT\"\n",
    "html_chicago = requests.get(url).text\n",
    "soup_chicago= BeautifulSoup(html_chicago, \"lxml\")\n",
    "soup_chicago.title"
   ]
  },
  {
   "cell_type": "code",
   "execution_count": 779,
   "metadata": {},
   "outputs": [],
   "source": [
    "info = soup_chicago.find('p',class_='addy')"
   ]
  },
  {
   "cell_type": "code",
   "execution_count": 780,
   "metadata": {},
   "outputs": [
    {
     "data": {
      "text/plain": [
       "<p class=\"addy\">\n",
       "<em>$10. 2109 W. Chicago Ave., 773-772-0406, <a href=\"http://www.theoldoaktap.com/\">theoldoaktap.com</a></em></p>"
      ]
     },
     "execution_count": 780,
     "metadata": {},
     "output_type": "execute_result"
    }
   ],
   "source": [
    "info"
   ]
  },
  {
   "cell_type": "code",
   "execution_count": 781,
   "metadata": {},
   "outputs": [],
   "source": [
    "Info = info.get_text()"
   ]
  },
  {
   "cell_type": "code",
   "execution_count": null,
   "metadata": {},
   "outputs": [],
   "source": [
    "Info"
   ]
  },
  {
   "cell_type": "code",
   "execution_count": null,
   "metadata": {},
   "outputs": [],
   "source": [
    "Info.replace('\\n','')"
   ]
  }
 ],
 "metadata": {
  "kernelspec": {
   "display_name": "Python 3",
   "language": "python",
   "name": "python3"
  },
  "language_info": {
   "codemirror_mode": {
    "name": "ipython",
    "version": 3
   },
   "file_extension": ".py",
   "mimetype": "text/x-python",
   "name": "python",
   "nbconvert_exporter": "python",
   "pygments_lexer": "ipython3",
   "version": "3.7.3"
  }
 },
 "nbformat": 4,
 "nbformat_minor": 2
}
