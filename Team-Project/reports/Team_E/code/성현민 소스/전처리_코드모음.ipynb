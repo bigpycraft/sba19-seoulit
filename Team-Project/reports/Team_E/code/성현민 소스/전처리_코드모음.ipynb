{
 "cells": [
  {
   "cell_type": "code",
   "execution_count": null,
   "metadata": {},
   "outputs": [],
   "source": [
    "import pandas as pd\n",
    "# from IPython.display import Image \n",
    "# from lxml import html\n",
    "from collections import Counter\n",
    "# from urllib.request import urlopen\n",
    "from konlpy.tag import Hannanum\n",
    "from tqdm import tqdm_notebook\n",
    "\n",
    "# import sys\n",
    "import random\n",
    "# import webbrowser\n",
    "import pytagcloud "
   ]
  },
  {
   "cell_type": "code",
   "execution_count": null,
   "metadata": {},
   "outputs": [],
   "source": []
  },
  {
   "cell_type": "markdown",
   "metadata": {},
   "source": [
    "### 데이터프레임의 내용 컬럼에 있는 글을 명사별로 나눠주고 갯수를 파악"
   ]
  },
  {
   "cell_type": "code",
   "execution_count": null,
   "metadata": {},
   "outputs": [],
   "source": [
    "def get_tags(text, ntags=50):\n",
    "    hannanum = Hannanum()\n",
    "    columns = ['tag','size']\n",
    "    Result = pd.DataFrame(columns=columns)\n",
    "    for i in tqdm_notebook(range(len(text))):\n",
    "#         print(text['제목'][i])\n",
    "        nouns = hannanum.nouns(text['내용'][i])\n",
    "        count = Counter(nouns)\n",
    "        for n , c in count. most_common(ntags):\n",
    "            total_df = pd.DataFrame({'tag':[n],'size':[c]})\n",
    "        \n",
    "            Result=pd.concat([Result, total_df])\n",
    "    Result.reset_index(inplace=True)\n",
    "    Result=Result.drop('index',axis=1)\n",
    "    return Result"
   ]
  },
  {
   "cell_type": "markdown",
   "metadata": {},
   "source": [
    "### tag 컬럼에 있는 불용어 삭제"
   ]
  },
  {
   "cell_type": "code",
   "execution_count": null,
   "metadata": {},
   "outputs": [],
   "source": [
    "def del_word(df,stopword):\n",
    "    for i,j in tqdm_notebook(enumerate(df.tag)):\n",
    "        if j in stopword:\n",
    "#             print(j)\n",
    "            df.drop(i,inplace=True)\n",
    "    df.reset_index(inplace=True)\n",
    "    df.drop('index',axis=1,inplace=True)\n",
    "    return df\n"
   ]
  }
 ],
 "metadata": {
  "kernelspec": {
   "display_name": "Python 3",
   "language": "python",
   "name": "python3"
  },
  "language_info": {
   "codemirror_mode": {
    "name": "ipython",
    "version": 3
   },
   "file_extension": ".py",
   "mimetype": "text/x-python",
   "name": "python",
   "nbconvert_exporter": "python",
   "pygments_lexer": "ipython3",
   "version": "3.7.3"
  }
 },
 "nbformat": 4,
 "nbformat_minor": 2
}
