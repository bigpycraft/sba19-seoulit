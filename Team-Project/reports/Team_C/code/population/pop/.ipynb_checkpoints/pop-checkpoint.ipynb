{
 "cells": [
  {
   "cell_type": "markdown",
   "metadata": {},
   "source": [
    "# 고령화비율\n",
    "# 빈곤노인비율\n",
    "# OECD"
   ]
  },
  {
   "cell_type": "code",
   "execution_count": 3,
   "metadata": {},
   "outputs": [],
   "source": [
    "import platform\n",
    "import itertools\n",
    "import numpy as np\n",
    "import pandas as pd\n",
    "import matplotlib.pyplot as plt\n",
    "import re\n",
    "\n",
    "from matplotlib import font_manager, rc\n",
    "font_name = font_manager.FontProperties(fname=\"c:/Windows/Fonts/malgun.ttf\").get_name()\n",
    "rc('font', family=font_name)\n",
    "\n",
    "%matplotlib inline\n",
    "plt.rcParams[\"figure.figsize\"] = [12,6]"
   ]
  },
  {
   "cell_type": "code",
   "execution_count": 4,
   "metadata": {},
   "outputs": [],
   "source": [
    "def from_iterable(iterables):\n",
    "    # chain.from_iterable(['ABC', 'DEF']) --> ['A', 'B', 'C', 'D', 'E', 'F']\n",
    "    for it in iterables:\n",
    "        for element in it:\n",
    "            yield element"
   ]
  },
  {
   "cell_type": "markdown",
   "metadata": {},
   "source": [
    "#  데이터 전처리\n",
    ">데이터프레임을 시리즈로 뽑아내기"
   ]
  },
  {
   "cell_type": "code",
   "execution_count": 5,
   "metadata": {},
   "outputs": [
    {
     "data": {
      "text/html": [
       "<div>\n",
       "<style scoped>\n",
       "    .dataframe tbody tr th:only-of-type {\n",
       "        vertical-align: middle;\n",
       "    }\n",
       "\n",
       "    .dataframe tbody tr th {\n",
       "        vertical-align: top;\n",
       "    }\n",
       "\n",
       "    .dataframe thead th {\n",
       "        text-align: right;\n",
       "    }\n",
       "</style>\n",
       "<table border=\"1\" class=\"dataframe\">\n",
       "  <thead>\n",
       "    <tr style=\"text-align: right;\">\n",
       "      <th></th>\n",
       "      <th>가정별</th>\n",
       "      <th>인구구조,부양비별</th>\n",
       "      <th>2009</th>\n",
       "      <th>2010</th>\n",
       "      <th>2011</th>\n",
       "      <th>2012</th>\n",
       "      <th>2013</th>\n",
       "      <th>2014</th>\n",
       "      <th>2015</th>\n",
       "      <th>2016</th>\n",
       "      <th>2017</th>\n",
       "      <th>2018</th>\n",
       "    </tr>\n",
       "  </thead>\n",
       "  <tbody>\n",
       "    <tr>\n",
       "      <th>0</th>\n",
       "      <td>중위 추계(기본 추계: 출산율-중위 / 기대수명-중위 / 국제순이동-중위)</td>\n",
       "      <td>총인구(명)</td>\n",
       "      <td>49,307,835</td>\n",
       "      <td>49,554,112</td>\n",
       "      <td>49,936,638</td>\n",
       "      <td>50,199,853</td>\n",
       "      <td>50,428,893</td>\n",
       "      <td>50,746,659</td>\n",
       "      <td>51,014,947</td>\n",
       "      <td>51,217,803</td>\n",
       "      <td>51,361,911</td>\n",
       "      <td>51,606,633</td>\n",
       "    </tr>\n",
       "    <tr>\n",
       "      <th>1</th>\n",
       "      <td>NaN</td>\n",
       "      <td>남자(명)</td>\n",
       "      <td>24,774,341</td>\n",
       "      <td>24,881,114</td>\n",
       "      <td>25,069,867</td>\n",
       "      <td>25,187,380</td>\n",
       "      <td>25,285,319</td>\n",
       "      <td>25,445,077</td>\n",
       "      <td>25,585,894</td>\n",
       "      <td>25,670,949</td>\n",
       "      <td>25,736,793</td>\n",
       "      <td>25,863,502</td>\n",
       "    </tr>\n",
       "    <tr>\n",
       "      <th>2</th>\n",
       "      <td>NaN</td>\n",
       "      <td>여자(명)</td>\n",
       "      <td>24,533,494</td>\n",
       "      <td>24,672,998</td>\n",
       "      <td>24,866,771</td>\n",
       "      <td>25,012,473</td>\n",
       "      <td>25,143,574</td>\n",
       "      <td>25,301,582</td>\n",
       "      <td>25,429,053</td>\n",
       "      <td>25,546,854</td>\n",
       "      <td>25,625,118</td>\n",
       "      <td>25,743,131</td>\n",
       "    </tr>\n",
       "    <tr>\n",
       "      <th>3</th>\n",
       "      <td>NaN</td>\n",
       "      <td>성비(여자1백명당)</td>\n",
       "      <td>101.0</td>\n",
       "      <td>100.8</td>\n",
       "      <td>100.8</td>\n",
       "      <td>100.7</td>\n",
       "      <td>100.6</td>\n",
       "      <td>100.6</td>\n",
       "      <td>100.6</td>\n",
       "      <td>100.5</td>\n",
       "      <td>100.4</td>\n",
       "      <td>100.5</td>\n",
       "    </tr>\n",
       "    <tr>\n",
       "      <th>4</th>\n",
       "      <td>NaN</td>\n",
       "      <td>인구성장률</td>\n",
       "      <td>0.51</td>\n",
       "      <td>0.50</td>\n",
       "      <td>0.77</td>\n",
       "      <td>0.53</td>\n",
       "      <td>0.46</td>\n",
       "      <td>0.63</td>\n",
       "      <td>0.53</td>\n",
       "      <td>0.40</td>\n",
       "      <td>0.28</td>\n",
       "      <td>0.48</td>\n",
       "    </tr>\n",
       "    <tr>\n",
       "      <th>5</th>\n",
       "      <td>NaN</td>\n",
       "      <td>인구(명): 0-14세</td>\n",
       "      <td>8,229,264</td>\n",
       "      <td>7,979,439</td>\n",
       "      <td>7,771,460</td>\n",
       "      <td>7,577,231</td>\n",
       "      <td>7,392,237</td>\n",
       "      <td>7,213,693</td>\n",
       "      <td>7,029,883</td>\n",
       "      <td>6,864,563</td>\n",
       "      <td>6,724,283</td>\n",
       "      <td>6,589,388</td>\n",
       "    </tr>\n",
       "    <tr>\n",
       "      <th>6</th>\n",
       "      <td>NaN</td>\n",
       "      <td>인구(명): 15-64세</td>\n",
       "      <td>35,901,685</td>\n",
       "      <td>36,208,564</td>\n",
       "      <td>36,649,999</td>\n",
       "      <td>36,855,893</td>\n",
       "      <td>37,013,997</td>\n",
       "      <td>37,255,840</td>\n",
       "      <td>37,443,896</td>\n",
       "      <td>37,596,157</td>\n",
       "      <td>37,571,568</td>\n",
       "      <td>37,645,085</td>\n",
       "    </tr>\n",
       "    <tr>\n",
       "      <th>7</th>\n",
       "      <td>NaN</td>\n",
       "      <td>인구(명): 65세 이상</td>\n",
       "      <td>5,176,886</td>\n",
       "      <td>5,366,109</td>\n",
       "      <td>5,515,179</td>\n",
       "      <td>5,766,729</td>\n",
       "      <td>6,022,659</td>\n",
       "      <td>6,277,126</td>\n",
       "      <td>6,541,168</td>\n",
       "      <td>6,757,083</td>\n",
       "      <td>7,066,060</td>\n",
       "      <td>7,372,160</td>\n",
       "    </tr>\n",
       "    <tr>\n",
       "      <th>8</th>\n",
       "      <td>NaN</td>\n",
       "      <td>- 구성비(%): 0-14세</td>\n",
       "      <td>16.7</td>\n",
       "      <td>16.1</td>\n",
       "      <td>15.6</td>\n",
       "      <td>15.1</td>\n",
       "      <td>14.7</td>\n",
       "      <td>14.2</td>\n",
       "      <td>13.8</td>\n",
       "      <td>13.4</td>\n",
       "      <td>13.1</td>\n",
       "      <td>12.8</td>\n",
       "    </tr>\n",
       "    <tr>\n",
       "      <th>9</th>\n",
       "      <td>NaN</td>\n",
       "      <td>- 구성비(%): 15-64세</td>\n",
       "      <td>72.8</td>\n",
       "      <td>73.1</td>\n",
       "      <td>73.4</td>\n",
       "      <td>73.4</td>\n",
       "      <td>73.4</td>\n",
       "      <td>73.4</td>\n",
       "      <td>73.4</td>\n",
       "      <td>73.4</td>\n",
       "      <td>73.2</td>\n",
       "      <td>72.9</td>\n",
       "    </tr>\n",
       "  </tbody>\n",
       "</table>\n",
       "</div>"
      ],
      "text/plain": [
       "                                         가정별         인구구조,부양비별        2009  \\\n",
       "0  중위 추계(기본 추계: 출산율-중위 / 기대수명-중위 / 국제순이동-중위)            총인구(명)  49,307,835   \n",
       "1                                        NaN             남자(명)  24,774,341   \n",
       "2                                        NaN             여자(명)  24,533,494   \n",
       "3                                        NaN        성비(여자1백명당)       101.0   \n",
       "4                                        NaN             인구성장률        0.51   \n",
       "5                                        NaN      인구(명): 0-14세   8,229,264   \n",
       "6                                        NaN     인구(명): 15-64세  35,901,685   \n",
       "7                                        NaN     인구(명): 65세 이상   5,176,886   \n",
       "8                                        NaN   - 구성비(%): 0-14세        16.7   \n",
       "9                                        NaN  - 구성비(%): 15-64세        72.8   \n",
       "\n",
       "         2010        2011        2012        2013        2014        2015  \\\n",
       "0  49,554,112  49,936,638  50,199,853  50,428,893  50,746,659  51,014,947   \n",
       "1  24,881,114  25,069,867  25,187,380  25,285,319  25,445,077  25,585,894   \n",
       "2  24,672,998  24,866,771  25,012,473  25,143,574  25,301,582  25,429,053   \n",
       "3       100.8       100.8       100.7       100.6       100.6       100.6   \n",
       "4        0.50        0.77        0.53        0.46        0.63        0.53   \n",
       "5   7,979,439   7,771,460   7,577,231   7,392,237   7,213,693   7,029,883   \n",
       "6  36,208,564  36,649,999  36,855,893  37,013,997  37,255,840  37,443,896   \n",
       "7   5,366,109   5,515,179   5,766,729   6,022,659   6,277,126   6,541,168   \n",
       "8        16.1        15.6        15.1        14.7        14.2        13.8   \n",
       "9        73.1        73.4        73.4        73.4        73.4        73.4   \n",
       "\n",
       "         2016        2017        2018  \n",
       "0  51,217,803  51,361,911  51,606,633  \n",
       "1  25,670,949  25,736,793  25,863,502  \n",
       "2  25,546,854  25,625,118  25,743,131  \n",
       "3       100.5       100.4       100.5  \n",
       "4        0.40        0.28        0.48  \n",
       "5   6,864,563   6,724,283   6,589,388  \n",
       "6  37,596,157  37,571,568  37,645,085  \n",
       "7   6,757,083   7,066,060   7,372,160  \n",
       "8        13.4        13.1        12.8  \n",
       "9        73.4        73.2        72.9  "
      ]
     },
     "execution_count": 5,
     "metadata": {},
     "output_type": "execute_result"
    }
   ],
   "source": [
    "df = pd.read_csv('pop.csv',encoding='utf-8')\n",
    "df.head(10)"
   ]
  },
  {
   "cell_type": "code",
   "execution_count": 6,
   "metadata": {},
   "outputs": [],
   "source": [
    "#전체인구"
   ]
  },
  {
   "cell_type": "code",
   "execution_count": 7,
   "metadata": {},
   "outputs": [
    {
     "data": {
      "text/html": [
       "<div>\n",
       "<style scoped>\n",
       "    .dataframe tbody tr th:only-of-type {\n",
       "        vertical-align: middle;\n",
       "    }\n",
       "\n",
       "    .dataframe tbody tr th {\n",
       "        vertical-align: top;\n",
       "    }\n",
       "\n",
       "    .dataframe thead th {\n",
       "        text-align: right;\n",
       "    }\n",
       "</style>\n",
       "<table border=\"1\" class=\"dataframe\">\n",
       "  <thead>\n",
       "    <tr style=\"text-align: right;\">\n",
       "      <th></th>\n",
       "      <th>0</th>\n",
       "    </tr>\n",
       "  </thead>\n",
       "  <tbody>\n",
       "    <tr>\n",
       "      <th>2009</th>\n",
       "      <td>49,307,835</td>\n",
       "    </tr>\n",
       "    <tr>\n",
       "      <th>2010</th>\n",
       "      <td>49,554,112</td>\n",
       "    </tr>\n",
       "    <tr>\n",
       "      <th>2011</th>\n",
       "      <td>49,936,638</td>\n",
       "    </tr>\n",
       "    <tr>\n",
       "      <th>2012</th>\n",
       "      <td>50,199,853</td>\n",
       "    </tr>\n",
       "    <tr>\n",
       "      <th>2013</th>\n",
       "      <td>50,428,893</td>\n",
       "    </tr>\n",
       "    <tr>\n",
       "      <th>2014</th>\n",
       "      <td>50,746,659</td>\n",
       "    </tr>\n",
       "    <tr>\n",
       "      <th>2015</th>\n",
       "      <td>51,014,947</td>\n",
       "    </tr>\n",
       "    <tr>\n",
       "      <th>2016</th>\n",
       "      <td>51,217,803</td>\n",
       "    </tr>\n",
       "    <tr>\n",
       "      <th>2017</th>\n",
       "      <td>51,361,911</td>\n",
       "    </tr>\n",
       "    <tr>\n",
       "      <th>2018</th>\n",
       "      <td>51,606,633</td>\n",
       "    </tr>\n",
       "  </tbody>\n",
       "</table>\n",
       "</div>"
      ],
      "text/plain": [
       "               0\n",
       "2009  49,307,835\n",
       "2010  49,554,112\n",
       "2011  49,936,638\n",
       "2012  50,199,853\n",
       "2013  50,428,893\n",
       "2014  50,746,659\n",
       "2015  51,014,947\n",
       "2016  51,217,803\n",
       "2017  51,361,911\n",
       "2018  51,606,633"
      ]
     },
     "execution_count": 7,
     "metadata": {},
     "output_type": "execute_result"
    }
   ],
   "source": [
    "pop = df.iloc[0,2:13]\n",
    "pop = pd.DataFrame(pop)\n",
    "pop"
   ]
  },
  {
   "cell_type": "code",
   "execution_count": 8,
   "metadata": {},
   "outputs": [
    {
     "data": {
      "text/plain": [
       "['49307835',\n",
       " '49554112',\n",
       " '49936638',\n",
       " '50199853',\n",
       " '50428893',\n",
       " '50746659',\n",
       " '51014947',\n",
       " '51217803',\n",
       " '51361911',\n",
       " '51606633']"
      ]
     },
     "execution_count": 8,
     "metadata": {},
     "output_type": "execute_result"
    }
   ],
   "source": [
    "popdata = pop.values.tolist()\n",
    "popdata = list(itertools.chain.from_iterable(popdata))\n",
    "popdata = [w.replace(',', '') for w in popdata]\n",
    "popdata"
   ]
  },
  {
   "cell_type": "code",
   "execution_count": 9,
   "metadata": {},
   "outputs": [
    {
     "data": {
      "text/plain": [
       "[49307835.0,\n",
       " 49554112.0,\n",
       " 49936638.0,\n",
       " 50199853.0,\n",
       " 50428893.0,\n",
       " 50746659.0,\n",
       " 51014947.0,\n",
       " 51217803.0,\n",
       " 51361911.0,\n",
       " 51606633.0]"
      ]
     },
     "execution_count": 9,
     "metadata": {},
     "output_type": "execute_result"
    }
   ],
   "source": [
    "type(popdata[0])\n",
    "popdata = [float(x) for x in popdata]\n",
    "popdata"
   ]
  },
  {
   "cell_type": "code",
   "execution_count": 10,
   "metadata": {},
   "outputs": [],
   "source": [
    "#고령인구"
   ]
  },
  {
   "cell_type": "code",
   "execution_count": 11,
   "metadata": {},
   "outputs": [
    {
     "data": {
      "text/html": [
       "<div>\n",
       "<style scoped>\n",
       "    .dataframe tbody tr th:only-of-type {\n",
       "        vertical-align: middle;\n",
       "    }\n",
       "\n",
       "    .dataframe tbody tr th {\n",
       "        vertical-align: top;\n",
       "    }\n",
       "\n",
       "    .dataframe thead th {\n",
       "        text-align: right;\n",
       "    }\n",
       "</style>\n",
       "<table border=\"1\" class=\"dataframe\">\n",
       "  <thead>\n",
       "    <tr style=\"text-align: right;\">\n",
       "      <th></th>\n",
       "      <th>7</th>\n",
       "    </tr>\n",
       "  </thead>\n",
       "  <tbody>\n",
       "    <tr>\n",
       "      <th>2009</th>\n",
       "      <td>5,176,886</td>\n",
       "    </tr>\n",
       "    <tr>\n",
       "      <th>2010</th>\n",
       "      <td>5,366,109</td>\n",
       "    </tr>\n",
       "    <tr>\n",
       "      <th>2011</th>\n",
       "      <td>5,515,179</td>\n",
       "    </tr>\n",
       "    <tr>\n",
       "      <th>2012</th>\n",
       "      <td>5,766,729</td>\n",
       "    </tr>\n",
       "    <tr>\n",
       "      <th>2013</th>\n",
       "      <td>6,022,659</td>\n",
       "    </tr>\n",
       "    <tr>\n",
       "      <th>2014</th>\n",
       "      <td>6,277,126</td>\n",
       "    </tr>\n",
       "    <tr>\n",
       "      <th>2015</th>\n",
       "      <td>6,541,168</td>\n",
       "    </tr>\n",
       "    <tr>\n",
       "      <th>2016</th>\n",
       "      <td>6,757,083</td>\n",
       "    </tr>\n",
       "    <tr>\n",
       "      <th>2017</th>\n",
       "      <td>7,066,060</td>\n",
       "    </tr>\n",
       "    <tr>\n",
       "      <th>2018</th>\n",
       "      <td>7,372,160</td>\n",
       "    </tr>\n",
       "  </tbody>\n",
       "</table>\n",
       "</div>"
      ],
      "text/plain": [
       "              7\n",
       "2009  5,176,886\n",
       "2010  5,366,109\n",
       "2011  5,515,179\n",
       "2012  5,766,729\n",
       "2013  6,022,659\n",
       "2014  6,277,126\n",
       "2015  6,541,168\n",
       "2016  6,757,083\n",
       "2017  7,066,060\n",
       "2018  7,372,160"
      ]
     },
     "execution_count": 11,
     "metadata": {},
     "output_type": "execute_result"
    }
   ],
   "source": [
    "oldpop = df.iloc[7,2:13]\n",
    "oldpop = pd.DataFrame(oldpop)\n",
    "oldpop"
   ]
  },
  {
   "cell_type": "code",
   "execution_count": 12,
   "metadata": {},
   "outputs": [
    {
     "data": {
      "text/plain": [
       "['5176886',\n",
       " '5366109',\n",
       " '5515179',\n",
       " '5766729',\n",
       " '6022659',\n",
       " '6277126',\n",
       " '6541168',\n",
       " '6757083',\n",
       " '7066060',\n",
       " '7372160']"
      ]
     },
     "execution_count": 12,
     "metadata": {},
     "output_type": "execute_result"
    }
   ],
   "source": [
    "oldpopdata = oldpop.values.tolist()\n",
    "oldpopdata = list(itertools.chain.from_iterable(oldpopdata))\n",
    "oldpopdata = [w.replace(',', '') for w in oldpopdata]\n",
    "oldpopdata"
   ]
  },
  {
   "cell_type": "code",
   "execution_count": 13,
   "metadata": {},
   "outputs": [
    {
     "data": {
      "text/plain": [
       "[5176886.0,\n",
       " 5366109.0,\n",
       " 5515179.0,\n",
       " 5766729.0,\n",
       " 6022659.0,\n",
       " 6277126.0,\n",
       " 6541168.0,\n",
       " 6757083.0,\n",
       " 7066060.0,\n",
       " 7372160.0]"
      ]
     },
     "execution_count": 13,
     "metadata": {},
     "output_type": "execute_result"
    }
   ],
   "source": [
    "type(oldpopdata[0])\n",
    "oldpopdata = [float(x) for x in oldpopdata]\n",
    "oldpopdata"
   ]
  },
  {
   "cell_type": "code",
   "execution_count": 67,
   "metadata": {},
   "outputs": [
    {
     "data": {
      "text/plain": [
       "0.14285295458047031"
      ]
     },
     "execution_count": 67,
     "metadata": {},
     "output_type": "execute_result"
    }
   ],
   "source": [
    "7372160/51606633"
   ]
  },
  {
   "cell_type": "code",
   "execution_count": 14,
   "metadata": {},
   "outputs": [],
   "source": [
    "#그래프만들기"
   ]
  },
  {
   "cell_type": "code",
   "execution_count": 60,
   "metadata": {},
   "outputs": [],
   "source": [
    "COLOR = 'red'\n",
    "plt.rcParams['text.color'] = COLOR\n",
    "plt.rcParams['axes.labelcolor'] = COLOR\n",
    "plt.rcParams['xtick.color'] = COLOR\n",
    "plt.rcParams['ytick.color'] = COLOR"
   ]
  },
  {
   "cell_type": "code",
   "execution_count": 72,
   "metadata": {},
   "outputs": [
    {
     "data": {
      "image/png": "[encoded data removed]",
      "text/plain": [
       "<Figure size 1800x1008 with 1 Axes>"
      ]
     },
     "metadata": {
      "needs_background": "light"
     },
     "output_type": "display_data"
    }
   ],
   "source": [
    "t = np.arange(0,10)\n",
    "plt.figure(figsize=(25,14))\n",
    "plt.bar(t,oldpopdata, color='pink', width=0.45 ,label='Aged')\n",
    "plt.bar(t,popdata,    color='pink', alpha=0.4, width=0.45, label='Population')\n",
    "plt.xlabel('Population Aging', fontsize=20)\n",
    "plt.xticks(t, ('2009','2010','2011','2012','2013','2014','2015','2016','2017','2018'), fontsize=20)\n",
    "plt.text(8.75, 6500000, '14%', fontsize = 45)\n",
    "plt.ylim(1, 10000000)\n",
    "plt.legend(fontsize=20, loc = 'upper left')\n",
    "plt.show()"
   ]
  },
  {
   "cell_type": "code",
   "execution_count": null,
   "metadata": {},
   "outputs": [],
   "source": []
  }
 ],
 "metadata": {
  "kernelspec": {
   "display_name": "Python 3",
   "language": "python",
   "name": "python3"
  },
  "language_info": {
   "codemirror_mode": {
    "name": "ipython",
    "version": 3
   },
   "file_extension": ".py",
   "mimetype": "text/x-python",
   "name": "python",
   "nbconvert_exporter": "python",
   "pygments_lexer": "ipython3",
   "version": "3.7.3"
  }
 },
 "nbformat": 4,
 "nbformat_minor": 2
}
